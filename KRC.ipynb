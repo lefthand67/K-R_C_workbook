{
 "cells": [
  {
   "cell_type": "markdown",
   "id": "8aac0be7-dfc1-4c56-81fb-e22d4a798788",
   "metadata": {},
   "source": [
    "# THE C PROGRAMMING LANGUAGE \n",
    "\n",
    "by Brian W. Kernighan and Dennis M. Ritchie (1988)"
   ]
  },
  {
   "cell_type": "markdown",
   "id": "5b889f61-f4aa-4ae6-9c9a-fe728eeb2e69",
   "metadata": {
    "tags": []
   },
   "source": [
    "C retains the basic philosophy that \n",
    "\n",
    "> programmers know what they are doing; it only requires that they state their intentions explicitly"
   ]
  },
  {
   "cell_type": "markdown",
   "id": "160ac705-0375-49a2-926f-7bf7075a69fe",
   "metadata": {},
   "source": [
    "**Additional resources**\n",
    "\n",
    "1. [The C Programming Language: A Very Brief Introduction](https://www.linfo.org/c.html) (LINFO)\n",
    "\n",
    "1. \"C Programming: A Modern Approach\" by K.N. King - This book is often recommended as a modern alternative to Kernighan and Ritchie's book. It covers C programming in a clear and comprehensive manner, and also includes modern practices and techniques.\n",
    "\n",
    "1. \"The C Programming Language\" (2nd Edition) by Brian W. Kernighan and Dennis M. Ritchie - This is an updated version of the original book, which includes the ANSI C standard as well as new material on the C99 standard. It's a great choice if you want to stick with the same authors and writing style.\n",
    "\n",
    "1. \"Head First C\" by David Griffiths and Dawn Griffiths - This book takes a unique and engaging approach to teaching C programming, and covers modern C language features and best practices."
   ]
  },
  {
   "cell_type": "markdown",
   "id": "60b1e7e9-588c-4a5b-9617-c81bbe755a35",
   "metadata": {},
   "source": [
    "# <b>0. Introduction</b>"
   ]
  },
  {
   "cell_type": "markdown",
   "id": "436f8d7b-a328-48b7-8d9a-cb4d9c7e8f9a",
   "metadata": {},
   "source": [
    "Many of the important ideas of C stem from the language BCPL, developed by Martin Richards. The influence of BCPL on C proceeded indirectly through the language B, which was written by Ken Thompson in 1970 for the first UNIX system on the DEC PDP−7.\n",
    "\n",
    "BCPL and B are **typeless** languages. By contrast, C provides a variety of data types. The fundamental types are characters, and integers and floating point numbers of several sizes. In addition, there is a hierarchy of derived data types created with pointers, arrays, structures and unions. Expressions are formed from operators and operands; any expression, including an assignment or a function call, can be a statement. Pointers provide for machine−independent address arithmetic."
   ]
  },
  {
   "cell_type": "markdown",
   "id": "2268ad49-856f-4fd8-a13f-9df3b538bb07",
   "metadata": {},
   "source": [
    "## Control Flow"
   ]
  },
  {
   "cell_type": "markdown",
   "id": "4bbe7d57-2406-4d79-ad3e-fe6f64a24d65",
   "metadata": {},
   "source": [
    "C provides the fundamental control−flow constructions required for well−structured programs: \n",
    "- statement grouping, \n",
    "- decision making (if−else), \n",
    "- selecting one of a set of possible values (switch), \n",
    "- looping with the termination test \n",
    "    - at the top (while, for) or \n",
    "    - at the bottom (do), and \n",
    "- early loop exit (break)."
   ]
  },
  {
   "cell_type": "markdown",
   "id": "9e7092dd-fbcd-438f-8ea9-b50a193f7d7e",
   "metadata": {},
   "source": [
    "## Functions"
   ]
  },
  {
   "cell_type": "markdown",
   "id": "01b7a25c-29ff-435a-8b01-90113d0738b2",
   "metadata": {},
   "source": [
    "Functions may return values of \n",
    "- basic types, \n",
    "- structures, \n",
    "- unions, or \n",
    "- pointers. \n",
    "\n",
    "Any function may be called recursively. \n",
    "\n",
    "Local variables are typically **automatic**, or created anew with each invocation. Function definitions may not be nested but variables may be declared in a block−structured fashion. \n",
    "\n",
    "The functions of a C program may exist in separate source files that are compiled separately. \n",
    "\n",
    "Variables may be \n",
    "- internal to a function, \n",
    "- external but known only within a single source file, or \n",
    "- visible to the entire program.\n",
    "\n",
    "A preprocessing step performs \n",
    "- macro substitution on program text, \n",
    "- inclusion of other source files, and \n",
    "- conditional compilation."
   ]
  },
  {
   "cell_type": "markdown",
   "id": "9d3a4fc4-7669-46a3-aa42-99b250698e14",
   "metadata": {},
   "source": [
    "## Low-level language"
   ]
  },
  {
   "cell_type": "markdown",
   "id": "177dd192-bff9-46be-b158-cf33d0fa8756",
   "metadata": {},
   "source": [
    "C is a relatively **low−level** language. This characterization is not pejorative; it simply means that C deals with the same sort of objects that most computers do, namely \n",
    "- characters, \n",
    "- numbers, and \n",
    "- addresses. \n",
    "\n",
    "These may be combined and moved about with the arithmetic and logical operators implemented by real machines.\n",
    "\n",
    "C provides no operations to deal directly with composite objects such as \n",
    "- character strings, \n",
    "- sets, \n",
    "- lists or \n",
    "- arrays. \n",
    "\n",
    "There are no operations that manipulate an entire array or string, although structures may be copied as a unit. \n",
    "\n",
    "The language does not define any storage allocation facility other than static definition and the stack discipline provided by the local variables of functions; there is no heap or garbage collection. \n",
    "\n",
    "Finally, C itself provides no input/output facilities; there are no `READ` or `WRITE` statements, and no built−in file access methods. All of these higher−level mechanisms must be provided by explicitly called functions. Most C implementations have included a reasonably standard collection of such functions.\n",
    "\n",
    "Similarly, C offers only straightforward, single−thread control flow: \n",
    "- tests, \n",
    "- loops, \n",
    "- grouping, and \n",
    "- subprograms, \n",
    "\n",
    "but not multiprogramming, parallel operations, synchronization, or coroutines.\n",
    "\n",
    "Since C is relatively small, it can be described in small space, and learned quickly. A programmer can reasonably expect to know and understand and indeed regularly use the entire language."
   ]
  },
  {
   "cell_type": "markdown",
   "id": "0248c90f-338f-488f-a5c2-5e714e618179",
   "metadata": {},
   "source": [
    "### Heap"
   ]
  },
  {
   "cell_type": "markdown",
   "id": "c1db3291-2553-4180-80e4-8188e4b65959",
   "metadata": {},
   "source": [
    "ChatGPT:\n",
    "\n",
    "In the context of programming, the \"heap\" refers to a section of a computer's memory where dynamic memory allocation occurs. When a program needs to allocate memory at runtime (i.e., when the size of the memory needed is not known until the program is running), it will typically request memory from the heap.\n",
    "\n",
    "In languages with manual memory management, such as C, the programmer is responsible for allocating and freeing memory from the heap. This means that the programmer must explicitly request memory from the heap when it is needed and also release it when it is no longer required to prevent memory leaks.\n",
    "\n",
    "In contrast, languages with garbage collection, such as Java or C#, automatically manage memory allocation and deallocation for the programmer, freeing them from the responsibility of explicitly releasing memory. This helps to prevent memory leaks and makes memory management less error-prone.\n",
    "\n",
    "So when Kernighan and Ritchie said that \"there is no heap or garbage collection\" in C, they meant that memory management in C is manual, and the programmer must handle memory allocation and deallocation for dynamic memory themselves."
   ]
  },
  {
   "cell_type": "markdown",
   "id": "fa3d14af-ca91-4bcd-ab5c-bb6d5b4b15b7",
   "metadata": {},
   "source": [
    "# <b>1. A Tutorial Introduction</b>"
   ]
  },
  {
   "cell_type": "markdown",
   "id": "bd37b094-21aa-4f4b-93a6-e678b7b148fd",
   "metadata": {
    "jp-MarkdownHeadingCollapsed": true
   },
   "source": [
    "## 1.1 Hello, world!"
   ]
  },
  {
   "cell_type": "code",
   "execution_count": 1,
   "id": "ae517ff3-775c-4a6c-8a34-3c0e22e1e34d",
   "metadata": {
    "execution": {
     "iopub.execute_input": "2024-01-16T20:04:23.385690Z",
     "iopub.status.busy": "2024-01-16T20:04:23.385337Z",
     "iopub.status.idle": "2024-01-16T20:04:23.466463Z",
     "shell.execute_reply": "2024-01-16T20:04:23.465372Z",
     "shell.execute_reply.started": "2024-01-16T20:04:23.385662Z"
    },
    "tags": []
   },
   "outputs": [
    {
     "name": "stdout",
     "output_type": "stream",
     "text": [
      "Hello, world!\n"
     ]
    }
   ],
   "source": [
    "#include <stdio.h>\n",
    "\n",
    "int main() {\n",
    "\n",
    "    printf(\"Hello, world!\\n\");\n",
    "    return 0;\n",
    "\n",
    "}"
   ]
  },
  {
   "cell_type": "markdown",
   "id": "e53ab9e0-5069-455b-a96c-39218db04a1b",
   "metadata": {},
   "source": [
    "Ways of compiling in the terminal emulator:\n",
    "\n",
    "```sh\n",
    "cc hello.c\n",
    "# or\n",
    "gcc hello.c\n",
    "\n",
    "./a.out\n",
    "```\n",
    "\n",
    "Or using `clang`:\n",
    "```sh\n",
    "clang hello hello.c\n",
    "./hello\n",
    "```\n",
    "\n",
    "which is more comfortable as you can name the compiled file as you want."
   ]
  },
  {
   "cell_type": "markdown",
   "id": "d8cd7a83-9a2e-42d6-8960-0b24fdcd6ec6",
   "metadata": {},
   "source": [
    "### Escape sequences"
   ]
  },
  {
   "cell_type": "markdown",
   "id": "e9f48976-be6a-40d3-b336-ead259accbf5",
   "metadata": {},
   "source": [
    "|sequence|description|\n",
    "|-|-|\n",
    "|`\\b`|backspace|\n",
    "|`\\?`|question mark|\n",
    "|`\\f`|formfeed|\n",
    "|`\\'`|single quote|\n",
    "|`\\n`|newline|\n",
    "|`\\\"`|double quote|\n",
    "|`\\r`|carriage return|\n",
    "|`\\oo`| octal number|\n",
    "|`\\t`|horizontal tab|\n",
    "|`\\xh`| hexadecimal number|\n",
    "|`\\v`|vertical tab|"
   ]
  },
  {
   "cell_type": "code",
   "execution_count": 4,
   "id": "4771d60a-0f87-4b99-b457-c1d38c49c26c",
   "metadata": {
    "execution": {
     "iopub.execute_input": "2024-01-16T20:04:32.748466Z",
     "iopub.status.busy": "2024-01-16T20:04:32.748011Z",
     "iopub.status.idle": "2024-01-16T20:04:32.805859Z",
     "shell.execute_reply": "2024-01-16T20:04:32.804958Z",
     "shell.execute_reply.started": "2024-01-16T20:04:32.748430Z"
    },
    "tags": []
   },
   "outputs": [
    {
     "name": "stdout",
     "output_type": "stream",
     "text": [
      "Hello,\thorizontal tab!\n",
      "Hellobackspace!\n",
      "Hello,\u000b",
      "vertical tab!\n"
     ]
    }
   ],
   "source": [
    "#include <stdio.h>\n",
    "\n",
    "int main() {\n",
    "\n",
    "    printf(\"Hello,\\thorizontal tab!\\n\");\n",
    "    printf(\"Hello,\\bbackspace!\\n\");\n",
    "    printf(\"Hello,\\vvertical tab!\\n\");\n",
    "    return 0;\n",
    "\n",
    "}"
   ]
  },
  {
   "cell_type": "markdown",
   "id": "34468b69-14f9-4537-8acf-665dd26c7c88",
   "metadata": {},
   "source": [
    "## <a name=\"section_1_2\">1.2 Variables and Arithmetic Expressions</a>"
   ]
  },
  {
   "cell_type": "code",
   "execution_count": 5,
   "id": "faf77c59-4f39-4810-b9f8-5bbb061e5dac",
   "metadata": {
    "execution": {
     "iopub.execute_input": "2024-01-16T20:04:36.976017Z",
     "iopub.status.busy": "2024-01-16T20:04:36.975693Z",
     "iopub.status.idle": "2024-01-16T20:04:37.070938Z",
     "shell.execute_reply": "2024-01-16T20:04:37.069827Z",
     "shell.execute_reply.started": "2024-01-16T20:04:36.975993Z"
    },
    "tags": []
   },
   "outputs": [
    {
     "name": "stdout",
     "output_type": "stream",
     "text": [
      "fahr:\tcelsius:\n",
      "0\t-17\n",
      "20\t-6\n",
      "40\t4\n",
      "60\t15\n",
      "80\t26\n",
      "100\t37\n",
      "120\t48\n",
      "140\t60\n",
      "160\t71\n",
      "180\t82\n",
      "200\t93\n",
      "220\t104\n",
      "240\t115\n",
      "260\t126\n",
      "280\t137\n",
      "300\t148\n"
     ]
    }
   ],
   "source": [
    "#include <stdio.h>\n",
    "\n",
    "/*\n",
    " print Fahrenheit−Celsius table\n",
    "   for fahr = 0, 20, ..., 300\n",
    "*/\n",
    "\n",
    "int main(void)\n",
    "{\n",
    "\tint fahr, celsius;\n",
    "\tint lower, upper, step;\n",
    "\n",
    "\tlower = 0;\t\t// lower limit of temperature scale\n",
    "\tupper = 300;\t// upper limit\n",
    "\tstep = 20;\t\t// step size\n",
    "\n",
    "\tfahr = lower;\n",
    "\tprintf(\"fahr:\\tcelsius:\\n\");\n",
    "\twhile (fahr <= upper)\n",
    "\t{\n",
    "\t\tcelsius = 5 * (fahr - 32) / 9;\n",
    "\t\tprintf(\"%d\\t%d\\n\", fahr, celsius);\n",
    "\t\tfahr += step;\n",
    "\t}\n",
    "}"
   ]
  },
  {
   "cell_type": "markdown",
   "id": "63238856-db54-445e-90c6-38bdb1c40277",
   "metadata": {},
   "source": [
    "### Declaration"
   ]
  },
  {
   "cell_type": "markdown",
   "id": "1b1a6bb3-8fd4-413e-b669-3c459752d9f2",
   "metadata": {},
   "source": [
    "In C, all variables must be declared before they are used, usually at the beginning of the function before any executable statements. A **declaration** announces the properties of variables; it consists of a name and a list of variables, such as \n",
    "```c\n",
    "int fahr, celsius;\n",
    "int lower, upper, step;\n",
    "```"
   ]
  },
  {
   "cell_type": "markdown",
   "id": "d7aebf47-49a4-4b4f-8acb-d39791b9f2c3",
   "metadata": {},
   "source": [
    "#### Types"
   ]
  },
  {
   "cell_type": "markdown",
   "id": "0fbefba0-814f-4180-8abb-9ae4f54d0339",
   "metadata": {},
   "source": [
    "The type `int` means that the variables listed are integers; by contrast with `float`, which means floating point, i.e., numbers that may have a fractional part. The range of both `int` and `float` depends on the machine you are using; 16−bits `int`s, which lie between `−32768` and `+32767`, are common, as are 32−bit `int`s. A `float` number is typically a 32−bit quantity, with at least six significant digits and magnitude generally between about $10^{−38}$ and $10^{38}$."
   ]
  },
  {
   "cell_type": "code",
   "execution_count": 1,
   "id": "51270744-b673-4a47-8c85-554da62a8ade",
   "metadata": {
    "execution": {
     "iopub.execute_input": "2024-01-16T20:04:49.692598Z",
     "iopub.status.busy": "2024-01-16T20:04:49.691739Z",
     "iopub.status.idle": "2024-01-16T20:04:49.699487Z",
     "shell.execute_reply": "2024-01-16T20:04:49.697475Z",
     "shell.execute_reply.started": "2024-01-16T20:04:49.692563Z"
    },
    "tags": []
   },
   "outputs": [
    {
     "name": "stdout",
     "output_type": "stream",
     "text": [
      "1e-38\n",
      "100000000000000000000000000000000000000\n"
     ]
    }
   ],
   "source": [
    "# python\n",
    "print(10 ** (-38))\n",
    "print(10 ** 38)"
   ]
  },
  {
   "cell_type": "markdown",
   "id": "9a468f47-d045-45cf-9609-f054fd23d0e4",
   "metadata": {},
   "source": [
    "C provides several other data types besides `int` and `float`, including:\n",
    "|name|description|\n",
    "|-|-|\n",
    "|`char`| character − a single byte|\n",
    "|`short`| short integer|\n",
    "|`long`| long integer|\n",
    "|`double`| double−precision floating point|\n",
    "\n",
    "The size of these objects is also machine−dependent. There are also `arrays`, `structures` and `unions` of these basic types, `pointers` to them, and `functions` that return them, all of which we will meet in due course."
   ]
  },
  {
   "cell_type": "markdown",
   "id": "fe94205c-1bf1-4ed8-ab4c-44ec6e9d4717",
   "metadata": {},
   "source": [
    "#### `float`"
   ]
  },
  {
   "cell_type": "markdown",
   "id": "41c5c78c-5d72-421e-8332-768ebdbf2082",
   "metadata": {},
   "source": [
    "_ChatGPT:_  \n",
    "The size and range of floating-point numbers in computers are determined by the IEEE 754 standard for floating-point arithmetic. In a 32-bit floating-point representation, the numbers are typically divided into three components: \n",
    "- the sign bit, \n",
    "- the exponent, and \n",
    "- the mantissa (also called the significand).\n",
    "\n",
    "The sign bit determines the sign of the number (positive or negative), while the exponent and mantissa together determine the magnitude and precision of the number. The exponent is used to represent the scale of the number, allowing for a wide range of values, while the mantissa provides the precision necessary for the significant digits.\n",
    "\n",
    "In Python, you can use the `sys.float_info` to get information about the range and precision of floating-point numbers. Let's look at an example:"
   ]
  },
  {
   "cell_type": "code",
   "execution_count": 2,
   "id": "6b867f59-ae82-4d54-b1fc-d753fb51a63c",
   "metadata": {
    "execution": {
     "iopub.execute_input": "2024-01-16T20:05:00.544764Z",
     "iopub.status.busy": "2024-01-16T20:05:00.544303Z",
     "iopub.status.idle": "2024-01-16T20:05:00.556683Z",
     "shell.execute_reply": "2024-01-16T20:05:00.549893Z",
     "shell.execute_reply.started": "2024-01-16T20:05:00.544730Z"
    },
    "tags": []
   },
   "outputs": [
    {
     "name": "stdout",
     "output_type": "stream",
     "text": [
      "sys.float_info(max=1.7976931348623157e+308, max_exp=1024, max_10_exp=308, min=2.2250738585072014e-308, min_exp=-1021, min_10_exp=-307, dig=15, mant_dig=53, epsilon=2.220446049250313e-16, radix=2, rounds=1)\n"
     ]
    }
   ],
   "source": [
    "import sys\n",
    "\n",
    "print(sys.float_info)"
   ]
  },
  {
   "cell_type": "markdown",
   "id": "2d9334d8-7c62-4e2f-b97c-0e42acda0250",
   "metadata": {},
   "source": [
    "This output tells us that the maximum and minimum representable floating-point numbers (64-bit) are in the range of about $10^-308$ to $10^308$. The number of significant digits (`dig`) is 15, and the mantissa digits (`mant_dig`) is 53, which provides the precision necessary for the significant digits.\n",
    "\n",
    "In summary, the large range and precision of 64-bit floating-point numbers are achieved through a combination of the exponent and mantissa components, which allow for a wide range of values with at least six significant digits.\n",
    "\n",
    "There isn't a direct equivalent for `float32` (single precision, 32-bit binary floats in the IEEE 754 standard) in the `sys` module.\n",
    "\n",
    "If you want to obtain similar information for `float32`, you would typically use the `numpy` library, which allows you to work with single-precision floats and provides ways to inspect their properties."
   ]
  },
  {
   "cell_type": "code",
   "execution_count": 3,
   "id": "356c3bf3-abcf-4b3a-91d9-964b734a81c6",
   "metadata": {
    "execution": {
     "iopub.execute_input": "2024-01-16T20:05:03.894091Z",
     "iopub.status.busy": "2024-01-16T20:05:03.893674Z",
     "iopub.status.idle": "2024-01-16T20:05:04.203136Z",
     "shell.execute_reply": "2024-01-16T20:05:04.201071Z",
     "shell.execute_reply.started": "2024-01-16T20:05:03.894060Z"
    },
    "tags": []
   },
   "outputs": [
    {
     "name": "stdout",
     "output_type": "stream",
     "text": [
      "32-bit float information:\n",
      "Maximum float32 value: 3.4028234663852886e+38\n",
      "Minimum positive float32 value: 1.1754943508222875e-38\n",
      "Epsilon for float32: 1.1920928955078125e-07\n",
      "Decimal precision for float32: 6\n",
      "Mantissa digits for float32: 23\n",
      "Maximum exponent for float32: 128\n"
     ]
    }
   ],
   "source": [
    "import numpy as np\n",
    "\n",
    "# The largest positive number representable in 32-bit float\n",
    "float32_max = np.finfo(np.float32).max\n",
    "\n",
    "# The smallest positive number representable in 32-bit float\n",
    "float32_min = np.finfo(np.float32).tiny\n",
    "\n",
    "# The difference between 1 and the least value greater than 1 that is representable in 32-bit float\n",
    "float32_eps = np.finfo(np.float32).eps\n",
    "\n",
    "# The number of decimal digits that can be reliably represented in a 32-bit float (approximate)\n",
    "float32_dig = np.finfo(np.float32).precision\n",
    "\n",
    "# The number of base-10 digits in the mantissa of a 32-bit float\n",
    "float32_mant_dig = np.finfo(np.float32).nmant\n",
    "\n",
    "# The number of bits in the exponent portion of a 32-bit float\n",
    "float32_max_exp = np.finfo(np.float32).maxexp\n",
    "\n",
    "# The actual information display\n",
    "print(\"32-bit float information:\")\n",
    "print(f\"Maximum float32 value: {float32_max}\")\n",
    "print(f\"Minimum positive float32 value: {float32_min}\")\n",
    "print(f\"Epsilon for float32: {float32_eps}\")\n",
    "print(f\"Decimal precision for float32: {float32_dig}\")\n",
    "print(f\"Mantissa digits for float32: {float32_mant_dig}\")\n",
    "print(f\"Maximum exponent for float32: {float32_max_exp}\")"
   ]
  },
  {
   "cell_type": "code",
   "execution_count": 4,
   "id": "718de45d-2892-469b-975a-6ad2bfc925db",
   "metadata": {
    "execution": {
     "iopub.execute_input": "2024-01-16T20:05:15.102424Z",
     "iopub.status.busy": "2024-01-16T20:05:15.101854Z",
     "iopub.status.idle": "2024-01-16T20:05:15.116470Z",
     "shell.execute_reply": "2024-01-16T20:05:15.114790Z",
     "shell.execute_reply.started": "2024-01-16T20:05:15.102378Z"
    },
    "tags": []
   },
   "outputs": [
    {
     "data": {
      "text/plain": [
       "finfo(resolution=1e-06, min=-3.4028235e+38, max=3.4028235e+38, dtype=float32)"
      ]
     },
     "execution_count": 4,
     "metadata": {},
     "output_type": "execute_result"
    }
   ],
   "source": [
    "np.finfo(np.float32)"
   ]
  },
  {
   "cell_type": "markdown",
   "id": "8bb4947f-797e-4361-8817-673cf410b892",
   "metadata": {},
   "source": [
    "### Assignment statements"
   ]
  },
  {
   "cell_type": "markdown",
   "id": "79f71fdd-24f3-41e8-87c6-5765f9560fd1",
   "metadata": {},
   "source": [
    "```c\n",
    "lower = 0;\n",
    "upper = 300;\n",
    "step = 20;\n",
    "```\n",
    "\n",
    "which set the variables to their initial values. Individual statements are terminated by semicolons."
   ]
  },
  {
   "cell_type": "markdown",
   "id": "a058341c-d2cd-4fa5-bbe2-efb4feb99157",
   "metadata": {},
   "source": [
    "### Integer division truncates"
   ]
  },
  {
   "cell_type": "markdown",
   "id": "4f868e5a-be21-43a1-a205-ee8db79bf747",
   "metadata": {},
   "source": [
    "- any fractional part is discarded. \n",
    "\n",
    "Since `5` and `9` are integers, `5/9` would be truncated to `0` and so all the Celsius temperatures would be reported as zero:"
   ]
  },
  {
   "cell_type": "code",
   "execution_count": 1,
   "id": "bc91b801-2f87-4434-8fb9-a0c9875eba60",
   "metadata": {
    "execution": {
     "iopub.execute_input": "2024-01-16T20:05:29.787443Z",
     "iopub.status.busy": "2024-01-16T20:05:29.786628Z",
     "iopub.status.idle": "2024-01-16T20:05:29.891857Z",
     "shell.execute_reply": "2024-01-16T20:05:29.887496Z",
     "shell.execute_reply.started": "2024-01-16T20:05:29.787413Z"
    },
    "tags": []
   },
   "outputs": [
    {
     "name": "stdout",
     "output_type": "stream",
     "text": [
      "0\n"
     ]
    }
   ],
   "source": [
    "#include <stdio.h>\n",
    "\n",
    "int main(void)\n",
    "{\n",
    "    printf(\"%d\\n\", 5/9);\n",
    "}"
   ]
  },
  {
   "cell_type": "markdown",
   "id": "0e7529d7-8a32-4e34-94ba-df915aca6db7",
   "metadata": {},
   "source": [
    "Thus, we must do:\n",
    "\n",
    "```c\n",
    "celsius = 5 * (fahr−32) / 9;\n",
    "```"
   ]
  },
  {
   "cell_type": "markdown",
   "id": "32d27e55-4d87-4f73-b723-5646a20c758c",
   "metadata": {},
   "source": [
    "### Right−justified output"
   ]
  },
  {
   "cell_type": "markdown",
   "id": "fdb05e23-ba62-4c62-9459-c5f6610e9abb",
   "metadata": {},
   "source": [
    "- augment each %d in the printf statement with a width:\n",
    "\n",
    "```c\n",
    "printf(\"%3d %6d\\n\", fahr, celsius);\n",
    "```"
   ]
  },
  {
   "cell_type": "code",
   "execution_count": 3,
   "id": "4d4e5def-e67b-4648-b6c0-aa296aa04a40",
   "metadata": {
    "execution": {
     "iopub.execute_input": "2024-01-16T20:05:39.661124Z",
     "iopub.status.busy": "2024-01-16T20:05:39.660686Z",
     "iopub.status.idle": "2024-01-16T20:05:39.721427Z",
     "shell.execute_reply": "2024-01-16T20:05:39.720397Z",
     "shell.execute_reply.started": "2024-01-16T20:05:39.661088Z"
    },
    "tags": []
   },
   "outputs": [
    {
     "name": "stdout",
     "output_type": "stream",
     "text": [
      "fahr:\tcelsius:\n",
      "   0        -17\n",
      "  20         -6\n",
      "  40          4\n",
      "  60         15\n",
      "  80         26\n",
      " 100         37\n",
      " 120         48\n",
      " 140         60\n",
      " 160         71\n",
      " 180         82\n",
      " 200         93\n"
     ]
    }
   ],
   "source": [
    "#include <stdio.h>\n",
    "\n",
    "\n",
    "int main(void)\n",
    "{\n",
    "\tint fahr, celsius;\n",
    "\tint lower, upper, step;\n",
    "\n",
    "\tlower = 0;\n",
    "\tupper = 300;\n",
    "\tstep = 20;\n",
    "\n",
    "\tfahr = lower;\n",
    "\tprintf(\"fahr:\\tcelsius:\\n\");\n",
    "\twhile (fahr <= upper)\n",
    "\t{\n",
    "\t\tcelsius = 5 * (fahr - 32) / 9;\n",
    "\t\tprintf(\"%4d %10d\\n\", fahr, celsius);\n",
    "\t\tfahr += step;\n",
    "\t}\n",
    "}"
   ]
  },
  {
   "cell_type": "markdown",
   "id": "40cf7cd5-54fd-4849-af99-0b6013c5cc83",
   "metadata": {},
   "source": [
    "###  Floating−point arithmetic"
   ]
  },
  {
   "cell_type": "code",
   "execution_count": 4,
   "id": "a8e8d575-7f67-4473-b4bf-041b71fbce25",
   "metadata": {
    "execution": {
     "iopub.execute_input": "2024-01-16T20:05:45.328112Z",
     "iopub.status.busy": "2024-01-16T20:05:45.327436Z",
     "iopub.status.idle": "2024-01-16T20:05:45.420643Z",
     "shell.execute_reply": "2024-01-16T20:05:45.419497Z",
     "shell.execute_reply.started": "2024-01-16T20:05:45.328078Z"
    },
    "tags": []
   },
   "outputs": [
    {
     "name": "stdout",
     "output_type": "stream",
     "text": [
      "fahr:\tcelsius:\n",
      "   0      -17.8\n",
      "  20       -6.7\n",
      "  40        4.4\n",
      "  60       15.6\n",
      "  80       26.7\n",
      " 100       37.8\n",
      " 120       48.9\n",
      " 140       60.0\n",
      " 160       71.1\n",
      " 180       82.2\n",
      " 200       93.3\n",
      " 220      104.4\n",
      " 240      115.6\n",
      " 260      126.7\n",
      " 280      137.8\n",
      " 300      148.9\n"
     ]
    }
   ],
   "source": [
    "#include <stdio.h>\n",
    "\n",
    "int main(void)\n",
    "{\n",
    "\tfloat fahr, celsius;\n",
    "\tfloat lower, upper, step;\n",
    "\n",
    "\tlower = 0;\n",
    "\tupper = 300;\n",
    "\tstep = 20;\n",
    "\n",
    "\tfahr = lower;\n",
    "\tprintf(\"fahr:\\tcelsius:\\n\");\n",
    "\twhile (fahr <= upper)\n",
    "\t{\n",
    "\t\tcelsius = (5.0/9.0) * (fahr - 32.0);\n",
    "\t\tprintf(\"%4.0f %10.1f\\n\", fahr, celsius);\n",
    "\t\tfahr += step;\n",
    "\t}\n",
    "}"
   ]
  },
  {
   "cell_type": "markdown",
   "id": "6871ee42-44db-47e8-8748-3d9045e6e70b",
   "metadata": {},
   "source": [
    "- If an arithmetic operator has integer operands, an integer operation is performed. \n",
    "- If an arithmetic operator has one floating−point operand and one integer operand, however, the integer will be converted to floating point before the operation is done. \n",
    "\n",
    "If we had written (fahr−32), the 32 would be automatically converted to floating point. Nevertheless, writing floating−point constants with explicit decimal points even when they have integral values emphasizes their floating−point nature for human readers.\n",
    "\n",
    "The `printf` conversion specification `%3.0f` says that a floating−point number (here `fahr`) is to be printed at least three characters wide, with no decimal point and no fraction digits. `%6.1f` describes another number (`celsius`) that is to be printed at least six characters wide, with `1` digit after the decimal point.\n",
    "\n",
    "Width and precision may be omitted from a specification: %6f says that the number is to be at least six characters wide; %.2f specifies two characters after the decimal point, but the width is not constrained; and %f merely says to print the number as floating point.\n",
    "|sequence|description|\n",
    "|-|-|\n",
    "|`%6d`| print as decimal integer, at least 6 characters wide|\n",
    "|`%f`| print as floating point|\n",
    "|`%6f`|  print as floating point, at least 6 characters wide|\n",
    "|`%.2f`|  print as floating point, 2 characters after decimal point|\n",
    "|`%6.2f`| print as floating point, at least 6 wide and 2 after decimal point|"
   ]
  },
  {
   "cell_type": "markdown",
   "id": "fd99de97-ab6a-433a-b2d1-b494987a3a3e",
   "metadata": {},
   "source": [
    "celsius = (5.0/9.0) * (fahr - 32.0)\n",
    "\n",
    "(5.0/9.0) * fahr = (5.0/9.0) * 32.0 + celsius\n",
    "\n",
    "fahr = ((5.0/9.0) * 32.0 + celsius) / (5.0/9.0)\n",
    "\n",
    "fahr = ((5.0/9.0) * 32.0) / (5.0/9.0) + (celsius / (5.0/9.0))\n",
    "\n",
    "fahr = 32.0 + (celsius / (5.0/9.0))"
   ]
  },
  {
   "cell_type": "code",
   "execution_count": 5,
   "id": "c785dbaa-c8ae-48ae-95e1-b3434f80da3f",
   "metadata": {
    "execution": {
     "iopub.execute_input": "2024-01-16T20:05:52.087331Z",
     "iopub.status.busy": "2024-01-16T20:05:52.086591Z",
     "iopub.status.idle": "2024-01-16T20:05:52.184050Z",
     "shell.execute_reply": "2024-01-16T20:05:52.182713Z",
     "shell.execute_reply.started": "2024-01-16T20:05:52.087277Z"
    },
    "tags": []
   },
   "outputs": [
    {
     "name": "stdout",
     "output_type": "stream",
     "text": [
      "Celsius: Fahrenheit:\n",
      "  -40\t    -40.0\n",
      "  -30\t    -22.0\n",
      "  -20\t     -4.0\n",
      "  -10\t     14.0\n",
      "    0\t     32.0\n",
      "   10\t     50.0\n",
      "   20\t     68.0\n",
      "   30\t     86.0\n",
      "   40\t    104.0\n",
      "   50\t    122.0\n",
      "   60\t    140.0\n",
      "   70\t    158.0\n",
      "   80\t    176.0\n",
      "   90\t    194.0\n",
      "  100\t    212.0\n",
      "  110\t    230.0\n",
      "  120\t    248.0\n",
      "  130\t    266.0\n",
      "  140\t    284.0\n"
     ]
    }
   ],
   "source": [
    "#include <stdio.h>\n",
    "\n",
    "/*\n",
    " print Celsius-Fahrenheit table\n",
    "   for celsius = -40, -30, ..., 140\n",
    "*/\n",
    "\n",
    "int main(void)\n",
    "{\n",
    "\tfloat fahr, celsius;\n",
    "\tfloat lower, upper, step;\n",
    "\n",
    "\tlower = -40;\t\t// lower limit of temperature scale\n",
    "\tupper = 140;\t// upper limit\n",
    "\tstep = 10;\t\t// step size\n",
    "\n",
    "\tcelsius = lower;\n",
    "\tprintf(\"Celsius: Fahrenheit:\\n\");\n",
    "\twhile (celsius <= upper)\n",
    "\t{\n",
    "\t\tfahr = celsius * 9.0 / 5.0 + 32.0;\n",
    "\t\tprintf(\"%5.0f\\t%9.1f\\n\", celsius, fahr);\n",
    "\t\tcelsius += step;\n",
    "\t}\n",
    "}"
   ]
  },
  {
   "cell_type": "markdown",
   "id": "7ebcd44f-5a70-450f-a802-5c6ff076300b",
   "metadata": {},
   "source": [
    "## 1.4 Symbolic Constants"
   ]
  },
  {
   "cell_type": "markdown",
   "id": "b13aa038-dd7d-4ba7-9464-6ceec32f4024",
   "metadata": {},
   "source": [
    "A `#define` line defines a **symbolic name** or **symbolic constant** to be a particular string of characters:\n",
    "\n",
    "```c\n",
    "#define name replacement_text\n",
    "```\n",
    "\n",
    "Thereafter, any occurrence of `name` (not in quotes and not part of another name) will be replaced by the corresponding `replacement text`. The `name` has the same form as a **variable name**: a sequence of letters and digits that begins with a letter. The `replacement text` can be any sequence of characters; it is not limited to numbers."
   ]
  },
  {
   "cell_type": "code",
   "execution_count": 6,
   "id": "72bc7028-c478-4b20-a7b2-a3a2d6ab5ec7",
   "metadata": {
    "execution": {
     "iopub.execute_input": "2024-01-16T20:06:26.935073Z",
     "iopub.status.busy": "2024-01-16T20:06:26.934171Z",
     "iopub.status.idle": "2024-01-16T20:06:26.996019Z",
     "shell.execute_reply": "2024-01-16T20:06:26.995146Z",
     "shell.execute_reply.started": "2024-01-16T20:06:26.935018Z"
    },
    "tags": []
   },
   "outputs": [
    {
     "name": "stdout",
     "output_type": "stream",
     "text": [
      "  0  -17.8\n",
      " 20   -6.7\n",
      " 40    4.4\n",
      " 60   15.6\n",
      " 80   26.7\n",
      "100   37.8\n",
      "120   48.9\n",
      "140   60.0\n",
      "160   71.1\n",
      "180   82.2\n",
      "200   93.3\n",
      "220  104.4\n",
      "240  115.6\n",
      "260  126.7\n",
      "280  137.8\n",
      "300  148.9\n"
     ]
    }
   ],
   "source": [
    "#include <stdio.h>\n",
    "\n",
    "#define LOWER 0 \t// lower limit of table\n",
    "#define UPPER 300\t// upper limit\n",
    "#define STEP 20\t\t// step size\n",
    "\n",
    "/* print Fahrenheit-Celsius table */\n",
    "\n",
    "int main(void)\n",
    "{\n",
    "\tint fahr;\n",
    "\n",
    "\tfor (fahr = LOWER; fahr <= UPPER; fahr += STEP)\n",
    "\t\tprintf(\"%3d %6.1f\\n\", fahr, (5.0/9.0)*(fahr-32));\n",
    "}"
   ]
  },
  {
   "cell_type": "markdown",
   "id": "e5f59785-94f3-44fd-a49d-63ed6267576b",
   "metadata": {},
   "source": [
    "The quantities `LOWER`, `UPPER` and `STEP` are **symbolic constants**, not variables, so they do not appear in declarations. \n",
    "\n",
    "Symbolic constant names are conventionally written in upper case so they can be readily distinguished from lower case variable names. Notice that there is no semicolon at the end of a `#define` line."
   ]
  },
  {
   "cell_type": "markdown",
   "id": "70fa2fdd-037c-4988-bbe1-d12bd3c92bab",
   "metadata": {},
   "source": [
    "## 1.5 Character Input and Output"
   ]
  },
  {
   "cell_type": "markdown",
   "id": "226d9a9a-822e-4fc5-98d3-dd4b91f031dc",
   "metadata": {},
   "source": [
    "The model of input and output supported by the standard library is very simple. Text input or output, regardless of where it originates or where it goes to, is dealt with as **streams of characters**. \n",
    "\n",
    "> A **text stream** is a sequence of characters divided into lines; each line consists of zero or more characters followed by a newline character (`\\n`). \n",
    "\n",
    "It is the responsibility of the library to make each input or output stream conform to this model; the C programmer using the library need not worry about how lines are represented outside the program."
   ]
  },
  {
   "cell_type": "markdown",
   "id": "71a03e56-73c2-4c41-8224-18952ab9d2af",
   "metadata": {},
   "source": [
    "### `getchar`"
   ]
  },
  {
   "cell_type": "markdown",
   "id": "69c62ae4-7dff-4bb5-91f6-4e3e7afd832e",
   "metadata": {},
   "source": [
    "The standard library provides several functions for reading or writing one character at a time, of which `getchar` and `putchar` are the simplest. \n",
    "\n",
    "Each time it is called, `getchar` reads the next input character from a text stream and _returns_ that as its value. That is, after\n",
    "\n",
    "```c\n",
    "c = getchar()\n",
    "```\n",
    "    \n",
    "the variable `c` contains the next character of input. The characters normally come from the keyboard; input from files is discussed in Chapter 7."
   ]
  },
  {
   "cell_type": "markdown",
   "id": "8a307ce9-1533-4317-8298-dcafec14a54e",
   "metadata": {},
   "source": [
    "```c\n",
    "/*\t$OpenBSD: getchar.c,v 1.8 2015/08/31 02:53:57 guenther Exp $ */\n",
    "/*-\n",
    " * Copyright (c) 1990, 1993\n",
    " *\tThe Regents of the University of California.  All rights reserved.\n",
    " *\n",
    " * This code is derived from software contributed to Berkeley by\n",
    " * Chris Torek.\n",
    " *\n",
    " * Redistribution and use in source and binary forms, with or without\n",
    " * modification, are permitted provided that the following conditions\n",
    " * are met:\n",
    " * 1. Redistributions of source code must retain the above copyright\n",
    " *    notice, this list of conditions and the following disclaimer.\n",
    " * 2. Redistributions in binary form must reproduce the above copyright\n",
    " *    notice, this list of conditions and the following disclaimer in the\n",
    " *    documentation and/or other materials provided with the distribution.\n",
    " * 3. Neither the name of the University nor the names of its contributors\n",
    " *    may be used to endorse or promote products derived from this software\n",
    " *    without specific prior written permission.\n",
    " *\n",
    " * THIS SOFTWARE IS PROVIDED BY THE REGENTS AND CONTRIBUTORS ``AS IS'' AND\n",
    " * ANY EXPRESS OR IMPLIED WARRANTIES, INCLUDING, BUT NOT LIMITED TO, THE\n",
    " * IMPLIED WARRANTIES OF MERCHANTABILITY AND FITNESS FOR A PARTICULAR PURPOSE\n",
    " * ARE DISCLAIMED.  IN NO EVENT SHALL THE REGENTS OR CONTRIBUTORS BE LIABLE\n",
    " * FOR ANY DIRECT, INDIRECT, INCIDENTAL, SPECIAL, EXEMPLARY, OR CONSEQUENTIAL\n",
    " * DAMAGES (INCLUDING, BUT NOT LIMITED TO, PROCUREMENT OF SUBSTITUTE GOODS\n",
    " * OR SERVICES; LOSS OF USE, DATA, OR PROFITS; OR BUSINESS INTERRUPTION)\n",
    " * HOWEVER CAUSED AND ON ANY THEORY OF LIABILITY, WHETHER IN CONTRACT, STRICT\n",
    " * LIABILITY, OR TORT (INCLUDING NEGLIGENCE OR OTHERWISE) ARISING IN ANY WAY\n",
    " * OUT OF THE USE OF THIS SOFTWARE, EVEN IF ADVISED OF THE POSSIBILITY OF\n",
    " * SUCH DAMAGE.\n",
    " */\n",
    "\n",
    "#include <stdio.h>\n",
    "\n",
    "/*\n",
    " * A subroutine version of the macro getchar_unlocked.\n",
    " */\n",
    "#undef getchar_unlocked\n",
    "\n",
    "int\n",
    "getchar_unlocked(void)\n",
    "{\n",
    "\treturn (getc_unlocked(stdin));\n",
    "}\n",
    "DEF_WEAK(getchar_unlocked);\n",
    "\n",
    "\n",
    "/*\n",
    " * A subroutine version of the macro getchar.\n",
    " */\n",
    "\n",
    "#undef getchar\n",
    "\n",
    "int\n",
    "getchar(void)\n",
    "{\n",
    "\treturn (getc(stdin));\n",
    "}\n",
    "DEF_STRONG(getchar);\n",
    "```\n",
    "\n",
    "[source](https://github.com/openbsd/src/blob/master/lib/libc/stdio/getchar.c)"
   ]
  },
  {
   "cell_type": "markdown",
   "id": "08c90968-714e-4e67-bf7b-296d1f6c3723",
   "metadata": {},
   "source": [
    "```c\n",
    "#include <stdio.h>\n",
    "#include \"local.h\"\n",
    "\n",
    "/*\n",
    " * A subroutine version of the macro getc_unlocked.\n",
    " */\n",
    "#undef getc_unlocked\n",
    "\n",
    "int\n",
    "getc_unlocked(FILE *fp)\n",
    "{\n",
    "\treturn (__sgetc(fp));\n",
    "}\n",
    "DEF_WEAK(getc_unlocked);\n",
    "\n",
    "/*\n",
    " * A subroutine version of the macro getc.\n",
    " */\n",
    "#undef getc\n",
    "\n",
    "int\n",
    "getc(FILE *fp)\n",
    "{\n",
    "\tint c;\n",
    "\n",
    "\tFLOCKFILE(fp);\n",
    "\tc = __sgetc(fp);\n",
    "\tFUNLOCKFILE(fp);\n",
    "\treturn (c);\n",
    "}\n",
    "DEF_STRONG(getc);\n",
    "```\n",
    "\n",
    "[source](https://github.com/openbsd/src/blob/master/lib/libc/stdio/getc.c)"
   ]
  },
  {
   "cell_type": "markdown",
   "id": "cd484e98-6428-4047-a048-bd2bba916939",
   "metadata": {},
   "source": [
    "### `putchar`"
   ]
  },
  {
   "cell_type": "markdown",
   "id": "853dee31-8bef-41e4-bda9-7117ca22652b",
   "metadata": {},
   "source": [
    "The function putchar _prints_ a character each time it is called:\n",
    "```c\n",
    "putchar(c)\n",
    "```\n",
    "\n",
    "prints the contents of the integer variable `c` as a character, usually on the screen. Calls to `putchar` and `printf` may be interleaved; the output will appear in the order in which the calls are made."
   ]
  },
  {
   "cell_type": "markdown",
   "id": "d59a0f12-9cae-4c52-b4c0-cd042a77664d",
   "metadata": {},
   "source": [
    "### 1.5.1 File Copying"
   ]
  },
  {
   "cell_type": "markdown",
   "id": "2e60483d-7d23-4125-90d4-7c9c6addb50c",
   "metadata": {},
   "source": [
    "Given `getchar` and `putchar`, you can write a surprising amount of useful code without knowing anything more about input and output. The simplest example is a program that copies its input to its output one character at a time:\n",
    "\n",
    "```\n",
    "read a character\n",
    "while (character is not end-of-file indicator)\n",
    "         output the character just read\n",
    "         read a character\n",
    "```"
   ]
  },
  {
   "cell_type": "code",
   "execution_count": 7,
   "id": "7b410cab-5ac0-4e51-ad64-3b49161103fa",
   "metadata": {
    "execution": {
     "iopub.execute_input": "2024-01-16T20:08:38.184405Z",
     "iopub.status.busy": "2024-01-16T20:08:38.183513Z",
     "iopub.status.idle": "2024-01-16T20:08:38.281430Z",
     "shell.execute_reply": "2024-01-16T20:08:38.280713Z",
     "shell.execute_reply.started": "2024-01-16T20:08:38.184359Z"
    },
    "tags": []
   },
   "outputs": [],
   "source": [
    "#include <stdio.h>\n",
    "\n",
    "/* copy input to output; 1st version */\n",
    "int main(void)\n",
    "{\n",
    "\tint c;\n",
    "\n",
    "\tc = getchar();\n",
    "\twhile (c != EOF)\n",
    "\t{\n",
    "\t\tputchar(c);\n",
    "\t\tc = getchar();\n",
    "\t}\n",
    "}"
   ]
  },
  {
   "cell_type": "markdown",
   "id": "95ee0f3a-ad17-4650-a574-39fff7ad1a28",
   "metadata": {},
   "source": [
    "What appears to be a character on the keyboard or screen is of course, like everything else, stored internally just as a bit pattern. The type `char` is specifically meant for storing such character data, but any integer type can be used. We used `int` for a subtle but important reason.\n",
    "\n",
    "The problem is distinguishing the end of the input from valid data. The solution is that `getchar` returns a distinctive value when there is no more input, a value that cannot be confused with any real character. This value is called `EOF`, for “end of file.” We must declare `c` to be a type big enough to hold any value that `getchar` returns. We can’t use `char` since `c` must be big enough to hold `EOF` in addition to any possible `char`. Therefore we use `int`.\n",
    "\n",
    "`EOF` is an integer defined in `<stdio.h>`, but the specific numeric value doesn’t matter as long as it is not the same as any `char` value. By using the symbolic constant, we are assured that nothing in the program depends on the specific numeric value.\n",
    "\n",
    "```sh\n",
    "less /usr/include/stdio.h\n",
    "\n",
    "/* The value returned by fgetc and similar functions to indicate the\n",
    "   end of the file.  */\n",
    "#define EOF (-1)\n",
    "```"
   ]
  },
  {
   "cell_type": "code",
   "execution_count": 1,
   "id": "c3bb3e9e-f16f-4526-b3be-e47e53829136",
   "metadata": {
    "collapsed": true,
    "execution": {
     "iopub.execute_input": "2024-01-16T20:09:15.676944Z",
     "iopub.status.busy": "2024-01-16T20:09:15.676544Z",
     "iopub.status.idle": "2024-01-16T20:09:16.648696Z",
     "shell.execute_reply": "2024-01-16T20:09:16.647126Z",
     "shell.execute_reply.started": "2024-01-16T20:09:15.676899Z"
    },
    "jupyter": {
     "outputs_hidden": true
    },
    "tags": []
   },
   "outputs": [
    {
     "name": "stdout",
     "output_type": "stream",
     "text": [
      "/* Define ISO C stdio on top of C++ iostreams.\n",
      "   Copyright (C) 1991-2022 Free Software Foundation, Inc.\n",
      "   This file is part of the GNU C Library.\n",
      "\n",
      "   The GNU C Library is free software; you can redistribute it and/or\n",
      "   modify it under the terms of the GNU Lesser General Public\n",
      "   License as published by the Free Software Foundation; either\n",
      "   version 2.1 of the License, or (at your option) any later version.\n",
      "\n",
      "   The GNU C Library is distributed in the hope that it will be useful,\n",
      "   but WITHOUT ANY WARRANTY; without even the implied warranty of\n",
      "   MERCHANTABILITY or FITNESS FOR A PARTICULAR PURPOSE.  See the GNU\n",
      "   Lesser General Public License for more details.\n",
      "\n",
      "   You should have received a copy of the GNU Lesser General Public\n",
      "   License along with the GNU C Library; if not, see\n",
      "   <https://www.gnu.org/licenses/>.  */\n",
      "\n",
      "/*\n",
      " *\tISO C99 Standard: 7.19 Input/output\t<stdio.h>\n",
      " */\n",
      "\n",
      "#ifndef _STDIO_H\n",
      "#define _STDIO_H\t1\n",
      "\n",
      "#define __GLIBC_INTERNAL_STARTING_HEADER_IMPLEMENTATION\n",
      "#include <bits/libc-header-start.h>\n",
      "\n",
      "__BEGIN_DECLS\n",
      "\n",
      "#define __need_size_t\n",
      "#define __need_NULL\n",
      "#include <stddef.h>\n",
      "\n",
      "#define __need___va_list\n",
      "#include <stdarg.h>\n",
      "\n",
      "#include <bits/types.h>\n",
      "#include <bits/types/__fpos_t.h>\n",
      "#include <bits/types/__fpos64_t.h>\n",
      "#include <bits/types/__FILE.h>\n",
      "#include <bits/types/FILE.h>\n",
      "#include <bits/types/struct_FILE.h>\n",
      "\n",
      "#ifdef __USE_GNU\n",
      "# include <bits/types/cookie_io_functions_t.h>\n",
      "#endif\n",
      "\n",
      "#if defined __USE_XOPEN || defined __USE_XOPEN2K8\n",
      "# ifdef __GNUC__\n",
      "#  ifndef _VA_LIST_DEFINED\n",
      "typedef __gnuc_va_list va_list;\n",
      "#   define _VA_LIST_DEFINED\n",
      "#  endif\n",
      "# else\n",
      "#  include <stdarg.h>\n",
      "# endif\n",
      "#endif\n",
      "\n",
      "#if defined __USE_UNIX98 || defined __USE_XOPEN2K\n",
      "# ifndef __off_t_defined\n",
      "# ifndef __USE_FILE_OFFSET64\n",
      "typedef __off_t off_t;\n",
      "# else\n",
      "typedef __off64_t off_t;\n",
      "# endif\n",
      "# define __off_t_defined\n",
      "# endif\n",
      "# if defined __USE_LARGEFILE64 && !defined __off64_t_defined\n",
      "typedef __off64_t off64_t;\n",
      "# define __off64_t_defined\n",
      "# endif\n",
      "#endif\n",
      "\n",
      "#ifdef __USE_XOPEN2K8\n",
      "# ifndef __ssize_t_defined\n",
      "typedef __ssize_t ssize_t;\n",
      "# define __ssize_t_defined\n",
      "# endif\n",
      "#endif\n",
      "\n",
      "/* The type of the second argument to `fgetpos' and `fsetpos'.  */\n",
      "#ifndef __USE_FILE_OFFSET64\n",
      "typedef __fpos_t fpos_t;\n",
      "#else\n",
      "typedef __fpos64_t fpos_t;\n",
      "#endif\n",
      "#ifdef __USE_LARGEFILE64\n",
      "typedef __fpos64_t fpos64_t;\n",
      "#endif\n",
      "\n",
      "/* The possibilities for the third argument to `setvbuf'.  */\n",
      "#define _IOFBF 0\t\t/* Fully buffered.  */\n",
      "#define _IOLBF 1\t\t/* Line buffered.  */\n",
      "#define _IONBF 2\t\t/* No buffering.  */\n",
      "\n",
      "\n",
      "/* Default buffer size.  */\n",
      "#define BUFSIZ 8192\n",
      "\n",
      "\n",
      "/* The value returned by fgetc and similar functions to indicate the\n",
      "   end of the file.  */\n",
      "#define EOF (-1)\n",
      "\n",
      "\n",
      "/* The possibilities for the third argument to `fseek'.\n",
      "   These values should not be changed.  */\n",
      "#define SEEK_SET\t0\t/* Seek from beginning of file.  */\n",
      "#define SEEK_CUR\t1\t/* Seek from current position.  */\n",
      "#define SEEK_END\t2\t/* Seek from end of file.  */\n",
      "#ifdef __USE_GNU\n",
      "# define SEEK_DATA\t3\t/* Seek to next data.  */\n",
      "# define SEEK_HOLE\t4\t/* Seek to next hole.  */\n",
      "#endif\n",
      "\n",
      "\n",
      "#if defined __USE_MISC || defined __USE_XOPEN\n",
      "/* Default path prefix for `tempnam' and `tmpnam'.  */\n",
      "# define P_tmpdir\t\"/tmp\"\n",
      "#endif\n",
      "\n",
      "\n",
      "/* Get the values:\n",
      "   L_tmpnam\tHow long an array of chars must be to be passed to `tmpnam'.\n",
      "   TMP_MAX\tThe minimum number of unique filenames generated by tmpnam\n",
      "\t\t(and tempnam when it uses tmpnam's name space),\n",
      "\t\tor tempnam (the two are separate).\n",
      "   L_ctermid\tHow long an array to pass to `ctermid'.\n",
      "   L_cuserid\tHow long an array to pass to `cuserid'.\n",
      "   FOPEN_MAX\tMinimum number of files that can be open at once.\n",
      "   FILENAME_MAX\tMaximum length of a filename.  */\n",
      "#include <bits/stdio_lim.h>\n",
      "\n",
      "\n",
      "#if __GLIBC_USE (ISOC2X)\n",
      "/* Maximum length of printf output for a NaN.  */\n",
      "# define _PRINTF_NAN_LEN_MAX 4\n",
      "#endif\n",
      "\n",
      "\n",
      "/* Standard streams.  */\n",
      "extern FILE *stdin;\t\t/* Standard input stream.  */\n",
      "extern FILE *stdout;\t\t/* Standard output stream.  */\n",
      "extern FILE *stderr;\t\t/* Standard error output stream.  */\n",
      "/* C89/C99 say they're macros.  Make them happy.  */\n",
      "#define stdin stdin\n",
      "#define stdout stdout\n",
      "#define stderr stderr\n",
      "\n",
      "/* Remove file FILENAME.  */\n",
      "extern int remove (const char *__filename) __THROW;\n",
      "/* Rename file OLD to NEW.  */\n",
      "extern int rename (const char *__old, const char *__new) __THROW;\n",
      "\n",
      "#ifdef __USE_ATFILE\n",
      "/* Rename file OLD relative to OLDFD to NEW relative to NEWFD.  */\n",
      "extern int renameat (int __oldfd, const char *__old, int __newfd,\n",
      "\t\t     const char *__new) __THROW;\n",
      "#endif\n",
      "\n",
      "#ifdef __USE_GNU\n",
      "/* Flags for renameat2.  */\n",
      "# define RENAME_NOREPLACE (1 << 0)\n",
      "# define RENAME_EXCHANGE (1 << 1)\n",
      "# define RENAME_WHITEOUT (1 << 2)\n",
      "\n",
      "/* Rename file OLD relative to OLDFD to NEW relative to NEWFD, with\n",
      "   additional flags.  */\n",
      "extern int renameat2 (int __oldfd, const char *__old, int __newfd,\n",
      "\t\t      const char *__new, unsigned int __flags) __THROW;\n",
      "#endif\n",
      "\n",
      "/* Close STREAM.\n",
      "\n",
      "   This function is a possible cancellation point and therefore not\n",
      "   marked with __THROW.  */\n",
      "extern int fclose (FILE *__stream);\n",
      "\n",
      "#undef __attr_dealloc_fclose\n",
      "#define __attr_dealloc_fclose __attr_dealloc (fclose, 1)\n",
      "\n",
      "/* Create a temporary file and open it read/write.\n",
      "\n",
      "   This function is a possible cancellation point and therefore not\n",
      "   marked with __THROW.  */\n",
      "#ifndef __USE_FILE_OFFSET64\n",
      "extern FILE *tmpfile (void)\n",
      "  __attribute_malloc__ __attr_dealloc_fclose __wur;\n",
      "#else\n",
      "# ifdef __REDIRECT\n",
      "extern FILE *__REDIRECT (tmpfile, (void), tmpfile64)\n",
      "  __attribute_malloc__ __attr_dealloc_fclose __wur;\n",
      "# else\n",
      "#  define tmpfile tmpfile64\n",
      "# endif\n",
      "#endif\n",
      "\n",
      "#ifdef __USE_LARGEFILE64\n",
      "extern FILE *tmpfile64 (void)\n",
      "   __attribute_malloc__ __attr_dealloc_fclose __wur;\n",
      "#endif\n",
      "\n",
      "/* Generate a temporary filename.  */\n",
      "extern char *tmpnam (char[L_tmpnam]) __THROW __wur;\n",
      "\n",
      "#ifdef __USE_MISC\n",
      "/* This is the reentrant variant of `tmpnam'.  The only difference is\n",
      "   that it does not allow S to be NULL.  */\n",
      "extern char *tmpnam_r (char __s[L_tmpnam]) __THROW __wur;\n",
      "#endif\n",
      "\n",
      "\n",
      "#if defined __USE_MISC || defined __USE_XOPEN\n",
      "/* Generate a unique temporary filename using up to five characters of PFX\n",
      "   if it is not NULL.  The directory to put this file in is searched for\n",
      "   as follows: First the environment variable \"TMPDIR\" is checked.\n",
      "   If it contains the name of a writable directory, that directory is used.\n",
      "   If not and if DIR is not NULL, that value is checked.  If that fails,\n",
      "   P_tmpdir is tried and finally \"/tmp\".  The storage for the filename\n",
      "   is allocated by `malloc'.  */\n",
      "extern char *tempnam (const char *__dir, const char *__pfx)\n",
      "   __THROW __attribute_malloc__ __wur __attr_dealloc_free;\n",
      "#endif\n",
      "\n",
      "/* Flush STREAM, or all streams if STREAM is NULL.\n",
      "\n",
      "   This function is a possible cancellation point and therefore not\n",
      "   marked with __THROW.  */\n",
      "extern int fflush (FILE *__stream);\n",
      "\n",
      "#ifdef __USE_MISC\n",
      "/* Faster versions when locking is not required.\n",
      "\n",
      "   This function is not part of POSIX and therefore no official\n",
      "   cancellation point.  But due to similarity with an POSIX interface\n",
      "   or due to the implementation it is a cancellation point and\n",
      "   therefore not marked with __THROW.  */\n",
      "extern int fflush_unlocked (FILE *__stream);\n",
      "#endif\n",
      "\n",
      "#ifdef __USE_GNU\n",
      "/* Close all streams.\n",
      "\n",
      "   This function is not part of POSIX and therefore no official\n",
      "   cancellation point.  But due to similarity with an POSIX interface\n",
      "   or due to the implementation it is a cancellation point and\n",
      "   therefore not marked with __THROW.  */\n",
      "extern int fcloseall (void);\n",
      "#endif\n",
      "\n",
      "\n",
      "#ifndef __USE_FILE_OFFSET64\n",
      "/* Open a file and create a new stream for it.\n",
      "\n",
      "   This function is a possible cancellation point and therefore not\n",
      "   marked with __THROW.  */\n",
      "extern FILE *fopen (const char *__restrict __filename,\n",
      "\t\t    const char *__restrict __modes)\n",
      "  __attribute_malloc__ __attr_dealloc_fclose __wur;\n",
      "/* Open a file, replacing an existing stream with it.\n",
      "\n",
      "   This function is a possible cancellation point and therefore not\n",
      "   marked with __THROW.  */\n",
      "extern FILE *freopen (const char *__restrict __filename,\n",
      "\t\t      const char *__restrict __modes,\n",
      "\t\t      FILE *__restrict __stream) __wur;\n",
      "#else\n",
      "# ifdef __REDIRECT\n",
      "extern FILE *__REDIRECT (fopen, (const char *__restrict __filename,\n",
      "\t\t\t\t const char *__restrict __modes), fopen64)\n",
      "  __attribute_malloc__ __attr_dealloc_fclose __wur;\n",
      "extern FILE *__REDIRECT (freopen, (const char *__restrict __filename,\n",
      "\t\t\t\t   const char *__restrict __modes,\n",
      "\t\t\t\t   FILE *__restrict __stream), freopen64)\n",
      "  __wur;\n",
      "# else\n",
      "#  define fopen fopen64\n",
      "#  define freopen freopen64\n",
      "# endif\n",
      "#endif\n",
      "#ifdef __USE_LARGEFILE64\n",
      "extern FILE *fopen64 (const char *__restrict __filename,\n",
      "\t\t      const char *__restrict __modes)\n",
      "  __attribute_malloc__ __attr_dealloc_fclose __wur;\n",
      "extern FILE *freopen64 (const char *__restrict __filename,\n",
      "\t\t\tconst char *__restrict __modes,\n",
      "\t\t\tFILE *__restrict __stream) __wur;\n",
      "#endif\n",
      "\n",
      "#ifdef\t__USE_POSIX\n",
      "/* Create a new stream that refers to an existing system file descriptor.  */\n",
      "extern FILE *fdopen (int __fd, const char *__modes) __THROW\n",
      "  __attribute_malloc__ __attr_dealloc_fclose __wur;\n",
      "#endif\n",
      "\n",
      "#ifdef\t__USE_GNU\n",
      "/* Create a new stream that refers to the given magic cookie,\n",
      "   and uses the given functions for input and output.  */\n",
      "extern FILE *fopencookie (void *__restrict __magic_cookie,\n",
      "\t\t\t  const char *__restrict __modes,\n",
      "\t\t\t  cookie_io_functions_t __io_funcs) __THROW\n",
      "  __attribute_malloc__ __attr_dealloc_fclose __wur;\n",
      "#endif\n",
      "\n",
      "#if defined __USE_XOPEN2K8 || __GLIBC_USE (LIB_EXT2)\n",
      "/* Create a new stream that refers to a memory buffer.  */\n",
      "extern FILE *fmemopen (void *__s, size_t __len, const char *__modes)\n",
      "  __THROW __attribute_malloc__ __attr_dealloc_fclose __wur;\n",
      "\n",
      "/* Open a stream that writes into a malloc'd buffer that is expanded as\n",
      "   necessary.  *BUFLOC and *SIZELOC are updated with the buffer's location\n",
      "   and the number of characters written on fflush or fclose.  */\n",
      "extern FILE *open_memstream (char **__bufloc, size_t *__sizeloc) __THROW\n",
      "  __attribute_malloc__ __attr_dealloc_fclose __wur;\n",
      "\n",
      "#ifdef _WCHAR_H\n",
      "/* Like OPEN_MEMSTREAM, but the stream is wide oriented and produces\n",
      "   a wide character string.  Declared here only to add attribute malloc\n",
      "   and only if <wchar.h> has been previously #included.  */\n",
      "extern __FILE *open_wmemstream (wchar_t **__bufloc, size_t *__sizeloc) __THROW\n",
      "  __attribute_malloc__ __attr_dealloc_fclose;\n",
      "# endif\n",
      "#endif\n",
      "\n",
      "/* If BUF is NULL, make STREAM unbuffered.\n",
      "   Else make it use buffer BUF, of size BUFSIZ.  */\n",
      "extern void setbuf (FILE *__restrict __stream, char *__restrict __buf) __THROW;\n",
      "/* Make STREAM use buffering mode MODE.\n",
      "   If BUF is not NULL, use N bytes of it for buffering;\n",
      "   else allocate an internal buffer N bytes long.  */\n",
      "extern int setvbuf (FILE *__restrict __stream, char *__restrict __buf,\n",
      "\t\t    int __modes, size_t __n) __THROW;\n",
      "\n",
      "#ifdef\t__USE_MISC\n",
      "/* If BUF is NULL, make STREAM unbuffered.\n",
      "   Else make it use SIZE bytes of BUF for buffering.  */\n",
      "extern void setbuffer (FILE *__restrict __stream, char *__restrict __buf,\n",
      "\t\t       size_t __size) __THROW;\n",
      "\n",
      "/* Make STREAM line-buffered.  */\n",
      "extern void setlinebuf (FILE *__stream) __THROW;\n",
      "#endif\n",
      "\n",
      "\n",
      "/* Write formatted output to STREAM.\n",
      "\n",
      "   This function is a possible cancellation point and therefore not\n",
      "   marked with __THROW.  */\n",
      "extern int fprintf (FILE *__restrict __stream,\n",
      "\t\t    const char *__restrict __format, ...);\n",
      "/* Write formatted output to stdout.\n",
      "\n",
      "   This function is a possible cancellation point and therefore not\n",
      "   marked with __THROW.  */\n",
      "extern int printf (const char *__restrict __format, ...);\n",
      "/* Write formatted output to S.  */\n",
      "extern int sprintf (char *__restrict __s,\n",
      "\t\t    const char *__restrict __format, ...) __THROWNL;\n",
      "\n",
      "/* Write formatted output to S from argument list ARG.\n",
      "\n",
      "   This function is a possible cancellation point and therefore not\n",
      "   marked with __THROW.  */\n",
      "extern int vfprintf (FILE *__restrict __s, const char *__restrict __format,\n",
      "\t\t     __gnuc_va_list __arg);\n",
      "/* Write formatted output to stdout from argument list ARG.\n",
      "\n",
      "   This function is a possible cancellation point and therefore not\n",
      "   marked with __THROW.  */\n",
      "extern int vprintf (const char *__restrict __format, __gnuc_va_list __arg);\n",
      "/* Write formatted output to S from argument list ARG.  */\n",
      "extern int vsprintf (char *__restrict __s, const char *__restrict __format,\n",
      "\t\t     __gnuc_va_list __arg) __THROWNL;\n",
      "\n",
      "#if defined __USE_ISOC99 || defined __USE_UNIX98\n",
      "/* Maximum chars of output to write in MAXLEN.  */\n",
      "extern int snprintf (char *__restrict __s, size_t __maxlen,\n",
      "\t\t     const char *__restrict __format, ...)\n",
      "     __THROWNL __attribute__ ((__format__ (__printf__, 3, 4)));\n",
      "\n",
      "extern int vsnprintf (char *__restrict __s, size_t __maxlen,\n",
      "\t\t      const char *__restrict __format, __gnuc_va_list __arg)\n",
      "     __THROWNL __attribute__ ((__format__ (__printf__, 3, 0)));\n",
      "#endif\n",
      "\n",
      "#if __GLIBC_USE (LIB_EXT2)\n",
      "/* Write formatted output to a string dynamically allocated with `malloc'.\n",
      "   Store the address of the string in *PTR.  */\n",
      "extern int vasprintf (char **__restrict __ptr, const char *__restrict __f,\n",
      "\t\t      __gnuc_va_list __arg)\n",
      "     __THROWNL __attribute__ ((__format__ (__printf__, 2, 0))) __wur;\n",
      "extern int __asprintf (char **__restrict __ptr,\n",
      "\t\t       const char *__restrict __fmt, ...)\n",
      "     __THROWNL __attribute__ ((__format__ (__printf__, 2, 3))) __wur;\n",
      "extern int asprintf (char **__restrict __ptr,\n",
      "\t\t     const char *__restrict __fmt, ...)\n",
      "     __THROWNL __attribute__ ((__format__ (__printf__, 2, 3))) __wur;\n",
      "#endif\n",
      "\n",
      "#ifdef __USE_XOPEN2K8\n",
      "/* Write formatted output to a file descriptor.  */\n",
      "extern int vdprintf (int __fd, const char *__restrict __fmt,\n",
      "\t\t     __gnuc_va_list __arg)\n",
      "     __attribute__ ((__format__ (__printf__, 2, 0)));\n",
      "extern int dprintf (int __fd, const char *__restrict __fmt, ...)\n",
      "     __attribute__ ((__format__ (__printf__, 2, 3)));\n",
      "#endif\n",
      "\n",
      "\n",
      "/* Read formatted input from STREAM.\n",
      "\n",
      "   This function is a possible cancellation point and therefore not\n",
      "   marked with __THROW.  */\n",
      "extern int fscanf (FILE *__restrict __stream,\n",
      "\t\t   const char *__restrict __format, ...) __wur;\n",
      "/* Read formatted input from stdin.\n",
      "\n",
      "   This function is a possible cancellation point and therefore not\n",
      "   marked with __THROW.  */\n",
      "extern int scanf (const char *__restrict __format, ...) __wur;\n",
      "/* Read formatted input from S.  */\n",
      "extern int sscanf (const char *__restrict __s,\n",
      "\t\t   const char *__restrict __format, ...) __THROW;\n",
      "\n",
      "/* For historical reasons, the C99-compliant versions of the scanf\n",
      "   functions are at alternative names.  When __LDBL_COMPAT or\n",
      "   __LDOUBLE_REDIRECTS_TO_FLOAT128_ABI are in effect, this is handled in\n",
      "   bits/stdio-ldbl.h.  */\n",
      "#include <bits/floatn.h>\n",
      "#if !__GLIBC_USE (DEPRECATED_SCANF) && !defined __LDBL_COMPAT \\\n",
      "    && __LDOUBLE_REDIRECTS_TO_FLOAT128_ABI == 0\n",
      "# ifdef __REDIRECT\n",
      "extern int __REDIRECT (fscanf, (FILE *__restrict __stream,\n",
      "\t\t\t\tconst char *__restrict __format, ...),\n",
      "\t\t       __isoc99_fscanf) __wur;\n",
      "extern int __REDIRECT (scanf, (const char *__restrict __format, ...),\n",
      "\t\t       __isoc99_scanf) __wur;\n",
      "extern int __REDIRECT_NTH (sscanf, (const char *__restrict __s,\n",
      "\t\t\t\t    const char *__restrict __format, ...),\n",
      "\t\t\t   __isoc99_sscanf);\n",
      "# else\n",
      "extern int __isoc99_fscanf (FILE *__restrict __stream,\n",
      "\t\t\t    const char *__restrict __format, ...) __wur;\n",
      "extern int __isoc99_scanf (const char *__restrict __format, ...) __wur;\n",
      "extern int __isoc99_sscanf (const char *__restrict __s,\n",
      "\t\t\t    const char *__restrict __format, ...) __THROW;\n",
      "#  define fscanf __isoc99_fscanf\n",
      "#  define scanf __isoc99_scanf\n",
      "#  define sscanf __isoc99_sscanf\n",
      "# endif\n",
      "#endif\n",
      "\n",
      "#ifdef\t__USE_ISOC99\n",
      "/* Read formatted input from S into argument list ARG.\n",
      "\n",
      "   This function is a possible cancellation point and therefore not\n",
      "   marked with __THROW.  */\n",
      "extern int vfscanf (FILE *__restrict __s, const char *__restrict __format,\n",
      "\t\t    __gnuc_va_list __arg)\n",
      "     __attribute__ ((__format__ (__scanf__, 2, 0))) __wur;\n",
      "\n",
      "/* Read formatted input from stdin into argument list ARG.\n",
      "\n",
      "   This function is a possible cancellation point and therefore not\n",
      "   marked with __THROW.  */\n",
      "extern int vscanf (const char *__restrict __format, __gnuc_va_list __arg)\n",
      "     __attribute__ ((__format__ (__scanf__, 1, 0))) __wur;\n",
      "\n",
      "/* Read formatted input from S into argument list ARG.  */\n",
      "extern int vsscanf (const char *__restrict __s,\n",
      "\t\t    const char *__restrict __format, __gnuc_va_list __arg)\n",
      "     __THROW __attribute__ ((__format__ (__scanf__, 2, 0)));\n",
      "\n",
      "/* Same redirection as above for the v*scanf family.  */\n",
      "# if !__GLIBC_USE (DEPRECATED_SCANF)\n",
      "#  if defined __REDIRECT && !defined __LDBL_COMPAT \\\n",
      "      && __LDOUBLE_REDIRECTS_TO_FLOAT128_ABI == 0\n",
      "extern int __REDIRECT (vfscanf,\n",
      "\t\t       (FILE *__restrict __s,\n",
      "\t\t\tconst char *__restrict __format, __gnuc_va_list __arg),\n",
      "\t\t       __isoc99_vfscanf)\n",
      "     __attribute__ ((__format__ (__scanf__, 2, 0))) __wur;\n",
      "extern int __REDIRECT (vscanf, (const char *__restrict __format,\n",
      "\t\t\t\t__gnuc_va_list __arg), __isoc99_vscanf)\n",
      "     __attribute__ ((__format__ (__scanf__, 1, 0))) __wur;\n",
      "extern int __REDIRECT_NTH (vsscanf,\n",
      "\t\t\t   (const char *__restrict __s,\n",
      "\t\t\t    const char *__restrict __format,\n",
      "\t\t\t    __gnuc_va_list __arg), __isoc99_vsscanf)\n",
      "     __attribute__ ((__format__ (__scanf__, 2, 0)));\n",
      "#  elif !defined __REDIRECT\n",
      "extern int __isoc99_vfscanf (FILE *__restrict __s,\n",
      "\t\t\t     const char *__restrict __format,\n",
      "\t\t\t     __gnuc_va_list __arg) __wur;\n",
      "extern int __isoc99_vscanf (const char *__restrict __format,\n",
      "\t\t\t    __gnuc_va_list __arg) __wur;\n",
      "extern int __isoc99_vsscanf (const char *__restrict __s,\n",
      "\t\t\t     const char *__restrict __format,\n",
      "\t\t\t     __gnuc_va_list __arg) __THROW;\n",
      "#   define vfscanf __isoc99_vfscanf\n",
      "#   define vscanf __isoc99_vscanf\n",
      "#   define vsscanf __isoc99_vsscanf\n",
      "#  endif\n",
      "# endif\n",
      "#endif /* Use ISO C9x.  */\n",
      "\n",
      "\n",
      "/* Read a character from STREAM.\n",
      "\n",
      "   These functions are possible cancellation points and therefore not\n",
      "   marked with __THROW.  */\n",
      "extern int fgetc (FILE *__stream);\n",
      "extern int getc (FILE *__stream);\n",
      "\n",
      "/* Read a character from stdin.\n",
      "\n",
      "   This function is a possible cancellation point and therefore not\n",
      "   marked with __THROW.  */\n",
      "extern int getchar (void);\n",
      "\n",
      "#ifdef __USE_POSIX199506\n",
      "/* These are defined in POSIX.1:1996.\n",
      "\n",
      "   These functions are possible cancellation points and therefore not\n",
      "   marked with __THROW.  */\n",
      "extern int getc_unlocked (FILE *__stream);\n",
      "extern int getchar_unlocked (void);\n",
      "#endif /* Use POSIX.  */\n",
      "\n",
      "#ifdef __USE_MISC\n",
      "/* Faster version when locking is not necessary.\n",
      "\n",
      "   This function is not part of POSIX and therefore no official\n",
      "   cancellation point.  But due to similarity with an POSIX interface\n",
      "   or due to the implementation it is a cancellation point and\n",
      "   therefore not marked with __THROW.  */\n",
      "extern int fgetc_unlocked (FILE *__stream);\n",
      "#endif /* Use MISC.  */\n",
      "\n",
      "\n",
      "/* Write a character to STREAM.\n",
      "\n",
      "   These functions are possible cancellation points and therefore not\n",
      "   marked with __THROW.\n",
      "\n",
      "   These functions is a possible cancellation point and therefore not\n",
      "   marked with __THROW.  */\n",
      "extern int fputc (int __c, FILE *__stream);\n",
      "extern int putc (int __c, FILE *__stream);\n",
      "\n",
      "/* Write a character to stdout.\n",
      "\n",
      "   This function is a possible cancellation point and therefore not\n",
      "   marked with __THROW.  */\n",
      "extern int putchar (int __c);\n",
      "\n",
      "#ifdef __USE_MISC\n",
      "/* Faster version when locking is not necessary.\n",
      "\n",
      "   This function is not part of POSIX and therefore no official\n",
      "   cancellation point.  But due to similarity with an POSIX interface\n",
      "   or due to the implementation it is a cancellation point and\n",
      "   therefore not marked with __THROW.  */\n",
      "extern int fputc_unlocked (int __c, FILE *__stream);\n",
      "#endif /* Use MISC.  */\n",
      "\n",
      "#ifdef __USE_POSIX199506\n",
      "/* These are defined in POSIX.1:1996.\n",
      "\n",
      "   These functions are possible cancellation points and therefore not\n",
      "   marked with __THROW.  */\n",
      "extern int putc_unlocked (int __c, FILE *__stream);\n",
      "extern int putchar_unlocked (int __c);\n",
      "#endif /* Use POSIX.  */\n",
      "\n",
      "\n",
      "#if defined __USE_MISC \\\n",
      "    || (defined __USE_XOPEN && !defined __USE_XOPEN2K)\n",
      "/* Get a word (int) from STREAM.  */\n",
      "extern int getw (FILE *__stream);\n",
      "\n",
      "/* Write a word (int) to STREAM.  */\n",
      "extern int putw (int __w, FILE *__stream);\n",
      "#endif\n",
      "\n",
      "\n",
      "/* Get a newline-terminated string of finite length from STREAM.\n",
      "\n",
      "   This function is a possible cancellation point and therefore not\n",
      "   marked with __THROW.  */\n",
      "extern char *fgets (char *__restrict __s, int __n, FILE *__restrict __stream)\n",
      "     __wur __fortified_attr_access (__write_only__, 1, 2);\n",
      "\n",
      "#if __GLIBC_USE (DEPRECATED_GETS)\n",
      "/* Get a newline-terminated string from stdin, removing the newline.\n",
      "\n",
      "   This function is impossible to use safely.  It has been officially\n",
      "   removed from ISO C11 and ISO C++14, and we have also removed it\n",
      "   from the _GNU_SOURCE feature list.  It remains available when\n",
      "   explicitly using an old ISO C, Unix, or POSIX standard.\n",
      "\n",
      "   This function is a possible cancellation point and therefore not\n",
      "   marked with __THROW.  */\n",
      "extern char *gets (char *__s) __wur __attribute_deprecated__;\n",
      "#endif\n",
      "\n",
      "#ifdef __USE_GNU\n",
      "/* This function does the same as `fgets' but does not lock the stream.\n",
      "\n",
      "   This function is not part of POSIX and therefore no official\n",
      "   cancellation point.  But due to similarity with an POSIX interface\n",
      "   or due to the implementation it is a cancellation point and\n",
      "   therefore not marked with __THROW.  */\n",
      "extern char *fgets_unlocked (char *__restrict __s, int __n,\n",
      "\t\t\t     FILE *__restrict __stream) __wur\n",
      "    __fortified_attr_access (__write_only__, 1, 2);\n",
      "#endif\n",
      "\n",
      "\n",
      "#if defined __USE_XOPEN2K8 || __GLIBC_USE (LIB_EXT2)\n",
      "/* Read up to (and including) a DELIMITER from STREAM into *LINEPTR\n",
      "   (and null-terminate it). *LINEPTR is a pointer returned from malloc (or\n",
      "   NULL), pointing to *N characters of space.  It is realloc'd as\n",
      "   necessary.  Returns the number of characters read (not including the\n",
      "   null terminator), or -1 on error or EOF.\n",
      "\n",
      "   These functions are not part of POSIX and therefore no official\n",
      "   cancellation point.  But due to similarity with an POSIX interface\n",
      "   or due to the implementation they are cancellation points and\n",
      "   therefore not marked with __THROW.  */\n",
      "extern __ssize_t __getdelim (char **__restrict __lineptr,\n",
      "                             size_t *__restrict __n, int __delimiter,\n",
      "                             FILE *__restrict __stream) __wur;\n",
      "extern __ssize_t getdelim (char **__restrict __lineptr,\n",
      "                           size_t *__restrict __n, int __delimiter,\n",
      "                           FILE *__restrict __stream) __wur;\n",
      "\n",
      "/* Like `getdelim', but reads up to a newline.\n",
      "\n",
      "   This function is not part of POSIX and therefore no official\n",
      "   cancellation point.  But due to similarity with an POSIX interface\n",
      "   or due to the implementation it is a cancellation point and\n",
      "   therefore not marked with __THROW.  */\n",
      "extern __ssize_t getline (char **__restrict __lineptr,\n",
      "                          size_t *__restrict __n,\n",
      "                          FILE *__restrict __stream) __wur;\n",
      "#endif\n",
      "\n",
      "\n",
      "/* Write a string to STREAM.\n",
      "\n",
      "   This function is a possible cancellation point and therefore not\n",
      "   marked with __THROW.  */\n",
      "extern int fputs (const char *__restrict __s, FILE *__restrict __stream);\n",
      "\n",
      "/* Write a string, followed by a newline, to stdout.\n",
      "\n",
      "   This function is a possible cancellation point and therefore not\n",
      "   marked with __THROW.  */\n",
      "extern int puts (const char *__s);\n",
      "\n",
      "\n",
      "/* Push a character back onto the input buffer of STREAM.\n",
      "\n",
      "   This function is a possible cancellation point and therefore not\n",
      "   marked with __THROW.  */\n",
      "extern int ungetc (int __c, FILE *__stream);\n",
      "\n",
      "\n",
      "/* Read chunks of generic data from STREAM.\n",
      "\n",
      "   This function is a possible cancellation point and therefore not\n",
      "   marked with __THROW.  */\n",
      "extern size_t fread (void *__restrict __ptr, size_t __size,\n",
      "\t\t     size_t __n, FILE *__restrict __stream) __wur;\n",
      "/* Write chunks of generic data to STREAM.\n",
      "\n",
      "   This function is a possible cancellation point and therefore not\n",
      "   marked with __THROW.  */\n",
      "extern size_t fwrite (const void *__restrict __ptr, size_t __size,\n",
      "\t\t      size_t __n, FILE *__restrict __s);\n",
      "\n",
      "#ifdef __USE_GNU\n",
      "/* This function does the same as `fputs' but does not lock the stream.\n",
      "\n",
      "   This function is not part of POSIX and therefore no official\n",
      "   cancellation point.  But due to similarity with an POSIX interface\n",
      "   or due to the implementation it is a cancellation point and\n",
      "   therefore not marked with __THROW.  */\n",
      "extern int fputs_unlocked (const char *__restrict __s,\n",
      "\t\t\t   FILE *__restrict __stream);\n",
      "#endif\n",
      "\n",
      "#ifdef __USE_MISC\n",
      "/* Faster versions when locking is not necessary.\n",
      "\n",
      "   These functions are not part of POSIX and therefore no official\n",
      "   cancellation point.  But due to similarity with an POSIX interface\n",
      "   or due to the implementation they are cancellation points and\n",
      "   therefore not marked with __THROW.  */\n",
      "extern size_t fread_unlocked (void *__restrict __ptr, size_t __size,\n",
      "\t\t\t      size_t __n, FILE *__restrict __stream) __wur;\n",
      "extern size_t fwrite_unlocked (const void *__restrict __ptr, size_t __size,\n",
      "\t\t\t       size_t __n, FILE *__restrict __stream);\n",
      "#endif\n",
      "\n",
      "\n",
      "/* Seek to a certain position on STREAM.\n",
      "\n",
      "   This function is a possible cancellation point and therefore not\n",
      "   marked with __THROW.  */\n",
      "extern int fseek (FILE *__stream, long int __off, int __whence);\n",
      "/* Return the current position of STREAM.\n",
      "\n",
      "   This function is a possible cancellation point and therefore not\n",
      "   marked with __THROW.  */\n",
      "extern long int ftell (FILE *__stream) __wur;\n",
      "/* Rewind to the beginning of STREAM.\n",
      "\n",
      "   This function is a possible cancellation point and therefore not\n",
      "   marked with __THROW.  */\n",
      "extern void rewind (FILE *__stream);\n",
      "\n",
      "/* The Single Unix Specification, Version 2, specifies an alternative,\n",
      "   more adequate interface for the two functions above which deal with\n",
      "   file offset.  `long int' is not the right type.  These definitions\n",
      "   are originally defined in the Large File Support API.  */\n",
      "\n",
      "#if defined __USE_LARGEFILE || defined __USE_XOPEN2K\n",
      "# ifndef __USE_FILE_OFFSET64\n",
      "/* Seek to a certain position on STREAM.\n",
      "\n",
      "   This function is a possible cancellation point and therefore not\n",
      "   marked with __THROW.  */\n",
      "extern int fseeko (FILE *__stream, __off_t __off, int __whence);\n",
      "/* Return the current position of STREAM.\n",
      "\n",
      "   This function is a possible cancellation point and therefore not\n",
      "   marked with __THROW.  */\n",
      "extern __off_t ftello (FILE *__stream) __wur;\n",
      "# else\n",
      "#  ifdef __REDIRECT\n",
      "extern int __REDIRECT (fseeko,\n",
      "\t\t       (FILE *__stream, __off64_t __off, int __whence),\n",
      "\t\t       fseeko64);\n",
      "extern __off64_t __REDIRECT (ftello, (FILE *__stream), ftello64);\n",
      "#  else\n",
      "#   define fseeko fseeko64\n",
      "#   define ftello ftello64\n",
      "#  endif\n",
      "# endif\n",
      "#endif\n",
      "\n",
      "#ifndef __USE_FILE_OFFSET64\n",
      "/* Get STREAM's position.\n",
      "\n",
      "   This function is a possible cancellation point and therefore not\n",
      "   marked with __THROW.  */\n",
      "extern int fgetpos (FILE *__restrict __stream, fpos_t *__restrict __pos);\n",
      "/* Set STREAM's position.\n",
      "\n",
      "   This function is a possible cancellation point and therefore not\n",
      "   marked with __THROW.  */\n",
      "extern int fsetpos (FILE *__stream, const fpos_t *__pos);\n",
      "#else\n",
      "# ifdef __REDIRECT\n",
      "extern int __REDIRECT (fgetpos, (FILE *__restrict __stream,\n",
      "\t\t\t\t fpos_t *__restrict __pos), fgetpos64);\n",
      "extern int __REDIRECT (fsetpos,\n",
      "\t\t       (FILE *__stream, const fpos_t *__pos), fsetpos64);\n",
      "# else\n",
      "#  define fgetpos fgetpos64\n",
      "#  define fsetpos fsetpos64\n",
      "# endif\n",
      "#endif\n",
      "\n",
      "#ifdef __USE_LARGEFILE64\n",
      "extern int fseeko64 (FILE *__stream, __off64_t __off, int __whence);\n",
      "extern __off64_t ftello64 (FILE *__stream) __wur;\n",
      "extern int fgetpos64 (FILE *__restrict __stream, fpos64_t *__restrict __pos);\n",
      "extern int fsetpos64 (FILE *__stream, const fpos64_t *__pos);\n",
      "#endif\n",
      "\n",
      "/* Clear the error and EOF indicators for STREAM.  */\n",
      "extern void clearerr (FILE *__stream) __THROW;\n",
      "/* Return the EOF indicator for STREAM.  */\n",
      "extern int feof (FILE *__stream) __THROW __wur;\n",
      "/* Return the error indicator for STREAM.  */\n",
      "extern int ferror (FILE *__stream) __THROW __wur;\n",
      "\n",
      "#ifdef __USE_MISC\n",
      "/* Faster versions when locking is not required.  */\n",
      "extern void clearerr_unlocked (FILE *__stream) __THROW;\n",
      "extern int feof_unlocked (FILE *__stream) __THROW __wur;\n",
      "extern int ferror_unlocked (FILE *__stream) __THROW __wur;\n",
      "#endif\n",
      "\n",
      "\n",
      "/* Print a message describing the meaning of the value of errno.\n",
      "\n",
      "   This function is a possible cancellation point and therefore not\n",
      "   marked with __THROW.  */\n",
      "extern void perror (const char *__s);\n",
      "\n",
      "\n",
      "#ifdef\t__USE_POSIX\n",
      "/* Return the system file descriptor for STREAM.  */\n",
      "extern int fileno (FILE *__stream) __THROW __wur;\n",
      "#endif /* Use POSIX.  */\n",
      "\n",
      "#ifdef __USE_MISC\n",
      "/* Faster version when locking is not required.  */\n",
      "extern int fileno_unlocked (FILE *__stream) __THROW __wur;\n",
      "#endif\n",
      "\n",
      "\n",
      "#ifdef __USE_POSIX2\n",
      "/* Close a stream opened by popen and return the status of its child.\n",
      "\n",
      "   This function is a possible cancellation point and therefore not\n",
      "   marked with __THROW.  */\n",
      "extern int pclose (FILE *__stream);\n",
      "\n",
      "/* Create a new stream connected to a pipe running the given command.\n",
      "\n",
      "   This function is a possible cancellation point and therefore not\n",
      "   marked with __THROW.  */\n",
      "extern FILE *popen (const char *__command, const char *__modes)\n",
      "  __attribute_malloc__ __attr_dealloc (pclose, 1) __wur;\n",
      "\n",
      "#endif\n",
      "\n",
      "\n",
      "#ifdef\t__USE_POSIX\n",
      "/* Return the name of the controlling terminal.  */\n",
      "extern char *ctermid (char *__s) __THROW\n",
      "  __attr_access ((__write_only__, 1));\n",
      "#endif /* Use POSIX.  */\n",
      "\n",
      "\n",
      "#if (defined __USE_XOPEN && !defined __USE_XOPEN2K) || defined __USE_GNU\n",
      "/* Return the name of the current user.  */\n",
      "extern char *cuserid (char *__s)\n",
      "  __attr_access ((__write_only__, 1));\n",
      "#endif /* Use X/Open, but not issue 6.  */\n",
      "\n",
      "\n",
      "#ifdef\t__USE_GNU\n",
      "struct obstack;\t\t\t/* See <obstack.h>.  */\n",
      "\n",
      "/* Write formatted output to an obstack.  */\n",
      "extern int obstack_printf (struct obstack *__restrict __obstack,\n",
      "\t\t\t   const char *__restrict __format, ...)\n",
      "     __THROWNL __attribute__ ((__format__ (__printf__, 2, 3)));\n",
      "extern int obstack_vprintf (struct obstack *__restrict __obstack,\n",
      "\t\t\t    const char *__restrict __format,\n",
      "\t\t\t    __gnuc_va_list __args)\n",
      "     __THROWNL __attribute__ ((__format__ (__printf__, 2, 0)));\n",
      "#endif /* Use GNU.  */\n",
      "\n",
      "\n",
      "#ifdef __USE_POSIX199506\n",
      "/* These are defined in POSIX.1:1996.  */\n",
      "\n",
      "/* Acquire ownership of STREAM.  */\n",
      "extern void flockfile (FILE *__stream) __THROW;\n",
      "\n",
      "/* Try to acquire ownership of STREAM but do not block if it is not\n",
      "   possible.  */\n",
      "extern int ftrylockfile (FILE *__stream) __THROW __wur;\n",
      "\n",
      "/* Relinquish the ownership granted for STREAM.  */\n",
      "extern void funlockfile (FILE *__stream) __THROW;\n",
      "#endif /* POSIX */\n",
      "\n",
      "#if defined __USE_XOPEN && !defined __USE_XOPEN2K && !defined __USE_GNU\n",
      "/*  X/Open Issues 1-5 required getopt to be declared in this\n",
      "   header.  It was removed in Issue 6.  GNU follows Issue 6.  */\n",
      "# include <bits/getopt_posix.h>\n",
      "#endif\n",
      "\n",
      "/* Slow-path routines used by the optimized inline functions in\n",
      "   bits/stdio.h.  */\n",
      "extern int __uflow (FILE *);\n",
      "extern int __overflow (FILE *, int);\n",
      "\n",
      "#if __USE_FORTIFY_LEVEL > 0 && defined __fortify_function\n",
      "/* Declare all functions from bits/stdio2-decl.h first.  */\n",
      "# include <bits/stdio2-decl.h>\n",
      "#endif\n",
      "\n",
      "/* The following headers provide asm redirections.  These redirections must\n",
      "   appear before the first usage of these functions, e.g. in bits/stdio.h.  */\n",
      "#if defined __LDBL_COMPAT || __LDOUBLE_REDIRECTS_TO_FLOAT128_ABI == 1\n",
      "# include <bits/stdio-ldbl.h>\n",
      "#endif\n",
      "\n",
      "/* If we are compiling with optimizing read this file.  It contains\n",
      "   several optimizing inline functions and macros.  */\n",
      "#ifdef __USE_EXTERN_INLINES\n",
      "# include <bits/stdio.h>\n",
      "#endif\n",
      "#if __USE_FORTIFY_LEVEL > 0 && defined __fortify_function\n",
      "/* Now include the function definitions and redirects too.  */\n",
      "# include <bits/stdio2.h>\n",
      "#endif\n",
      "\n",
      "__END_DECLS\n",
      "\n",
      "#endif /* <stdio.h> included.  */\n"
     ]
    }
   ],
   "source": [
    "cat /usr/include/stdio.h"
   ]
  },
  {
   "cell_type": "markdown",
   "id": "73b1762f-91d4-4f00-aa62-beb3d4c4eeca",
   "metadata": {},
   "source": [
    "ChatGPT:\n",
    "\n",
    "The program reads characters from the user's input one by one until `EOF` is encountered. This can happen if the user signals end-of-file (which is usually done by pressing `Ctrl+D` on Unix/Linux or `Ctrl+Z` followed by the `Enter` key on Windows systems at the start of a new line) or if an input error occurs."
   ]
  },
  {
   "cell_type": "markdown",
   "id": "62712e1b-0a68-4259-9075-320dab4996de",
   "metadata": {},
   "source": [
    "The program for copying would be written more concisely by experienced C programmers. In C, any assignment, such as\n",
    "\n",
    "```c\n",
    "c = getchar()\n",
    "```\n",
    "\n",
    "is an expression and has a value, which is the value of the left hand side after the assignment. This means that \n",
    "\n",
    "> an assignment can appear as part of a larger expression. \n",
    "\n",
    "If the assignment of a character to `c` is put inside the test part of a while loop, the copy program can be written this way:"
   ]
  },
  {
   "cell_type": "code",
   "execution_count": null,
   "id": "48314010-1458-49fa-ba2f-ce6878df9d46",
   "metadata": {
    "tags": []
   },
   "outputs": [],
   "source": [
    "#include <stdio.h>\n",
    "\n",
    "/* copy input to output; 2nd version */\n",
    "int main(void)\n",
    "{\n",
    "\tint c;\n",
    "\n",
    "\twhile ((c = getchar()) != EOF)\n",
    "\t\tputchar(c);\n",
    "}"
   ]
  },
  {
   "cell_type": "markdown",
   "id": "69c2d185-9aed-43de-a8a3-871072d3f70b",
   "metadata": {},
   "source": [
    "This version centralizes the input—there is now only one reference to `getchar` — and shrinks the program. The resulting program is more compact, and, once the idiom is mastered, easier to read. You’ll see this style often. (It’s possible to get carried away and create impenetrable code, however, a tendency that we will try to curb.)\n",
    "\n",
    "The parentheses around the assignment within the condition are necessary. The _precedence_ of `!= `is higher than that of `=`, which means that in the absence of parentheses the relational test `!=` would be done before the assignment `=`. So the statement\n",
    "\n",
    "```c\n",
    "c = getchar() != EOF\n",
    "```\n",
    "\n",
    "is equivalent to\n",
    "\n",
    "```c\n",
    "c = (getchar() != EOF)\n",
    "```\n",
    "\n",
    "This has the undesired effect of setting `c` to `0` or `1`, depending on whether or not the call of `getchar` encountered end of file. (More on this in Chapter 2.)"
   ]
  },
  {
   "cell_type": "code",
   "execution_count": 4,
   "id": "a90492cb-0944-4374-82b1-18caf80cfa26",
   "metadata": {
    "execution": {
     "iopub.execute_input": "2024-01-16T20:11:47.164946Z",
     "iopub.status.busy": "2024-01-16T20:11:47.164555Z",
     "iopub.status.idle": "2024-01-16T20:11:47.284309Z",
     "shell.execute_reply": "2024-01-16T20:11:47.283238Z",
     "shell.execute_reply.started": "2024-01-16T20:11:47.164915Z"
    },
    "tags": []
   },
   "outputs": [
    {
     "name": "stdout",
     "output_type": "stream",
     "text": [
      "0\n"
     ]
    }
   ],
   "source": [
    "#include <stdio.h>\n",
    "\n",
    "/* verify that the expression getchar() != EOF is 0 or 1 */\n",
    "int main(void)\n",
    "{\n",
    "\tprintf(\"%d\\n\", getchar() != EOF);\n",
    "}"
   ]
  },
  {
   "cell_type": "markdown",
   "id": "68991e7f-7502-4465-ba78-e210ac4842b6",
   "metadata": {},
   "source": [
    "```\n",
    "hello\n",
    "1\n",
    "```"
   ]
  },
  {
   "cell_type": "code",
   "execution_count": 3,
   "id": "45cb54d3-f51e-44b2-ac28-6159f485167d",
   "metadata": {
    "execution": {
     "iopub.execute_input": "2024-01-16T20:11:41.111393Z",
     "iopub.status.busy": "2024-01-16T20:11:41.110945Z",
     "iopub.status.idle": "2024-01-16T20:11:41.224561Z",
     "shell.execute_reply": "2024-01-16T20:11:41.223171Z",
     "shell.execute_reply.started": "2024-01-16T20:11:41.111356Z"
    },
    "tags": []
   },
   "outputs": [
    {
     "name": "stdout",
     "output_type": "stream",
     "text": [
      "-1\n"
     ]
    }
   ],
   "source": [
    "#include <stdio.h>\n",
    "\n",
    "/* print the value of EOF */\n",
    "int main(void)\n",
    "{\n",
    "\tprintf(\"%d\\n\", EOF);\n",
    "}\n"
   ]
  },
  {
   "cell_type": "markdown",
   "id": "5f19fab6-8f1e-460e-a275-65b9b40e5f36",
   "metadata": {},
   "source": [
    "### 1.5.2 Character Counting"
   ]
  },
  {
   "cell_type": "code",
   "execution_count": 5,
   "id": "9a03ebe9-2efb-4784-9287-1a7dd9b76521",
   "metadata": {
    "execution": {
     "iopub.execute_input": "2024-01-16T20:12:04.227347Z",
     "iopub.status.busy": "2024-01-16T20:12:04.226932Z",
     "iopub.status.idle": "2024-01-16T20:12:04.431997Z",
     "shell.execute_reply": "2024-01-16T20:12:04.427533Z",
     "shell.execute_reply.started": "2024-01-16T20:12:04.227288Z"
    },
    "tags": []
   },
   "outputs": [
    {
     "name": "stdout",
     "output_type": "stream",
     "text": [
      "0\n"
     ]
    }
   ],
   "source": [
    "#include <stdio.h>\n",
    "\n",
    "/* count characters in input; 1st version */\n",
    "int main(void)\n",
    "{\n",
    "\tlong nc;\n",
    "\n",
    "\tnc = 0;\n",
    "\twhile (getchar() != EOF)\n",
    "\t\t++nc;\n",
    "\tprintf(\"%ld\\n\", nc);\n",
    "}"
   ]
  },
  {
   "cell_type": "markdown",
   "id": "9f1b8f9d-b503-40ba-9b46-47a1ec033223",
   "metadata": {},
   "source": [
    "```\n",
    "./a.out \n",
    "hello\n",
    "world\n",
    "12\n",
    "```"
   ]
  },
  {
   "cell_type": "markdown",
   "id": "6baa9c23-ae3a-4095-ad9b-2aaf0413e40c",
   "metadata": {},
   "source": [
    "The operators `++` and `--` can be either **prefix** operators (`++nc`) or **postfix** (`nc++`); these two forms have different values in expressions, as will be shown in Chapter 2, but `++nc` and `nc++` both increment `nc`. For the moment we will stick to the prefix form.\n",
    "\n",
    "The character counting program accumulates its count in a `long` variable instead of an `int`. `long` integers are at least `32` bits. Although on some machines, `int` and `long` are the same size, on others an `int` is `16` bits, with a maximum value of `32767`, and it would take relatively little input to overflow an `int` counter. The conversion specification `%ld` tells `printf` that the corresponding argument is a `long` integer.\n",
    "\n",
    "It may be possible to cope with even bigger numbers by using a `double` (double precision float). We will also use a `for` statement instead of a while, to illustrate another way to write the loop."
   ]
  },
  {
   "cell_type": "code",
   "execution_count": 1,
   "id": "43b78caa-7760-4669-8b89-a9e1b553089e",
   "metadata": {
    "execution": {
     "iopub.execute_input": "2024-01-16T20:14:13.543423Z",
     "iopub.status.busy": "2024-01-16T20:14:13.542886Z",
     "iopub.status.idle": "2024-01-16T20:14:13.553632Z",
     "shell.execute_reply": "2024-01-16T20:14:13.551115Z",
     "shell.execute_reply.started": "2024-01-16T20:14:13.543372Z"
    },
    "tags": []
   },
   "outputs": [
    {
     "name": "stdout",
     "output_type": "stream",
     "text": [
      "Integer in Python:\n",
      " sys.int_info(bits_per_digit=30, sizeof_digit=4, default_max_str_digits=4300, str_digits_check_threshold=640)\n"
     ]
    }
   ],
   "source": [
    "import sys\n",
    "\n",
    "print(\"Integer in Python:\\n\", sys.int_info)"
   ]
  },
  {
   "cell_type": "markdown",
   "id": "a5a1bdfc-ab02-42fa-b0cd-ef96fe53fd59",
   "metadata": {},
   "source": [
    "ChatGPT:\n",
    "\n",
    "- `bits_per_digit=30`: This argument specifies the number of bits used to represent each digit of an integer. In this case, each digit uses 30 bits.\n",
    "\n",
    "- `sizeof_digit=4`: This argument specifies the size in bytes of each digit. In this case, each digit occupies 4 bytes of memory.\n",
    "\n",
    "- `default_max_str_digits=4300`: This argument sets the default maximum number of digits allowed when converting an integer to a string. If a larger number of digits is encountered, an exception will be raised.\n",
    "\n",
    "- `str_digits_check_threshold=640`: This argument represents a threshold value for a check performed while converting an integer to a string. If the number of digits exceeds this threshold, additional checks are performed to avoid unnecessary memory allocation."
   ]
  },
  {
   "cell_type": "code",
   "execution_count": 2,
   "id": "8e439045-4102-45f7-917a-2594aa62f441",
   "metadata": {
    "execution": {
     "iopub.execute_input": "2024-01-16T20:14:19.459901Z",
     "iopub.status.busy": "2024-01-16T20:14:19.459437Z",
     "iopub.status.idle": "2024-01-16T20:14:19.648680Z",
     "shell.execute_reply": "2024-01-16T20:14:19.645850Z",
     "shell.execute_reply.started": "2024-01-16T20:14:19.459856Z"
    },
    "tags": []
   },
   "outputs": [
    {
     "data": {
      "text/plain": [
       "iinfo(min=-2147483648, max=2147483647, dtype=int32)"
      ]
     },
     "execution_count": 2,
     "metadata": {},
     "output_type": "execute_result"
    }
   ],
   "source": [
    "import numpy as np\n",
    "\n",
    "np.iinfo(np.int32)"
   ]
  },
  {
   "cell_type": "code",
   "execution_count": 3,
   "id": "688e9692-43bb-4381-9a2d-e8879f61d238",
   "metadata": {
    "execution": {
     "iopub.execute_input": "2024-01-16T20:14:21.284460Z",
     "iopub.status.busy": "2024-01-16T20:14:21.283682Z",
     "iopub.status.idle": "2024-01-16T20:14:21.291495Z",
     "shell.execute_reply": "2024-01-16T20:14:21.290295Z",
     "shell.execute_reply.started": "2024-01-16T20:14:21.284418Z"
    },
    "tags": []
   },
   "outputs": [
    {
     "data": {
      "text/plain": [
       "iinfo(min=-9223372036854775808, max=9223372036854775807, dtype=int64)"
      ]
     },
     "execution_count": 3,
     "metadata": {},
     "output_type": "execute_result"
    }
   ],
   "source": [
    "np.iinfo(np.int64)"
   ]
  },
  {
   "cell_type": "code",
   "execution_count": 1,
   "id": "e773736f-e9aa-4cea-8850-0f2be2fa640a",
   "metadata": {
    "execution": {
     "iopub.execute_input": "2024-01-16T20:14:41.068553Z",
     "iopub.status.busy": "2024-01-16T20:14:41.068121Z",
     "iopub.status.idle": "2024-01-16T20:14:41.138952Z",
     "shell.execute_reply": "2024-01-16T20:14:41.137773Z",
     "shell.execute_reply.started": "2024-01-16T20:14:41.068518Z"
    },
    "tags": []
   },
   "outputs": [
    {
     "name": "stdout",
     "output_type": "stream",
     "text": [
      "0\n"
     ]
    }
   ],
   "source": [
    "#include <stdio.h>\n",
    "\n",
    "/* count characters in input; 2nd version */\n",
    "int main(void)\n",
    "{\n",
    "\tdouble nc;\n",
    "\n",
    "\tfor (nc = 0; getchar() != EOF; ++nc)\n",
    "\t\t;\n",
    "\tprintf(\"%.0f\\n\", nc);\n",
    "}"
   ]
  },
  {
   "cell_type": "markdown",
   "id": "30f786d1-1158-456c-a1ab-9febf20b5124",
   "metadata": {},
   "source": [
    "```\n",
    "./a.out \n",
    "hello\n",
    "world\n",
    "12\n",
    "```"
   ]
  },
  {
   "cell_type": "markdown",
   "id": "432a0a55-bc72-4968-9b56-3a8b48113929",
   "metadata": {},
   "source": [
    "- `printf` uses `%f` for both `float` and `double`; \n",
    "- `%.0f` suppresses printing of the decimal point and the fraction part, which is zero.\n",
    "\n",
    "The body of this `for` loop is empty, because all of the work is done in the test and increment parts. But the grammatical rules of C require that a for statement have a body. The isolated semicolon, called a **null statement**, is there to satisfy that requirement. We put it on a separate line to make it visible.\n",
    "\n",
    "Before we leave the `character counting `program, observe that \n",
    "\n",
    "> if the input contains no characters, the `while` or `for` test fails on the very first call to `getchar`, and the program produces zero, the right answer. \n",
    "\n",
    "```\n",
    "./a.out \n",
    "0\n",
    "```\n",
    "\n",
    "This is important. One of the nice things about `while` and `for` is that they test at the top of the loop, before proceeding with the body. If there is nothing to do, nothing is done, even if that means never going through the loop body. Programs should act intelligently when given zero-length input. The `while` and `for` statements help ensure that programs do reasonable things with boundary conditions."
   ]
  },
  {
   "cell_type": "markdown",
   "id": "f2451c55-bf1d-4be8-bf60-2352b8d88744",
   "metadata": {},
   "source": [
    "### 1.5.3 Line Counting"
   ]
  },
  {
   "cell_type": "markdown",
   "id": "93723da6-3294-4eb5-a4e7-2511a2c5f34d",
   "metadata": {},
   "source": [
    "The next program counts input lines. As we mentioned above, the standard library ensures that an input text stream appears as a sequence of lines, each terminated by a newline. Hence, counting lines is just counting newlines:"
   ]
  },
  {
   "cell_type": "code",
   "execution_count": 2,
   "id": "37114213-c790-4fcb-8712-8abb914f48aa",
   "metadata": {
    "execution": {
     "iopub.execute_input": "2024-01-16T20:16:16.170873Z",
     "iopub.status.busy": "2024-01-16T20:16:16.169979Z",
     "iopub.status.idle": "2024-01-16T20:16:16.268179Z",
     "shell.execute_reply": "2024-01-16T20:16:16.263369Z",
     "shell.execute_reply.started": "2024-01-16T20:16:16.170843Z"
    },
    "tags": []
   },
   "outputs": [
    {
     "name": "stdout",
     "output_type": "stream",
     "text": [
      "0\n"
     ]
    }
   ],
   "source": [
    "#include <stdio.h>\n",
    "\n",
    "/* count lines in input; 1st version */\n",
    "int main(void)\n",
    "{\n",
    "\tint c, nl;\n",
    "\n",
    "\tnl = 0;\n",
    "\twhile ((c = getchar()) != EOF)\n",
    "\t\tif (c == '\\n')\n",
    "\t\t\t++nl;\n",
    "\tprintf(\"%d\\n\", nl);\n",
    "}"
   ]
  },
  {
   "cell_type": "markdown",
   "id": "3ed973d9-8600-4f6b-8c8e-3003210a74cd",
   "metadata": {},
   "source": [
    "```\n",
    "./a.out \n",
    "hello\n",
    "world\n",
    "2\n",
    "```"
   ]
  },
  {
   "cell_type": "markdown",
   "id": "280b991b-cc93-433f-a136-aa68bb636f65",
   "metadata": {},
   "source": [
    "The double equals sign `==` is the C notation for “is equal to” (like Pascal’s single `=` or Fortran’s `.EQ.`). This symbol is used to distinguish the equality test from the single `=` that C uses for assignment. A word of caution: newcomers to C occasionally write `=` when they mean `==`. As we will see in Chapter 2, the result is usually a legal expression, so you will get no warning.\n",
    "\n",
    "A character written between single quotes represents an integer value equal to the numerical value of the character in the machine’s character set. This is called a character constant, although it is just another way to write a small integer. So, for example, ′A′ is a character constant; in the ASCII character set its value is 65, the internal representation of the character A. Of course ′A′ is to be preferred over 65: its meaning is obvious, and it is independent of a particular character set.\n",
    "\n",
    "The escape sequences used in string constants are also legal in character constants, so `′\\n′` stands for the value of the newline character, which is `10` in ASCII. You should note carefully that `′\\n′` is a single character, and in expressions is just an integer; on the other hand, `\"\\n\"` is a string constant that happens to contain only one character. The topic of strings versus characters is discussed further in Chapter 2."
   ]
  },
  {
   "cell_type": "markdown",
   "id": "98e64a83-c57a-435c-9940-1ce26319712d",
   "metadata": {},
   "source": [
    "#### Exercise 1-8"
   ]
  },
  {
   "cell_type": "markdown",
   "id": "9f649013-9121-47ce-86ec-ce18978db9fb",
   "metadata": {},
   "source": [
    "Write a program to count blanks, tabs, and newlines."
   ]
  },
  {
   "cell_type": "code",
   "execution_count": 3,
   "id": "450388e1-d91c-4c0e-9938-88e2c195e58e",
   "metadata": {
    "execution": {
     "iopub.execute_input": "2024-01-16T20:18:01.733835Z",
     "iopub.status.busy": "2024-01-16T20:18:01.733484Z",
     "iopub.status.idle": "2024-01-16T20:18:01.880269Z",
     "shell.execute_reply": "2024-01-16T20:18:01.879463Z",
     "shell.execute_reply.started": "2024-01-16T20:18:01.733805Z"
    },
    "tags": []
   },
   "outputs": [
    {
     "name": "stdout",
     "output_type": "stream",
     "text": [
      "Blanks: 0, tabs: 0, newlines: 0\n"
     ]
    }
   ],
   "source": [
    "#include <stdio.h>\n",
    "\n",
    "/* count lines in input; 1st version */\n",
    "int main(void)\n",
    "{\n",
    "    int c, blanks, tabs, newlines;\n",
    "\n",
    "    blanks = tabs = newlines = 0;\n",
    "    while ((c = getchar()) != EOF)\n",
    "        if (c == ' ')\n",
    "                ++blanks;\n",
    "        else if (c == '\\t')\n",
    "                ++tabs;\n",
    "        else if (c == '\\n')\n",
    "                ++newlines;\n",
    "    printf(\"Blanks: %d, tabs: %d, newlines: %d\\n\", blanks, tabs, newlines);\n",
    "}"
   ]
  },
  {
   "cell_type": "markdown",
   "id": "33088d78-311b-4c6a-909e-f9027d491927",
   "metadata": {},
   "source": [
    "```\n",
    "./a.out \n",
    "hello C\n",
    "my name is Vadim\n",
    "this    is      tab\n",
    "two tabs\n",
    "Blanks: 5, tabs: 2, newlines: 4\n",
    "```"
   ]
  },
  {
   "cell_type": "markdown",
   "id": "9718875f-581c-42e0-a94f-0c0c977a324e",
   "metadata": {},
   "source": [
    "#### Exercise 1-9"
   ]
  },
  {
   "cell_type": "markdown",
   "id": "7adab67c-8fa3-41fc-978d-427ea82f3a6f",
   "metadata": {},
   "source": [
    "Write a program to copy its input to its output, replacing each string of one or more blanks by a single blank."
   ]
  },
  {
   "cell_type": "markdown",
   "id": "8ce332c6-bd42-4ea0-a528-2ea68203c371",
   "metadata": {},
   "source": [
    "#### Exercise 1-10"
   ]
  },
  {
   "cell_type": "markdown",
   "id": "1f0223cd-22e0-4052-9412-aa1a75525a9b",
   "metadata": {},
   "source": [
    "Write a program to copy its input to its output, replacing each tab by `\\t`, each backspace by `\\b`, and each backslash by `\\\\`. This makes tabs and backspaces visible in an unambiguous way."
   ]
  },
  {
   "cell_type": "markdown",
   "id": "9e3507bd-9d87-428e-98e7-d5f77d41985e",
   "metadata": {},
   "source": [
    "### 1.5.4 Word Counting"
   ]
  },
  {
   "cell_type": "markdown",
   "id": "a12571b4-ceae-48ac-8b5b-a5344205c539",
   "metadata": {},
   "source": [
    "The fourth in our series of useful programs counts lines, words, and characters, with the loose definition that \n",
    "\n",
    "> a **word** is any sequence of characters that does not contain a blank, tab or newline. \n",
    "\n",
    "This is a bare-bones version of the UNIX program `wc`."
   ]
  },
  {
   "cell_type": "code",
   "execution_count": 1,
   "id": "28fb09c2-127a-4095-8a8f-9b698cda02b7",
   "metadata": {
    "collapsed": true,
    "execution": {
     "iopub.execute_input": "2024-01-16T20:18:15.775706Z",
     "iopub.status.busy": "2024-01-16T20:18:15.774850Z",
     "iopub.status.idle": "2024-01-16T20:18:16.061523Z",
     "shell.execute_reply": "2024-01-16T20:18:16.060288Z",
     "shell.execute_reply.started": "2024-01-16T20:18:15.775644Z"
    },
    "jupyter": {
     "outputs_hidden": true
    },
    "tags": []
   },
   "outputs": [
    {
     "name": "stdout",
     "output_type": "stream",
     "text": [
      "WC(1)                            User Commands                           WC(1)\n",
      "\n",
      "NAME\n",
      "       wc - print newline, word, and byte counts for each file\n",
      "\n",
      "SYNOPSIS\n",
      "       wc [OPTION]... [FILE]...\n",
      "       wc [OPTION]... --files0-from=F\n",
      "\n",
      "DESCRIPTION\n",
      "       Print newline, word, and byte counts for each FILE, and a total line if\n",
      "       more than one FILE is specified.  A word is a non-zero-length  sequence\n",
      "       of printable characters delimited by white space.\n",
      "\n",
      "       With no FILE, or when FILE is -, read standard input.\n",
      "\n",
      "       The  options  below may be used to select which counts are printed, al‐\n",
      "       ways in the following order: newline, word,  character,  byte,  maximum\n",
      "       line length.\n",
      "\n",
      "       -c, --bytes\n",
      "              print the byte counts\n",
      "\n",
      "       -m, --chars\n",
      "              print the character counts\n",
      "\n",
      "       -l, --lines\n",
      "              print the newline counts\n",
      "\n",
      "       --files0-from=F\n",
      "              read  input  from the files specified by NUL-terminated names in\n",
      "              file F; If F is - then read names from standard input\n",
      "\n",
      "       -L, --max-line-length\n",
      "              print the maximum display width\n",
      "\n",
      "       -w, --words\n",
      "              print the word counts\n",
      "\n",
      "       --help display this help and exit\n",
      "\n",
      "       --version\n",
      "              output version information and exit\n",
      "\n",
      "AUTHOR\n",
      "       Written by Paul Rubin and David MacKenzie.\n",
      "\n",
      "REPORTING BUGS\n",
      "       GNU coreutils online help: <https://www.gnu.org/software/coreutils/>\n",
      "       Report any translation bugs to <https://translationproject.org/team/>\n",
      "\n",
      "COPYRIGHT\n",
      "       Copyright © 2022 Free Software Foundation, Inc.   License  GPLv3+:  GNU\n",
      "       GPL version 3 or later <https://gnu.org/licenses/gpl.html>.\n",
      "       This  is  free  software:  you  are free to change and redistribute it.\n",
      "       There is NO WARRANTY, to the extent permitted by law.\n",
      "\n",
      "SEE ALSO\n",
      "       Full documentation <https://www.gnu.org/software/coreutils/wc>\n",
      "       or available locally via: info '(coreutils) wc invocation'\n",
      "\n",
      "GNU coreutils 9.1               September 2022                           WC(1)\n"
     ]
    }
   ],
   "source": [
    "man wc"
   ]
  },
  {
   "cell_type": "code",
   "execution_count": 1,
   "id": "2d562a9c-f10e-4b17-8a8d-6615addd90f5",
   "metadata": {
    "execution": {
     "iopub.execute_input": "2024-01-16T20:18:27.217471Z",
     "iopub.status.busy": "2024-01-16T20:18:27.217067Z",
     "iopub.status.idle": "2024-01-16T20:18:27.362086Z",
     "shell.execute_reply": "2024-01-16T20:18:27.360922Z",
     "shell.execute_reply.started": "2024-01-16T20:18:27.217438Z"
    },
    "tags": []
   },
   "outputs": [
    {
     "name": "stdout",
     "output_type": "stream",
     "text": [
      "0 0 0\n"
     ]
    }
   ],
   "source": [
    "#include <stdio.h>\n",
    "\n",
    "#define IN 1  // inside a word\n",
    "#define OUT 0 // outside a word\n",
    "\n",
    "/* count lines, words, and characters in input */\n",
    "int main()\n",
    "{\n",
    "    int c, nl, nw, nc, state;\n",
    "\n",
    "    state = OUT;\n",
    "    nl = nw = nc = 0;\n",
    "    while ((c = getchar()) != EOF)\n",
    "    {\n",
    "        ++nc;\n",
    "        if (c == '\\n')\n",
    "            ++nl;\n",
    "        if (c == ' ' || c == '\\n' || c == '\\t')\n",
    "            state = OUT;\n",
    "        else if (state == OUT)\n",
    "        {\n",
    "            state = IN;\n",
    "            ++nw;\n",
    "        }\n",
    "    }\n",
    "    printf(\"%d %d %d\\n\", nl, nw, nc);\n",
    "}"
   ]
  },
  {
   "cell_type": "markdown",
   "id": "0ea2837c-e0ab-4f84-a44f-0c8d9c477853",
   "metadata": {},
   "source": [
    "```\n",
    "./a.out \n",
    "hello world\n",
    "this is Vadim   from the USSR!\n",
    "2 8 42\n",
    "```\n",
    "\n",
    "Every time the program encounters the first character of a word, it counts one more word. The variable state records whether the program is currently in a word or not; initially it is “not in a word,” which is assigned the value `OUT`. We prefer the symbolic constants `IN` and `OUT` to the literal values `1` and `0` because they make the program more readable. In a program as tiny as this, it makes little difference, but in larger programs, the increase in clarity is well worth the modest extra effort to write it this way from the beginning. You’ll also find that it’s easier to make extensive changes in programs where magic numbers appear only as symbolic constants.\n",
    "***\n",
    "ChatGPT:\n",
    "\n",
    "The term \"**magic numbers**\" refers to literal or hardcoded numerical values that are used in programming without any clear explanation of their meaning or purpose. These numbers are often arbitrary and seem to have a special significance within the code.\n",
    "\n",
    "The passage you mentioned refers to the use of symbolic constants (such as `IN` and `OUT`) instead of literal values (such as `1` and `0`) to improve the readability and maintainability of the code. By using symbolic constants, the code becomes more self-explanatory and easier to understand, as the meaning and purpose of these values are explicitly stated through the constants' names.\n",
    "\n",
    "Using symbolic constants instead of magic numbers provides several advantages:\n",
    "\n",
    "- **Readability**: The code becomes more human-readable, as the symbolic constants have meaningful names that convey their purpose and intent.\n",
    "\n",
    "- **Maintainability**: If the value of a particular constant needs to be changed in the future, it only needs to be modified at one location, rather than searching for all occurrences of the magic number throughout the code.\n",
    "\n",
    "- **Code clarity and understanding**: By using symbolic constants, the code becomes self-documenting, making it easier for other programmers (including the original developer) to understand and modify the code later on.\n",
    "\n",
    "- **Flexibility**: By defining values as symbolic constants, the code becomes more flexible and adaptable to changes. If the program requirements change and certain values need to be adjusted, it can be done easily by modifying the constants' definitions.\n",
    "\n",
    "In larger programs, where changes and modifications are more frequent, avoiding the use of magic numbers by replacing them with symbolic constants becomes even more essential. This approach enhances the code's readability, maintainability, and overall quality.\n",
    "***\n",
    "\n",
    "The line\n",
    "```c\n",
    "nl = nw = nc = 0;\n",
    "```\n",
    "sets all three variables to zero. This is not a special case, but a consequence of the fact that an assignment is an expression with a value and assignments associate from right to left. It’s as if we had written:\n",
    "\n",
    "```c\n",
    "nl = (nw = (nc = 0));\n",
    "```\n",
    "\n",
    "The operator `||` means `OR`, so the line\n",
    "\n",
    "```c\n",
    "if (c == ′ ′ || c == ′\\n′ || c == ′\\t′)\n",
    "```\n",
    "    \n",
    "says “_if `c` is a blank **or** `c` is a newline **or** `c` is a tab_”. (Recall that the escape sequence `\\t` is a visible representation of the tab character.) There is a corresponding operator `&&` for `AND`; its precedence is just higher than `||`. Expressions connected by `&&` or `||` are evaluated left to right, and it is guaranteed that evaluation will stop as soon as the truth or falsehood is known. If `c` is a blank, there is no need to test whether it is a newline or tab, so these tests are not made. This isn’t particularly important here, but is significant in more complicated situations, as we will soon see.\n",
    "\n",
    "The example also shows an `else`, which specifies an alternative action if the condition part of an `if` statement is false. The general form is\n",
    "\n",
    "```c\n",
    "if (expression)\n",
    "        statement1\n",
    "else\n",
    "        statement2\n",
    "```\n",
    "\n",
    "One and only one of the two statements associated with an `if-else` is performed. If the expression is `true`, `statement1` is executed; if not, `statement2` is executed. Each statement can be a single statement or several in braces. In the word count program, the one after the `else` is an `if` that controls two statements in braces."
   ]
  },
  {
   "cell_type": "markdown",
   "id": "6981ed9c-484c-4b1f-b54c-6c83acdd1d61",
   "metadata": {},
   "source": [
    "#### Exercise 1-11"
   ]
  },
  {
   "cell_type": "markdown",
   "id": "e4b51001-4b9c-4d81-be33-f37272237fd1",
   "metadata": {},
   "source": [
    "How would you test the `word count` program? What kinds of input are most likely to uncover bugs if there are any?"
   ]
  },
  {
   "cell_type": "markdown",
   "id": "9731da10-db97-428a-a077-ed81a163f327",
   "metadata": {},
   "source": [
    "#### Exercise 1-12"
   ]
  },
  {
   "cell_type": "markdown",
   "id": "591f75d6-b895-4d41-9e7e-826ef55f3a9f",
   "metadata": {},
   "source": [
    "Write a program that prints its input one word per line."
   ]
  },
  {
   "cell_type": "code",
   "execution_count": 2,
   "id": "a9efc247-e7b5-47f5-bf0e-1cffa5ace22c",
   "metadata": {
    "execution": {
     "iopub.execute_input": "2024-01-16T20:26:16.259382Z",
     "iopub.status.busy": "2024-01-16T20:26:16.258537Z",
     "iopub.status.idle": "2024-01-16T20:26:16.357731Z",
     "shell.execute_reply": "2024-01-16T20:26:16.356436Z",
     "shell.execute_reply.started": "2024-01-16T20:26:16.259356Z"
    },
    "tags": []
   },
   "outputs": [],
   "source": [
    "#include <stdio.h>\n",
    "\n",
    "#define IN 1  // inside a word\n",
    "#define OUT 0 // outside a word\n",
    "\n",
    "/* count lines, words, and characters in input */\n",
    "int main()\n",
    "{\n",
    "    int c,state;\n",
    "    int prev_c;\n",
    "\n",
    "    state = OUT;\n",
    "    prev_c = -1;  // check for extra ' ', \\n, \\t\n",
    "    while ((c = getchar()) != EOF)\n",
    "    {\n",
    "        if (c == ' ' || c == '\\n' || c == '\\t')\n",
    "        {\n",
    "            if (prev_c == ' ' || prev_c == '\\n' || prev_c == '\\t')\n",
    "                    continue;  // we do not need extra new lines\n",
    "            state = OUT;\n",
    "            printf(\"\\n\");\n",
    "        }\n",
    "        else if (state == OUT)\n",
    "            state = IN;\n",
    "        if (state == IN)\n",
    "            putchar(c);\n",
    "        prev_c = c;\n",
    "    }\n",
    "}"
   ]
  },
  {
   "cell_type": "markdown",
   "id": "fe385113-b958-4c97-973b-8f2bab74da96",
   "metadata": {},
   "source": [
    "```\n",
    "./a.out \n",
    "hello world (enter)\n",
    "hello\n",
    "world\n",
    " hello world (enter)\n",
    "hello\n",
    "world\n",
    " hello  world (enter)\n",
    "hello\n",
    "world\n",
    "        hello world (enter)\n",
    "hello\n",
    "world\n",
    "```"
   ]
  },
  {
   "cell_type": "markdown",
   "id": "97b6a9ae-8a77-439f-a591-a1aa234b8818",
   "metadata": {},
   "source": [
    "## 1.6 Arrays"
   ]
  },
  {
   "cell_type": "markdown",
   "id": "55691749-b8b2-40df-904f-edde9f14d25a",
   "metadata": {},
   "source": [
    "Let us write a program to count the number of occurrences of each digit, of white space characters (blank, tab, newline), and of all other characters. This is artificial, but it permits us to illustrate several aspects of C in one program.\n",
    "\n",
    "There are twelve categories of input, so it is convenient to use an array to hold the number of occurrences of each digit, rather than ten individual variables. Here is one version of the program:"
   ]
  },
  {
   "cell_type": "code",
   "execution_count": 3,
   "id": "d567e65c-bf22-413b-a2d3-55b76aa90727",
   "metadata": {
    "execution": {
     "iopub.execute_input": "2024-01-16T20:27:22.812408Z",
     "iopub.status.busy": "2024-01-16T20:27:22.811602Z",
     "iopub.status.idle": "2024-01-16T20:27:22.920157Z",
     "shell.execute_reply": "2024-01-16T20:27:22.918135Z",
     "shell.execute_reply.started": "2024-01-16T20:27:22.812382Z"
    },
    "tags": []
   },
   "outputs": [
    {
     "name": "stdout",
     "output_type": "stream",
     "text": [
      "digits = 0000000000, white space = 0, other = 0\n"
     ]
    }
   ],
   "source": [
    "#include <stdio.h>\n",
    "\n",
    "/* count digits, white spaces,  others */\n",
    "int main()\n",
    "{\n",
    "    int c, i, nwhite, nother;\n",
    "    int ndigit[10];\n",
    "\n",
    "    nwhite = nother = 0;\n",
    "    for (i = 0; i < 10; i++)\n",
    "            ndigit[i] = 0;\n",
    "\n",
    "    while ((c = getchar()) != EOF)\n",
    "        if (c >= '0' && c <= '9')\n",
    "                ++ndigit[c-'0'];\n",
    "        else if (c == ' ' || c == '\\n' || c == '\\t')\n",
    "                ++nwhite;\n",
    "        else\n",
    "                ++nother;\n",
    "\n",
    "    printf(\"digits = \");\n",
    "    for (i = 0; i < 10; i++)\n",
    "            printf(\"%d\", ndigit[i]);\n",
    "    printf(\", white space = %d, other = %d\\n\", nwhite, nother);\n",
    "}"
   ]
  },
  {
   "cell_type": "markdown",
   "id": "d61d8139-a0ac-429c-a561-7b7679082fa0",
   "metadata": {},
   "source": [
    "```\n",
    "./a.out\n",
    "(program itself's text)\n",
    "\n",
    "digits = 9300000001, white space = 123, other = 349\n",
    "```"
   ]
  },
  {
   "cell_type": "markdown",
   "id": "b6639531-8920-425f-90c6-c7e4ff5a1ef4",
   "metadata": {},
   "source": [
    "The declaration\n",
    "\n",
    "```c\n",
    "int ndigit[10];\n",
    "```\n",
    "\n",
    "declares `ndigit` to be an array of 10 integers. Array **subscripts** (a numerical index) **always start at zero in C**, so the elements are `ndigit[0]`, `ndigit[1]`, ..., `ndigit[9]`. This is reflected in the `for` loops that initialize and print the array.\n",
    "\n",
    "A subscript can be any integer expression, which includes integer variables like `i`, and integer constants.\n",
    "\n",
    "This particular program relies on the properties of the character representation of the digits. For example, the test\n",
    "\n",
    "```c\n",
    "if (c >= ′0′ && c <= ′9′) ...\n",
    "```\n",
    "\n",
    "determines whether the character in `c` is a digit. If it is, the numeric value of that digit is\n",
    "\n",
    "```c\n",
    "c - ′0′\n",
    "```\n",
    "\n",
    "This works only if `′0′`, `′1′`, ..., `′9′` have consecutive increasing values. Fortunately, this is true for all character sets.\n",
    "\n",
    "By definition, `char`s are just small integers, so `char` variables and constants are identical to `int`s in arithmetic expressions. This is natural and convenient; for example, `c-′0′` is an integer expression with a value between `0` and `9` corresponding to the character `′0′` to `′9′` stored in `c`, and is thus a valid subscript for the array `ndigit`.\n",
    "\n",
    "The decision as to whether a character is a digit, white space, or something else is made with the sequence\n",
    "\n",
    "```c\n",
    "if (c >= ′0′ && c <= ′9′)\n",
    "    ++ndigit[c-′0′];\n",
    "else if (c == ′ ′ || c == ′\\n′ || c == ′\\t′)\n",
    "    ++nwhite;\n",
    "else\n",
    "    ++nother;\n",
    "```\n",
    "\n",
    "The pattern\n",
    "```c\n",
    "if  (condition1)\n",
    "         statement1\n",
    "else if (condition2)\n",
    "         statement2\n",
    "...\n",
    "          ...\n",
    "else\n",
    "         statementn\n",
    "```\n",
    "\n",
    "occurs frequently in programs as a way to express a multi-way decision. The conditions are evaluated in order from the top until some condition is satisfied; at that point the corresponding statement part is executed, and the entire construction is finished. (Any statement can be several statements enclosed in braces.) If none of the conditions is satisfied, the statement after the final else is executed if it is present. If the final `else` and statement are omitted, as in the `word count` program, no action takes place. There can be any number of\n",
    "\n",
    "```c\n",
    "else if (condition)\n",
    "           statement\n",
    "```\n",
    "\n",
    "groups between the initial `if` and the final `else`.\n",
    "\n",
    "As a matter of style, it is advisable to format this construction as we have shown; if each `if` were indented past the previous `else`, a long sequence of decisions would march off the right side of the page.\n",
    "\n",
    "The `switch` statement, to be discussed in Chapter 3, provides another way to write a multi-way branch that is particularly suitable when the condition is whether some integer or character expression matches one of a set of constants. For contrast, we will present a switch version of this program in Section 3.4."
   ]
  },
  {
   "cell_type": "markdown",
   "id": "e323e71f-28d5-41e2-8173-22ef83caf9cf",
   "metadata": {},
   "source": [
    "### Exercise 1-13"
   ]
  },
  {
   "cell_type": "markdown",
   "id": "074fbd25-1410-4ecb-95da-54ca781017c0",
   "metadata": {},
   "source": [
    "Write a program to print a histogram of the lengths of words in its input. It is easy to draw the histogram with the bars horizontal; a vertical orientation is more challenging."
   ]
  },
  {
   "cell_type": "code",
   "execution_count": 4,
   "id": "231bf185-fa39-40b7-b103-28db9a6a148e",
   "metadata": {
    "execution": {
     "iopub.execute_input": "2024-01-16T20:28:50.951517Z",
     "iopub.status.busy": "2024-01-16T20:28:50.951042Z",
     "iopub.status.idle": "2024-01-16T20:28:51.050615Z",
     "shell.execute_reply": "2024-01-16T20:28:51.046732Z",
     "shell.execute_reply.started": "2024-01-16T20:28:50.951481Z"
    },
    "tags": []
   },
   "outputs": [],
   "source": [
    "#include <stdio.h>\n",
    "\n",
    "#define IN 1\n",
    "#define OUT 0\n",
    "\n",
    "/* draw histograms of the words' length */\n",
    "int main()\n",
    "{\n",
    "\tint c, i, state, prev_c, length;\n",
    "\n",
    "\tstate = OUT;\n",
    "\tprev_c = -1;\n",
    "\tlength = 0;\n",
    "\n",
    "\twhile ((c = getchar()) != EOF)\n",
    "\t{\n",
    "\t\tif (c == ' ' || c == '\\n' || c == '\\t')\n",
    "\t\t{\n",
    "\t\t\tif (prev_c == ' ' || prev_c == '\\n' || prev_c == '\\t')\n",
    "\t\t\t\tcontinue;\n",
    "\t\t\tfor (i = 0; i < length; i++)\n",
    "\t\t\t\tprintf(\"#\");\n",
    "\t\t\tprintf(\"\\n\");\n",
    "\t\t\tstate = OUT;\n",
    "\t\t\tlength = 0;\n",
    "\t\t}\n",
    "\t\telse if (state == OUT)\n",
    "\t\t\tstate = IN;\n",
    "\n",
    "\t\tif (state == IN)\n",
    "\t\t\t++length;\n",
    "\n",
    "\t\tprev_c = c;\n",
    "\t}\n",
    "}"
   ]
  },
  {
   "cell_type": "markdown",
   "id": "68b176ee-64c4-4e57-a39d-0d173cb55c86",
   "metadata": {},
   "source": [
    "```\n",
    "./a.out \n",
    "good afternoon  Mrs.            Smith\n",
    "####\n",
    "#########\n",
    "####\n",
    "#####\n",
    "```"
   ]
  },
  {
   "cell_type": "markdown",
   "id": "fd1a908c-4066-4fad-99fe-8b7148e9f25a",
   "metadata": {},
   "source": [
    "### Exercise 1-14"
   ]
  },
  {
   "cell_type": "markdown",
   "id": "f37d09e2-8fc4-469e-80ee-71b3ea961c55",
   "metadata": {},
   "source": [
    "Write a program to print a histogram of the frequencies of different characters in its input."
   ]
  },
  {
   "cell_type": "code",
   "execution_count": 5,
   "id": "41fe9230-b3eb-42ce-9309-39c5d95a31d0",
   "metadata": {
    "execution": {
     "iopub.execute_input": "2024-01-16T20:29:02.155087Z",
     "iopub.status.busy": "2024-01-16T20:29:02.154614Z",
     "iopub.status.idle": "2024-01-16T20:29:02.263647Z",
     "shell.execute_reply": "2024-01-16T20:29:02.261764Z",
     "shell.execute_reply.started": "2024-01-16T20:29:02.155049Z"
    },
    "tags": []
   },
   "outputs": [],
   "source": [
    "#include <stdio.h>\n",
    "\n",
    "/* plot the frequency of characters */\n",
    "int main()\n",
    "{\n",
    "\tint c, i, j;\n",
    "\tint chars[128];\n",
    "\n",
    "\t// initialize the array\n",
    "\tfor (i = 0; i < 128; i++)\n",
    "\t\tchars[i] = 0;\n",
    "\n",
    "\t// count each character occurences\n",
    "\twhile ((c = getchar()) != EOF)\n",
    "\t\t++chars[c];\n",
    "\n",
    "\t// print the results\n",
    "\tfor (i = 0; i < 128; i++)\n",
    "\t{\n",
    "\t\t// print only the occured chars\n",
    "\t\tint count = chars[i];\n",
    "\t\tif (count > 0)\n",
    "\t\t{\n",
    "            printf(\"\\n\");\n",
    "\t\t\t// print char\n",
    "\t\t\tif (i == '\\n')\n",
    "\t\t\t\tprintf(\"\\\\n\");\n",
    "\t\t\telse if (i == '\\t')\n",
    "\t\t\t\tprintf(\"\\\\t\");\n",
    "\t\t\telse if (i == ' ')\n",
    "\t\t\t\tprintf(\"ws\");\n",
    "\t\t\telse\n",
    "\t\t\t{\n",
    "\t\t\t\tputchar(i);\n",
    "\t\t\t\tprintf(\" \");\n",
    "\t\t\t}\n",
    "\t\t\tprintf(\" \");\n",
    "\n",
    "\t\t\t// plot histogram\n",
    "\t\t\tfor (j = 0; j < count; j++)\n",
    "\t\t\t\tprintf(\"#\");\n",
    "\t\t}\n",
    "\t}\n",
    "}"
   ]
  },
  {
   "cell_type": "markdown",
   "id": "df87e090-8759-4141-b9b4-17edf57021ec",
   "metadata": {},
   "source": [
    "```\n",
    "./a.out \n",
    "all you gotta do is to think about tomorrow,\n",
    "this is your duty and curse.\n",
    "sorry for that buddy\n",
    "\\n ##\n",
    "ws ################\n",
    ",  #\n",
    ".  #\n",
    "a  #####\n",
    "b  ##\n",
    "c  #\n",
    "d  #####\n",
    "e  #\n",
    "f  #\n",
    "g  #\n",
    "h  ###\n",
    "i  ####\n",
    "k  #\n",
    "l  ##\n",
    "m  #\n",
    "n  ##\n",
    "o  ###########\n",
    "r  #######\n",
    "s  #####\n",
    "t  ##########\n",
    "u  ######\n",
    "w  #\n",
    "y  #####\n",
    "```"
   ]
  },
  {
   "cell_type": "markdown",
   "id": "2809f923-35bc-4917-886c-02a030ec8f0c",
   "metadata": {},
   "source": [
    "## 1.7 Functions"
   ]
  },
  {
   "cell_type": "markdown",
   "id": "633d5805-acd0-46df-bba8-ca916ddba4a0",
   "metadata": {},
   "source": [
    "In C, a **function** is equivalent to a subroutine or function in Fortran, or a procedure or function in Pascal. \n",
    "\n",
    "A function provides a convenient way to encapsulate some computation, which can then be used without worrying about its implementation. With properly designed functions, it is possible to ignore how a job is done; knowing what is done is sufficient. \n",
    "\n",
    "C makes the use of functions easy, convenient and efficient; you will often see a short function defined and called only once, just because it clarifies some piece of code.\n",
    "\n",
    "So far we have used only functions like `printf`, `getchar`, and `putchar` that have been provided for us; now it’s time to write a few of our own. Since C has no exponentiation operator like the `**` of Fortran, let us illustrate the mechanics of function definition by writing a function `power(m,n)` to raise an integer `m` to a positive integer power `n`. That is, the value of `power(2,5)` is `32`. This function is not a practical exponentiation routine, since it handles only positive powers of small integers, but it’s good enough for illustration. (The standard library contains a function `pow(x,y)` that computes $x^y$.)\n",
    "\n",
    "Here is the function `power` and a `main` program to exercise it, so you can see the whole structure at once."
   ]
  },
  {
   "cell_type": "code",
   "execution_count": 6,
   "id": "dac6672b-f653-4351-83bc-a4ab999ab8c5",
   "metadata": {
    "execution": {
     "iopub.execute_input": "2024-01-16T20:29:43.647711Z",
     "iopub.status.busy": "2024-01-16T20:29:43.646799Z",
     "iopub.status.idle": "2024-01-16T20:29:43.755461Z",
     "shell.execute_reply": "2024-01-16T20:29:43.752230Z",
     "shell.execute_reply.started": "2024-01-16T20:29:43.647670Z"
    },
    "tags": []
   },
   "outputs": [
    {
     "name": "stdout",
     "output_type": "stream",
     "text": [
      "0:     2      -3\n",
      "1:     4       9\n",
      "2:     8     -27\n",
      "3:    16      81\n",
      "4:    32    -243\n",
      "5:    64     729\n",
      "6:   128   -2187\n",
      "7:   256    6561\n",
      "8:   512  -19683\n",
      "9:  1024   59049\n"
     ]
    }
   ],
   "source": [
    "#include <stdio.h>\n",
    "\n",
    "int power(int m, int n);\n",
    "\n",
    "/* test power function */\n",
    "int main()\n",
    "{\n",
    "\tint i;\n",
    "\n",
    "\tfor (i = 0; i < 10; i++)\n",
    "\t\tprintf(\"%d: %5d %7d\\n\", i, power(2, i), power(-3, i));\n",
    "\treturn 0;\n",
    "}\n",
    "\n",
    "\n",
    "/* power: raise base to n-th power; n >=0 */\n",
    "int power(int base, int n)\n",
    "{\n",
    "\tint i, p;\n",
    "\n",
    "\tp = 1;\n",
    "\tfor (i = 0; i <= n; i++)\n",
    "\t\tp *= base;\n",
    "\n",
    "\treturn p;\n",
    "}"
   ]
  },
  {
   "cell_type": "markdown",
   "id": "db3a1524-99dd-4f2e-8726-3b63e94ba5a8",
   "metadata": {},
   "source": [
    "A **function definition** has this form:\n",
    "\n",
    "```\n",
    "return-type function-name(parameter declarations, if any)\n",
    "{\n",
    "    declarations\n",
    "    statements\n",
    "}\n",
    "```\n",
    "\n",
    "Function definitions can appear in any order, and in one source file or several, although no function can be split between files (i.e. the entire definition of a function must be contained within a single file). If the source program appears in several files, you may have to say more to compile and load it than if it all appears in one, but that is an operating system matter, not a language attribute. For the moment, we will assume that both functions are in the same file, so whatever you have learned about running C programs will still work.\n",
    "\n",
    "The function power is called twice by `main`, in the line\n",
    "\n",
    "```c\n",
    "printf(\"%d %d %d\\n\", i, power(2,i), power(-3,i));\n",
    "```\n",
    "\n",
    "Each call passes two arguments to `power`, which each time returns an integer to be formatted and printed. In an expression, `power(2,i)` is an integer just as 2 and i are. (Not all functions produce an integer value; we will take this up in Chapter 4.)\n",
    "The first line of power itself,\n",
    "\n",
    "```c\n",
    "int power(int base, int n)\n",
    "```\n",
    "    \n",
    "declares the parameter types and names, and the type of the result that the function returns. The names used by `power` for its parameters are local to `power`, and are not visible to any other function: other routines can use the same names without conflict. This is also true of the variables `i` and `p`: the `i` in `power` is unrelated to the `i` in `main`.\n",
    "\n",
    "We will generally use parameter for a variable named in the parenthesized list in a function definition, and argument for the value used in a call of the function. The terms **formal argument** and **actual argument** are sometimes used for the same distinction.\n",
    "\n",
    "The value that `power` computes is returned to `main` by the **return statement**. Any expression may follow `return`:\n",
    "\n",
    "```c\n",
    "return expression;\n",
    "```\n",
    "\n",
    "A function need not return a value; a return statement with no expression causes control, but no useful value, to be returned to the caller, as does “falling off the end” of a function by reaching the terminating right brace. And the calling function can ignore a value returned by a function.\n",
    "\n",
    "You may have noticed that there is a return statement at the end of `main`. Since `main` is a function like any other, it may return a value to its **caller**, which is in effect the environment in which the program was executed. Typically, \n",
    "- a return value of `zero` implies normal termination; \n",
    "- non-zero values signal unusual or erroneous termination conditions. \n",
    "\n",
    "In the interests of simplicity, we have omitted return statements from our `main` functions up to this point, but we will include them hereafter, as a reminder that programs should return status to their environment.\n",
    "\n",
    "The declaration\n",
    "\n",
    "```c\n",
    "int power(int m, int n);\n",
    "```\n",
    "\n",
    "just before `main` says that power is a function that expects two `int` arguments and returns an `int`. This declaration, which is called a **function prototype**, has to agree with the definition and uses of `power`. It is an error if the definition of a function or any uses of it do not agree with its prototype.\n",
    "\n",
    "**Parameter names need not agree**. Indeed, parameter names are optional in a function prototype, so for the prototype we could have written\n",
    "\n",
    "```c\n",
    "int power(int, int);\n",
    "```\n",
    "\n",
    "Well-chosen names are good documentation, however, so we will often use them.\n",
    "\n",
    "> A note of history: The biggest change between ANSI C and earlier versions is how functions are declared and defined. In the original definition of C, the `power` function would have been written like this:\n",
    "\n",
    "```c\n",
    "/* power:  raise base to n-th power; n >= 0 */\n",
    "/* (old-style version) */\n",
    "power(base, n)\n",
    "int base, n;\n",
    "{\n",
    "    int i, p;\n",
    "\n",
    "    p = 1;\n",
    "    for (i = 1; i <= n; ++i)\n",
    "        p = p * base;\n",
    "    return p;\n",
    "}\n",
    "```\n",
    "\n",
    "The parameters are named between the parentheses, and their types are declared before the opening left brace; undeclared parameters are taken as `int`. (The body of the function is the same as before.)\n",
    "\n",
    "The declaration of `power` at the beginning of the program would have looked like this:\n",
    "\n",
    "```c\n",
    "int power();\n",
    "```\n",
    "\n",
    "No parameter list was permitted, so the compiler could not readily check that `power` was being called correctly. Indeed, since by default `power` would have been assumed to return an `int`, the entire declaration might well have been omitted.\n",
    "\n",
    "The new syntax of function prototypes makes it much easier for a compiler to detect errors in the number of arguments or their types. The old style of declaration and definition still works in ANSI C, at least for a transition period, but we strongly recommend that you use the new form when you have a compiler that supports it."
   ]
  },
  {
   "cell_type": "markdown",
   "id": "1cc1c75f-6f3c-45be-b895-fce22331e1e5",
   "metadata": {},
   "source": [
    "### Exercise 1-15"
   ]
  },
  {
   "cell_type": "markdown",
   "id": "7f413260-98bd-4ca3-91ff-49649a993082",
   "metadata": {},
   "source": [
    "Rewrite the temperature conversion program of [Section 1.2](#section_1_2) to use a function for conversion."
   ]
  },
  {
   "cell_type": "code",
   "execution_count": 7,
   "id": "c5dc4467-47d0-43fc-89ec-65ef52abacaf",
   "metadata": {
    "execution": {
     "iopub.execute_input": "2024-01-16T20:31:15.228367Z",
     "iopub.status.busy": "2024-01-16T20:31:15.227952Z",
     "iopub.status.idle": "2024-01-16T20:31:15.332699Z",
     "shell.execute_reply": "2024-01-16T20:31:15.330820Z",
     "shell.execute_reply.started": "2024-01-16T20:31:15.228334Z"
    },
    "tags": []
   },
   "outputs": [
    {
     "name": "stdout",
     "output_type": "stream",
     "text": [
      "Celsius: Fahrenheit:\n",
      "  -40\t      -40\n",
      "  -20\t       -4\n",
      "    0\t       32\n",
      "   20\t       68\n",
      "   40\t      104\n",
      "   60\t      140\n",
      "   80\t      176\n",
      "  100\t      212\n",
      "  120\t      248\n",
      "  140\t      284\n"
     ]
    }
   ],
   "source": [
    "#include <stdio.h>\n",
    "\n",
    "float celsius_to_fahr(float celsius);\n",
    "\n",
    "/*\n",
    " print Celsius-Fahrenheit table\n",
    "   for celsius = -40, -30, ..., 140\n",
    "*/\n",
    "int main(void)\n",
    "{\n",
    "\tfloat celsius;\n",
    "\tfloat lower, upper, step;\n",
    "\n",
    "\tlower = -40;\t\t// lower limit of temperature scale\n",
    "\tupper = 140;\t// upper limit\n",
    "\tstep = 20;\t\t// step size\n",
    "\n",
    "\tcelsius = lower;\n",
    "\tprintf(\"Celsius: Fahrenheit:\\n\");\n",
    "\twhile (celsius <= upper)\n",
    "\t{\n",
    "\t\tprintf(\"%5.0f\\t%9.0f\\n\", celsius, celsius_to_fahr(celsius));\n",
    "\t\tcelsius += step;\n",
    "\t}\n",
    "}\n",
    "\n",
    "\n",
    "float celsius_to_fahr(float celsius)\n",
    "{\n",
    "\treturn celsius * 9.0 / 5.0 + 32.0;\n",
    "}"
   ]
  },
  {
   "cell_type": "markdown",
   "id": "d0d9131e-e743-4dbc-9fe4-0420ff6b0355",
   "metadata": {},
   "source": [
    "## 1.8 Arguments - <b>Call by Value</b>"
   ]
  },
  {
   "cell_type": "markdown",
   "id": "34e1d376-0666-467b-b4e0-19fbbab96dbd",
   "metadata": {},
   "source": [
    "One aspect of C functions may be unfamiliar to programmers who are used to some other languages, particularly Fortran. In C, all function arguments are passed **“by value.”** This means that \n",
    "\n",
    "> the called function is given the values of its arguments in temporary variables rather than the originals. \n",
    "\n",
    "This leads to some different properties than are seen with **“call by reference”** languages like Fortran or with var parameters in Pascal, in which the called routine has access to the original argument, not a local copy.\n",
    "\n",
    "The main distinction is that \n",
    "\n",
    "> in C the called function cannot directly alter a variable in the calling function; it can only alter its private, temporary copy.\n",
    "\n",
    "Call by value is an asset, however, not a liability. It usually leads to more compact programs with fewer extraneous variables, because parameters can be treated as conveniently initialized local variables in the called routine. For example, here is a version of `power` that makes use of this property:"
   ]
  },
  {
   "cell_type": "code",
   "execution_count": 8,
   "id": "aebc88fa-5d26-41d9-990e-72c50b882524",
   "metadata": {
    "execution": {
     "iopub.execute_input": "2024-01-16T20:32:55.734542Z",
     "iopub.status.busy": "2024-01-16T20:32:55.734130Z",
     "iopub.status.idle": "2024-01-16T20:32:55.834603Z",
     "shell.execute_reply": "2024-01-16T20:32:55.833552Z",
     "shell.execute_reply.started": "2024-01-16T20:32:55.734509Z"
    },
    "tags": []
   },
   "outputs": [
    {
     "name": "stdout",
     "output_type": "stream",
     "text": [
      "9\n",
      "3, 2\n"
     ]
    }
   ],
   "source": [
    "#include <stdio.h>\n",
    "\n",
    "int power(int, int);\n",
    "\n",
    "/* power: raise base to n-th power; n>=0; version 2 */\n",
    "int main(void)\n",
    "{\n",
    "    int base, n;\n",
    "\n",
    "    base = 3;\n",
    "    n = 2;\n",
    "\n",
    "\tprintf(\"%d\\n\", power(3, 2));\n",
    "    printf(\"%d, %d\\n\", base, n);\n",
    "}\n",
    "\n",
    "\n",
    "int power(int base, int n)\n",
    "{\n",
    "\tint p;\n",
    "\n",
    "\tfor (p = 1; n > 0; n--)\n",
    "\t\tp *= base;\n",
    "\treturn p;\n",
    "}"
   ]
  },
  {
   "cell_type": "markdown",
   "id": "ac356ad6-bafe-4252-b71b-086d81635125",
   "metadata": {},
   "source": [
    "The parameter `n` is used as a temporary variable, and is counted down (a `for` loop that runs backwards) until it becomes zero; there is no longer a need for the variable `i`. Whatever is done to `n` inside `power` has no effect on the argument that `power` was originally called with.\n",
    "\n",
    "When necessary, it is possible to arrange for a function to modify a variable in a calling routine. The caller must provide the **address** of the variable to be set (technically a **pointer** to the variable), and the called function must declare the parameter to be a pointer and access the variable indirectly through it. We will cover pointers in Chapter 5.\n",
    "\n",
    "The story is different for arrays. When the name of an array is used as an argument, _the value passed to the function is the location or address of the beginning of the array_ — there is no copying of array elements. By subscripting (indexing) this value, the function can access and alter any element of the array. This is the topic of the next section."
   ]
  },
  {
   "cell_type": "markdown",
   "id": "9b94620a-2967-47cb-98d6-8d9d3921a3bb",
   "metadata": {},
   "source": [
    "## 1.9 Character Arrays"
   ]
  },
  {
   "cell_type": "markdown",
   "id": "8bd8fa30-4bd4-4375-85b0-e66fc42a41b4",
   "metadata": {},
   "source": [
    "The most common type of array in C is the **array of characters**. To illustrate the use of character arrays and functions to manipulate them, let’s write a program that reads a set of text lines and prints the longest. The outline is simple enough:\n",
    "\n",
    "```\n",
    "while  (there’s another line)\n",
    "    if  (it’s longer than the previous longest)\n",
    "        save it\n",
    "        save its length\n",
    "print longest line\n",
    "```\n",
    "\n",
    "This outline makes it clear that the program divides naturally into pieces:\n",
    "- one piece gets a new line, \n",
    "- another tests it, \n",
    "- another saves it, and \n",
    "- the rest controls the process.\n",
    "\n",
    "Since things divide so nicely, it would be well to write them that way too. Accordingly, let us first write a separate function `getline` to fetch the next line of input. We will try to make the function useful in other contexts. At the minimum, `getline` has to return a signal about possible end of file; a more useful design would be to return the length of the line, or zero if end of file is encountered. Zero is an acceptable end-of-file return because it is never a valid line length. Every text line has at least one character; even a line containing only a newline has length `1`.\n",
    "\n",
    "When we find a line that is longer than the previous longest line, it must be saved somewhere. This suggests a second function, `copy`, to copy the new line to a safe place.\n",
    "\n",
    "Finally, we need a `main` program to control `getline` and `copy`. Here is the result:"
   ]
  },
  {
   "cell_type": "code",
   "execution_count": 9,
   "id": "a5ed5416-a76a-4fe1-b82e-4c116343bf7a",
   "metadata": {
    "execution": {
     "iopub.execute_input": "2024-01-16T20:33:23.298269Z",
     "iopub.status.busy": "2024-01-16T20:33:23.297697Z",
     "iopub.status.idle": "2024-01-16T20:33:23.396081Z",
     "shell.execute_reply": "2024-01-16T20:33:23.394346Z",
     "shell.execute_reply.started": "2024-01-16T20:33:23.298231Z"
    },
    "tags": []
   },
   "outputs": [],
   "source": [
    "#include <stdio.h>\n",
    "\n",
    "#define MAXLINE 1000  // maximum input line size\n",
    "\n",
    "int get_line(char line[], int maxline);\n",
    "void copy(char to[], char from[]);\n",
    "\n",
    "/* print longest input line */\n",
    "int main(void)\n",
    "{\n",
    "\tint len; \t// current line length\n",
    "\tint max; \t// maximum length seen so far\n",
    "\tchar line[MAXLINE];\t\t// current input line\n",
    "\tchar longest[MAXLINE];\t// longest line saved here\n",
    "\n",
    "\tmax = 0;\n",
    "\twhile ((len = get_line(line, MAXLINE)) > 0)\n",
    "\t\tif (len > max)\n",
    "\t\t{\n",
    "\t\t\tmax = len;\n",
    "\t\t\tcopy(longest, line);\n",
    "\t\t}\n",
    "\tif (max > 0) \t// there was a line\n",
    "\t{\n",
    "\t\tprintf(\"\\nThe longest line is:\\n\");\n",
    "\t\tprintf(\"%s\", longest);\n",
    "\t}\n",
    "\treturn 0;\n",
    "}\n",
    "\n",
    "\n",
    "/* get line: read a line into s, return length */\n",
    "int get_line(char s[], int lim)\n",
    "{\n",
    "\tint c, i;\n",
    "\n",
    "\tfor (i = 0; i < lim-1 && (c=getchar())!=EOF && c!='\\n'; ++i)\n",
    "\t\ts[i] = c;\n",
    "\tif (c == '\\n')\n",
    "\t{\n",
    "\t\ts[i] = '\\n';\n",
    "\t\t++i;\n",
    "\t}\n",
    "\ts[i] = '\\0';\n",
    "\treturn i;\n",
    "}\n",
    "\n",
    "\n",
    "/* copy: copy 'from' into 'to'; assume to is big enough */\n",
    "void copy(char to[], char from[])\n",
    "{\n",
    "\tint i;\n",
    "\n",
    "\ti = 0;\n",
    "\twhile ((to[i] = from[i]) != '\\0')\n",
    "\t\t++i;\n",
    "}"
   ]
  },
  {
   "cell_type": "markdown",
   "id": "092785ab-7313-4291-8168-33cf06ef08cd",
   "metadata": {},
   "source": [
    "```\n",
    "./a.out \n",
    "my name is Vadim\n",
    "hi\n",
    "hello world\n",
    "\n",
    "The longest line is:\n",
    "my name is Vadim\n",
    "```"
   ]
  },
  {
   "cell_type": "markdown",
   "id": "ec8fc216-0516-4769-ace7-ad129bf69f5b",
   "metadata": {},
   "source": [
    "The functions `getline` and `copy` are declared at the beginning of the program, which we assume is contained in one file.\n",
    "\n",
    "`main` and `getline` communicate through a pair of arguments and a returned value. In `getline`, the arguments are declared by the line\n",
    "\n",
    "```c\n",
    "int getline(char s[], int lim);\n",
    "```\n",
    "\n",
    "which specifies that the first argument, `s`, is an array, and the second, `lim`, is an integer. The purpose of supplying the size of an array in a declaration is to set aside storage. The length of the array `s` is not necessary in `getline` since its size is set in `main`. \n",
    "\n",
    "`getline` uses `return` to send a value back to the caller, just as the function `power` did. This line also declares that `getline` returns an `int`; since `int` is the default return type, it could be omitted (_not true anymore_).\n",
    "\n",
    "Some functions return a useful value; others, like `copy`, are used only for their effect and return no value. The return type of copy is `void`, which states explicitly that no value is returned.\n",
    "\n",
    "`getline` puts the character `′\\0′` (the IInull characterII, whose value is zero) at the end of the array it is creating, to mark the end of the string of characters. This convention is also used by the C language: when a string constant like\n",
    "\n",
    "```c\n",
    "   \"hello\\n\"\n",
    "```\n",
    "\n",
    "appears in a C program, it is stored as an array of characters containing the characters of the string and terminated with a `′\\0′` to mark the end.\n",
    "\n",
    "The `%s` format specification in `printf` expects the corresponding argument to be a string represented in this form. `copy` also relies on the fact that its input argument is terminated by `′\\0′`, and it copies this character into the output argument. (All of this implies that `′\\0′` is not a part of normal text.)\n",
    "\n",
    "It is worth mentioning in passing that even a program as small as this one presents some sticky design problems. For example, what should `main` do if it encounters a line which is bigger than its `limit`? `getline` works safely, in that it stops collecting when the array is full, even if no newline has been seen. By testing the length and the last character returned, `main` can determine whether the line was too long, and then cope as it wishes. In the interests of brevity, we have ignored the issue.\n",
    "\n",
    "There is no way for a user of `getline` to know in advance how long an input line might be, so `getline` checks for overflow. On the other hand, the user of `copy` already knows (or can find out) how big the strings are, so we have chosen not to add error checking to it."
   ]
  },
  {
   "cell_type": "markdown",
   "id": "3b0db4f1-a604-479b-8ab8-2e888d0fc26a",
   "metadata": {},
   "source": [
    "### Exercise 1-16"
   ]
  },
  {
   "cell_type": "markdown",
   "id": "d3adae71-34f5-4166-8fa4-297bc5d8fc37",
   "metadata": {},
   "source": [
    "Revise the `main` routine of the `longest-line` program so it will correctly print\n",
    "- the length of arbitrarily long input lines, and \n",
    "- as much as possible of the text."
   ]
  },
  {
   "cell_type": "code",
   "execution_count": 10,
   "id": "eccada00-241b-433b-a660-2b90ee420120",
   "metadata": {
    "execution": {
     "iopub.execute_input": "2024-01-16T20:33:39.900931Z",
     "iopub.status.busy": "2024-01-16T20:33:39.900395Z",
     "iopub.status.idle": "2024-01-16T20:33:40.026741Z",
     "shell.execute_reply": "2024-01-16T20:33:40.025547Z",
     "shell.execute_reply.started": "2024-01-16T20:33:39.900895Z"
    },
    "tags": []
   },
   "outputs": [
    {
     "name": "stdout",
     "output_type": "stream",
     "text": [
      "\n",
      "The user typed this text: \n",
      "\n",
      "The length of the longest line is: 0\n",
      "The total input length is: 0\n"
     ]
    }
   ],
   "source": [
    "#include <stdio.h>\n",
    "\n",
    "#define MAXLINE 1000  // maximum input line size\n",
    "\n",
    "int get_line(char line[], int maxline);\n",
    "void copy(char to[], char from[]);\n",
    "\n",
    "/* print longest input line */\n",
    "int main(void)\n",
    "{\n",
    "\tint len; \t// current line length\n",
    "\tint max; \t// maximum length seen so far\n",
    "\tint total_len;\t// total input len\n",
    "\tchar line[MAXLINE];\t\t// current input line\n",
    "\tchar text[MAXLINE*MAXLINE];\t\t// all the text\n",
    "\tint position;\t// the indexer for copyting lines\n",
    "\n",
    "\tmax = total_len = position = 0;\n",
    "\twhile ((len = get_line(line, MAXLINE)) > 0)\n",
    "\t{\n",
    "\t\tif (len > max)\n",
    "\t\t{\n",
    "\t\t\tmax = len;\n",
    "\t\t}\n",
    "\t\tfor (int i = 0; (text[position] = line[i]) != '\\0'; ++i)\n",
    "\t\t\t++position;\n",
    "\t\tprintf(\"The line's length is: %d\\n\", len);\n",
    "\t\ttotal_len += len;\n",
    "\t}\n",
    "\n",
    "\tprintf(\"\\nThe user typed this text: \\n%s\\n\", text);\n",
    "\tprintf(\"The length of the longest line is: %d\\n\", max);\n",
    "\tprintf(\"The total input length is: %d\\n\", total_len);\n",
    "\n",
    "\treturn 0;\n",
    "}\n",
    "\n",
    "\n",
    "/* get line: read a line into s, return length */\n",
    "int get_line(char s[], int lim)\n",
    "{\n",
    "\tint c, i;\n",
    "\n",
    "\tfor (i = 0; i < lim-1 && (c=getchar())!=EOF && c!='\\n'; ++i)\n",
    "\t\ts[i] = c;\n",
    "\tif (c == '\\n')\n",
    "\t{\n",
    "\t\ts[i] = '\\n';\n",
    "\t\t++i;\n",
    "\t}\n",
    "\ts[i] = '\\0';\n",
    "\treturn i;\n",
    "}"
   ]
  },
  {
   "cell_type": "markdown",
   "id": "aa019c5d-5c47-4b6c-ae3b-f4306c42417a",
   "metadata": {},
   "source": [
    "```\n",
    "./a.out\n",
    "Gutten Abend Genosse!\n",
    "The line's length is: 22\n",
    "I am so pleased to see ya'll here today\n",
    "The line's length is: 40\n",
    "The Victory in near!\n",
    "The line's length is: 21\n",
    "No pasaran! Rot Front!\n",
    "The line's length is: 23\n",
    "\n",
    "The user typed this text: \n",
    "Gutten Abend Genosse!\n",
    "I am so pleased to see ya'll here today\n",
    "The Victory in near!\n",
    "No pasaran! Rot Front!\n",
    "\n",
    "The length of the longest line is: 40\n",
    "The total input length is: 106\n",
    "```\n",
    "\n",
    "```\n",
    "valgrind ./a.out \n",
    "\n",
    "==64359== Memcheck, a memory error detector\n",
    "==64359== Copyright (C) 2002-2022, and GNU GPL'd, by Julian Seward et al.\n",
    "==64359== Using Valgrind-3.19.0 and LibVEX; rerun with -h for copyright info\n",
    "==64359== Command: ./a.out\n",
    "==64359== \n",
    "hello comrades\n",
    "The line's length is: 15\n",
    "this is the first time we meet\n",
    "The line's length is: 31\n",
    "and we have to discuss very important questions of our fight with the imperialism         \n",
    "The line's length is: 82\n",
    "victory is near!\n",
    "The line's length is: 17\n",
    "\n",
    "The user typed this text: \n",
    "hello comrades\n",
    "this is the first time we meet\n",
    "and we have to discuss very important questions of our fight with the imperialism\n",
    "victory is near!\n",
    "\n",
    "The length of the longest line is: 82\n",
    "The total input length is: 145\n",
    "==64359== \n",
    "==64359== HEAP SUMMARY:\n",
    "==64359==     in use at exit: 0 bytes in 0 blocks\n",
    "==64359==   total heap usage: 2 allocs, 2 frees, 2,048 bytes allocated\n",
    "==64359== \n",
    "==64359== All heap blocks were freed -- no leaks are possible\n",
    "==64359== \n",
    "==64359== For lists of detected and suppressed errors, rerun with: -s\n",
    "==64359== ERROR SUMMARY: 0 errors from 0 contexts (suppressed: 0 from 0)\n",
    "```"
   ]
  },
  {
   "cell_type": "markdown",
   "id": "e81c90d0-b164-4483-8dad-c5abf3417fe3",
   "metadata": {},
   "source": [
    "### Exercise 1-17"
   ]
  },
  {
   "cell_type": "markdown",
   "id": "21381e3c-0a50-472e-b620-44507a5699c4",
   "metadata": {},
   "source": [
    "Write a program to print all input lines that are longer than 80 characters."
   ]
  },
  {
   "cell_type": "code",
   "execution_count": 11,
   "id": "e29d3098-40dd-486e-87fb-0deaa8e24151",
   "metadata": {
    "execution": {
     "iopub.execute_input": "2024-01-16T20:33:50.537000Z",
     "iopub.status.busy": "2024-01-16T20:33:50.536471Z",
     "iopub.status.idle": "2024-01-16T20:33:50.669698Z",
     "shell.execute_reply": "2024-01-16T20:33:50.668547Z",
     "shell.execute_reply.started": "2024-01-16T20:33:50.536965Z"
    },
    "tags": []
   },
   "outputs": [
    {
     "name": "stdout",
     "output_type": "stream",
     "text": [
      "\n",
      "The lines that are longer than 80 characters:\n",
      "\n"
     ]
    }
   ],
   "source": [
    "#include <stdio.h>\n",
    "\n",
    "#define MAXLINE 1000\n",
    "#define MIN 80\n",
    "\n",
    "int get_line(char line[], int maxline);\n",
    "void copy(char to[], char from[]);\n",
    "int line_to_text(char to[], char from[], int carret_position);\n",
    "\n",
    "/* print longest input line */\n",
    "int main(void)\n",
    "{\n",
    "\tint len; \t// current line length\n",
    "\tchar line[MAXLINE];\t\t// current input line\n",
    "\tchar text[MAXLINE*MAXLINE];\n",
    "\tint position;   // byte carret for text[]\n",
    "\n",
    "\tposition = 0;\n",
    "\twhile ((len = get_line(line, MAXLINE)) > 0)\n",
    "\t\tif (len > MIN)\n",
    "\t\t\tposition = line_to_text(text, line, position);\n",
    "\n",
    "\tprintf(\"\\nThe lines that are longer than %d characters:\\n\", MIN);\n",
    "\tprintf(\"%s\\n\", text);\n",
    "\n",
    "\treturn 0;\n",
    "}\n",
    "\n",
    "\n",
    "/* get line: read a line into s, return length */\n",
    "int get_line(char s[], int lim)\n",
    "{\n",
    "\tint c, i;\n",
    "\n",
    "\tfor (i = 0; i < lim-1 && (c=getchar())!=EOF && c!='\\n'; ++i)\n",
    "\t\ts[i] = c;\n",
    "\tif (c == '\\n')\n",
    "\t{\n",
    "\t\ts[i] = '\\n';\n",
    "\t\t++i;\n",
    "\t}\n",
    "\ts[i] = '\\0';\n",
    "\treturn i;\n",
    "}\n",
    "\n",
    "\n",
    "int line_to_text(char to[], char from[], int position)\n",
    "{\n",
    "\tint i;\n",
    "\n",
    "\tfor (i = 0; (to[position] = from[i]) != '\\0'; ++i)\n",
    "\t\t++position;\n",
    "\n",
    "\treturn position;\n",
    "}"
   ]
  },
  {
   "cell_type": "markdown",
   "id": "bb0317ad-69df-496a-a8c4-7ee2391710da",
   "metadata": {},
   "source": [
    "```\n",
    "./a.out \n",
    "\"The stars winked at her, beckoning her to a distant galaxy.\" \n",
    "\"As the alien mothership descended from the skies, its sheer size and otherworldly presence sent shivers down their spines, fearing an impending invasion.\" \n",
    "\"The android, with its advanced artificial intelligence, contemplated the meaning of existence and pondered its own mortality, defying its programming.\"\n",
    "\n",
    "The lines that are longer than 80 characters:\n",
    "\"As the alien mothership descended from the skies, its sheer size and otherworldly presence sent shivers down their spines, fearing an impending invasion.\" \n",
    "\"The android, with its advanced artificial intelligence, contemplated the meaning of existence and pondered its own mortality, defying its programming.\"\n",
    "```"
   ]
  },
  {
   "cell_type": "markdown",
   "id": "488fd0d0-4466-4685-9e15-9e0b400f4a24",
   "metadata": {},
   "source": [
    "### Exercise 1-18"
   ]
  },
  {
   "cell_type": "markdown",
   "id": "0f04779e-ac05-4d11-bf8b-0d28dae1da00",
   "metadata": {},
   "source": [
    "Write a program \n",
    "- to remove trailing blanks and tabs from each line of input, and \n",
    "- to delete entirely blank lines."
   ]
  },
  {
   "cell_type": "code",
   "execution_count": 2,
   "id": "64333b8c-e89c-43e0-a82d-90b9c88392bd",
   "metadata": {
    "execution": {
     "iopub.execute_input": "2024-01-19T10:00:18.515482Z",
     "iopub.status.busy": "2024-01-19T10:00:18.514488Z",
     "iopub.status.idle": "2024-01-19T10:00:18.572369Z",
     "shell.execute_reply": "2024-01-19T10:00:18.571168Z",
     "shell.execute_reply.started": "2024-01-19T10:00:18.515438Z"
    },
    "tags": []
   },
   "outputs": [],
   "source": [
    "#include <stdio.h>\n",
    "\n",
    "#define MAXLINE 1000\n",
    "\n",
    "int get_line(char line[], int maxline);\n",
    "void copy(char to[], char from[]);\n",
    "\n",
    "/* print longest input line */\n",
    "int main(void)\n",
    "{\n",
    "\tint len; \t// current line length\n",
    "\tchar line[MAXLINE];\t\t// current input line\n",
    "\n",
    "\twhile ((len = get_line(line, MAXLINE)) > 0)\n",
    "\t\tprintf(\"%s\\n\", line);\n",
    "\n",
    "\treturn 0;\n",
    "}\n",
    "\n",
    "\n",
    "/* get line: read a line into s, return length */\n",
    "int get_line(char s[], int lim)\n",
    "{\n",
    "\tint c, i;\n",
    "\n",
    "\t// populate s\n",
    "\tfor (i = 0; i < lim-1 && (c=getchar())!=EOF && c!='\\n'; ++i)\n",
    "\t\ts[i] = c;\n",
    "\n",
    "\t// remove blanks and tabs\n",
    "\twhile (i >= 0) {\n",
    "\t\t--i;\n",
    "\t\tif (s[i] != ' ' && s[i] != '\\t' && s[i] != EOF)\n",
    "\t\t\tbreak;\n",
    "\t}\n",
    "\t++i;\n",
    "\n",
    "//\tif (c == '\\n')\n",
    "//\t{\n",
    "//\t\ts[i] = '\\n';\n",
    "//\t\t++i;\n",
    "//\t}\n",
    "\n",
    "\ts[i] = '\\0';\n",
    "\n",
    "\treturn i;\n",
    "}\n",
    "\n",
    "\n",
    "int line_to_text(char to[], char from[], int position)\n",
    "{\n",
    "\tint i;\n",
    "\n",
    "\tfor (i = 0; (to[position] = from[i]) != '\\0'; ++i)\n",
    "\t\t++position;\n",
    "\n",
    "\treturn position;\n",
    "}"
   ]
  },
  {
   "cell_type": "markdown",
   "id": "766cf166-d2ed-4c09-b047-e81c8e1e6a41",
   "metadata": {},
   "source": [
    "```sh\n",
    "$ ./a.out \n",
    "hello    \n",
    "hello\n",
    "world             \n",
    "world\n",
    "endend\n",
    "```"
   ]
  },
  {
   "cell_type": "markdown",
   "id": "10294c43-3354-428c-b2ba-a198045a975d",
   "metadata": {},
   "source": [
    "### Exercise 1-19"
   ]
  },
  {
   "cell_type": "markdown",
   "id": "010dcea8-23c1-4b81-b000-350955b1fae1",
   "metadata": {},
   "source": [
    "Write a function `reverse(s)` that reverses the character string `s`. Use it to write a program that reverses its input a line at a time."
   ]
  },
  {
   "cell_type": "code",
   "execution_count": 14,
   "id": "5515a8ec-e50c-4f87-b8cc-95e7438b6618",
   "metadata": {
    "execution": {
     "iopub.execute_input": "2024-01-16T21:28:34.881376Z",
     "iopub.status.busy": "2024-01-16T21:28:34.880434Z",
     "iopub.status.idle": "2024-01-16T21:28:35.037607Z",
     "shell.execute_reply": "2024-01-16T21:28:35.036103Z",
     "shell.execute_reply.started": "2024-01-16T21:28:34.881341Z"
    },
    "tags": []
   },
   "outputs": [],
   "source": [
    "#include <stdio.h>\n",
    "\n",
    "#define MAXLINE 1000  // maximum input line size\n",
    "\n",
    "\n",
    "int get_line(char line[], int maxline);\n",
    "void copy(char to[], char from[]);\n",
    "int reverse(char line[], int maxline);\n",
    "\n",
    "\n",
    "/* print longest input line */\n",
    "int main(void)\n",
    "{\n",
    "\tint len; \t// current line length\n",
    "\tchar line[MAXLINE];\t\t// current input line\n",
    "\n",
    "\twhile ((len = reverse(line, MAXLINE)) > 0)\n",
    "\t\tprintf(\"%s\\n\", line);\n",
    "\n",
    "\treturn 0;\n",
    "}\n",
    "\n",
    "\n",
    "/* get line: read a line into s, return length */\n",
    "int get_line(char s[], int lim)\n",
    "{\n",
    "\tint c, i;\n",
    "\n",
    "\tfor (i = 0; i < lim-1 && (c=getchar())!=EOF && c!='\\n'; ++i)\n",
    "\t\ts[i] = c;\n",
    "\tif (c == '\\n')\n",
    "\t{\n",
    "\t\ts[i] = '\\n';\n",
    "\t\t++i;\n",
    "\t}\n",
    "\ts[i] = '\\0';\n",
    "\treturn i;\n",
    "}\n",
    "\n",
    "\n",
    "/* copy: copy 'from' into 'to'; assume to is big enough */\n",
    "void copy(char to[], char from[])\n",
    "{\n",
    "\tint i;\n",
    "\n",
    "\ti = 0;\n",
    "\twhile ((to[i] = from[i]) != '\\0')\n",
    "\t\t++i;\n",
    "}\n",
    "\n",
    "\n",
    "int reverse(char s[], int lim)\n",
    "{\n",
    "\tint len, i, j;\n",
    "\tlen = get_line(s, lim);\n",
    "\n",
    "\tchar reversed_s[len];\t// tmp string\n",
    "\n",
    "\tj = 0;\n",
    "\tfor (i = len-1; i >= 0; --i) {\n",
    "\t\tif (s[i] != '\\n') {\n",
    "\t\t\treversed_s[j] = s[i];\n",
    "\t\t\t++j;\n",
    "\t\t}\n",
    "\t}\n",
    "\treversed_s[j] = '\\0';\n",
    "\n",
    "\tcopy(s, reversed_s);\n",
    "\n",
    "\treturn len;\n",
    "}"
   ]
  },
  {
   "cell_type": "markdown",
   "id": "ac103730-f791-4700-93b4-a2fbba2a0860",
   "metadata": {},
   "source": [
    "```\n",
    "./a.out \n",
    "hello world\n",
    "dlrow olleh\n",
    "my name is Vadim\n",
    "midaV si eman ym\n",
    "I made some fun program\n",
    "margorp nuf emos edam I\n",
    "```"
   ]
  },
  {
   "cell_type": "markdown",
   "id": "afebc6d7-6c66-4d7c-89fd-28fb272abdff",
   "metadata": {},
   "source": [
    "## 1.10 `extern`"
   ]
  },
  {
   "cell_type": "markdown",
   "id": "1b974733-ffd9-423d-b318-19a45ddc3872",
   "metadata": {},
   "source": [
    "### External Variables and Scope"
   ]
  },
  {
   "cell_type": "markdown",
   "id": "8402c127-a97e-4cb0-919d-e62cd52df127",
   "metadata": {},
   "source": [
    "The variables in `main`, such as `line`, `longest`, etc., are **private** or **local** to main. Because they are declared within `main`, no other function can have direct access to them. The same is true of the variables in other functions; for example, the variable `i` in `getline` is unrelated to the `i` in `copy`. Each local variable in a function comes into existence only when the function is called, and disappears when the function is exited. This is why such variables are usually known as **automatic variables**, following terminology in other languages. We will use the term automatic henceforth to refer to these local variables. (**Chapter 4** discusses the `static` storage class, in which local variables do retain their values between calls.)\n",
    "\n",
    "Because automatic variables come and go with function invocation, they do not retain their values from one call to the next, and must be explicitly set upon each entry. If they are not set, they will contain **garbage**.\n",
    "\n",
    "As an alternative to automatic variables, it is possible to define variables that are external to all functions, that is, variables that can be accessed by name by any function. (This mechanism is rather like Fortran `COMMON` or Pascal variables declared in the outermost block.) Because **external variables** are globally accessible, they can be used instead of argument lists to communicate data between functions. Furthermore, because external variables remain in existence permanently, rather than appearing and disappearing as functions are called and exited, they retain their values even after the functions that set them have returned.\n",
    "\n",
    "An external variable must be \n",
    "- **defined**, exactly once, outside of any function; this sets aside storage for it. \n",
    "- **declared** in each function that wants to access it; this states the type of the variable. The **declaration** may be an explicit `extern` statement or may be implicit from context. \n",
    "\n",
    "To make the discussion concrete, let us rewrite the `longest-line` program with `line`, `longest`, and `max` as external variables. This requires changing the calls, declarations, and bodies of all three functions:"
   ]
  },
  {
   "cell_type": "code",
   "execution_count": 1,
   "id": "8f8992f7-25a6-4e43-8810-d81a8e08af38",
   "metadata": {
    "execution": {
     "iopub.execute_input": "2024-01-20T21:06:21.470966Z",
     "iopub.status.busy": "2024-01-20T21:06:21.467935Z",
     "iopub.status.idle": "2024-01-20T21:06:21.617629Z",
     "shell.execute_reply": "2024-01-20T21:06:21.615046Z",
     "shell.execute_reply.started": "2024-01-20T21:06:21.470913Z"
    },
    "tags": []
   },
   "outputs": [],
   "source": [
    "#include <stdio.h>\n",
    "\n",
    "#define MAXLINE 1000\t/* maximum input line size */\n",
    "\n",
    "int max;\t/* maximum length seen so far */\n",
    "char line[MAXLINE]; \t/* current input line */\n",
    "char longest[MAXLINE];\t/* longest line saved here */\n",
    "\n",
    "int get_line(void);\n",
    "void copy(void);\n",
    "\n",
    "\n",
    "/* print longest input line; specialized version */\n",
    "int main()\n",
    "{\n",
    "\tint len;\n",
    "\textern int max;\n",
    "\textern char longest[];\n",
    "\n",
    "\tmax = 0;\n",
    "\twhile ((len = get_line()) > 0)\n",
    "\t\tif (len > max) {\n",
    "\t\t\tmax = len;\n",
    "\t\t\tcopy();\n",
    "\t\t}\n",
    "\tif (max > 0) /* there was a line */\n",
    "\t\tprintf(\"%s\", longest);\n",
    "\treturn 0;\n",
    "}\n",
    "\n",
    "\n",
    "/* get_line: specialized version */\n",
    "int get_line(void)\n",
    "{\n",
    "\tint c, i;\n",
    "\textern char line[];\n",
    "\n",
    "\tfor (i = 0; i < MAXLINE-1\n",
    "\t  && (c = getchar()) != EOF && c != '\\n'; ++i)\n",
    "\t\tline[i] = c;\n",
    "\tif (c == '\\n') {\n",
    "\t\tline[i] = '\\n';\n",
    "\t\t++i;\n",
    "\t}\n",
    "\tline[i] = '\\0';\n",
    "\treturn i;\n",
    "}\n",
    "\n",
    "\n",
    "/* copy: specialized version */\n",
    "void copy(void)\n",
    "{\n",
    "\tint i;\n",
    "\textern char line[], longest[];\n",
    "\n",
    "\ti = 0;\n",
    "\twhile ((longest[i] = line[i]) != '\\0')\n",
    "\t\t++i;\n",
    "}"
   ]
  },
  {
   "cell_type": "markdown",
   "id": "20822f35-acf8-447e-84ff-8b871d05e73c",
   "metadata": {},
   "source": [
    "The external variables in `main`, `getline`, and `copy` are defined by the first lines of the example above, which state their type and cause storage to be allocated for them. Syntactically, external definitions are just like definitions of local variables, but since they occur outside of functions, the variables are external. Before a function can use an external variable, the name of the variable must be made known to the function. One way to do this is to write an `extern` declaration in the function; the declaration is the same as before except for the added keyword `extern`.\n",
    "\n",
    "In certain circumstances, the `extern` declaration can be omitted. \n",
    "\n",
    "If the definition of an external variable occurs in the source file before its use in a particular function, then there is no need for an extern declaration in the function. The `extern` declarations in `main`, `getline` and `copy` are thus redundant. In fact, common practice is to place definitions of all external variables at the beginning of the source file, and then omit all `extern` declarations:"
   ]
  },
  {
   "cell_type": "code",
   "execution_count": 1,
   "id": "f75b3527-9fad-4a5e-8e1f-15e167341a79",
   "metadata": {
    "execution": {
     "iopub.execute_input": "2024-01-22T11:25:16.290857Z",
     "iopub.status.busy": "2024-01-22T11:25:16.290355Z",
     "iopub.status.idle": "2024-01-22T11:25:16.347099Z",
     "shell.execute_reply": "2024-01-22T11:25:16.346245Z",
     "shell.execute_reply.started": "2024-01-22T11:25:16.290816Z"
    },
    "tags": []
   },
   "outputs": [],
   "source": [
    "#include <stdio.h>\n",
    "\n",
    "#define MAXLINE 1000\t/* maximum input line size */\n",
    "\n",
    "int max;\t/* maximum length seen so far */\n",
    "char line[MAXLINE]; \t/* current input line */\n",
    "char longest[MAXLINE];\t/* longest line saved here */\n",
    "\n",
    "int get_line(void);\n",
    "void copy(void);\n",
    "\n",
    "\n",
    "/* print longest input line; specialized version */\n",
    "int main()\n",
    "{\n",
    "\tint len;\n",
    "\n",
    "\tmax = 0;\n",
    "\twhile ((len = get_line()) > 0)\n",
    "\t\tif (len > max) {\n",
    "\t\t\tmax = len;\n",
    "\t\t\tcopy();\n",
    "\t\t}\n",
    "\tif (max > 0) /* there was a line */\n",
    "\t\tprintf(\"%s\", longest);\n",
    "\treturn 0;\n",
    "}\n",
    "\n",
    "\n",
    "/* get_line: specialized version */\n",
    "int get_line(void)\n",
    "{\n",
    "\tint c, i;\n",
    "\n",
    "\tfor (i = 0; i < MAXLINE-1 && (c = getchar()) != EOF && c != '\\n'; ++i)\n",
    "\t\tline[i] = c;\n",
    "\tif (c == '\\n') {\n",
    "\t\tline[i] = '\\n';\n",
    "\t\t++i;\n",
    "\t}\n",
    "\tline[i] = '\\0';\n",
    "\treturn i;\n",
    "}\n",
    "\n",
    "\n",
    "/* copy: specialized version */\n",
    "void copy(void)\n",
    "{\n",
    "\tint i;\n",
    "\n",
    "\ti = 0;\n",
    "\twhile ((longest[i] = line[i]) != '\\0')\n",
    "\t\t++i;\n",
    "}"
   ]
  },
  {
   "cell_type": "markdown",
   "id": "172b0d9e-d3b8-4b28-bdda-2a9fe396d64d",
   "metadata": {},
   "source": [
    "If the program is in several source files, and a variable is defined in `file1` and used in `file2` and `file3`, then `extern` declarations are needed in `file2` and `file3` to connect the occurrences of the variable. \n",
    "\n",
    "> The usual practice is to collect `extern` declarations of variables and functions in a separate file, historically called a `header`, that is included by `#include` at the front of each source file. \n",
    "\n",
    "The suffix `.h` is conventional for header names. The functions of the standard library, for example, are declared in headers like `<stdio.h>`. This topic is discussed at length in **Chapter 4**, and the library itself in **Chapter 7** and **Appendix B**.\n",
    "\n",
    "Since the specialized versions of `getline` and `copy` have no arguments, logic would suggest that their prototypes at the beginning of the file should be `getline()` and `copy()`. But for compatibility with older C programs the standard takes an empty list as an old-style declaration, and turns off all argument list checking; the word `void` must be used for an explicitly empty list. We will discuss this further in **Chapter 4**.\n",
    "\n",
    "You should note that we are using the words _definition_ and _declaration_ carefully when we refer to external variables in this section:\n",
    "- “definition” refers to the place where the variable is created or assigned storage; \n",
    "- “declaration” refers to places where the nature of the variable is stated but no storage is allocated.\n",
    "\n",
    "By the way, there is a tendency to make everything in sight an `extern` variable because it appears to simplify communications — argument lists are short and variables are always there when you want them. But external variables are always there even when you don’t want them. Relying too heavily on external variables is fraught with peril since it leads to programs whose data connections are not at all obvious — variables can be changed in unexpected and even inadvertent ways, and the program is hard to modify. The second version of the `longest-line` program is inferior to the first, partly for these reasons, and partly because it destroys the generality of two useful functions by wiring into them the names of the variables they manipulate."
   ]
  },
  {
   "cell_type": "markdown",
   "id": "6dce79ac-e0e3-4559-9b64-695f04c5b05a",
   "metadata": {},
   "source": [
    "At this point we have covered what might be called the conventional core of C. With this handful of building blocks, it’s possible to write useful programs of considerable size, and it would probably be a good idea if you paused long enough to do so. These exercises suggest programs of somewhat greater complexity than the ones earlier in this chapter."
   ]
  },
  {
   "cell_type": "markdown",
   "id": "fdc775c5-c3c5-4efb-bd9f-86b0dbc6cb31",
   "metadata": {},
   "source": [
    "### `extern` in modern C"
   ]
  },
  {
   "cell_type": "markdown",
   "id": "13fc6960-f269-40a5-9b74-dd723dc45115",
   "metadata": {},
   "source": [
    "_ChatGPT_:  \n",
    "In modern C programming, the use of `extern` variables is less common compared to its historical usage. With the evolution of best practices and coding standards, the use of global variables (which `extern` variables often correspond to) has been discouraged in favor of **encapsulation** and **modularity**.\n",
    "\n",
    "**Global variables** can lead to issues such as \n",
    "- namespace pollution, \n",
    "- difficulty in tracking changes, and\n",
    "- potential for unintended modifications from multiple parts of the program. \n",
    "\n",
    "Instead, modern C programming often emphasizes the use of **local variables** to the greatest extent possible, and using techniques like \n",
    "- encapsulation, \n",
    "- data hiding, and \n",
    "- passing data explicitly between functions.\n",
    "\n",
    "However, there are still situations where `extern` variables may be used, such as when \n",
    "- interfacing with legacy code, \n",
    "- defining constant values to be shared across multiple files, or when \n",
    "- working with low-level libraries and hardware registers.\n",
    "\n",
    "Overall, while `extern` variables are still a valid feature of the C language, their usage is generally less frequent in modern C programming practices."
   ]
  },
  {
   "cell_type": "markdown",
   "id": "d8e3b62d-2e58-4bfb-b993-b1f804b10574",
   "metadata": {},
   "source": [
    "### Encapsulation and modularity"
   ]
  },
  {
   "cell_type": "markdown",
   "id": "428ec0c5-62f8-409a-82fc-05d803f4b563",
   "metadata": {},
   "source": [
    "_ChatGPT_:  \n",
    "Encapsulation and modularity are both principles in software design that aim to improve the organization, ease of maintenance, and reusability of code. While they share similarities, there are differences between the two concepts.\n",
    "\n",
    "**Encapsulation** refers to the bundling of data (variables) and methods (functions) that operate on the data into a single unit, known as a class in object-oriented programming. This allows for better control over the accessibility of the data and operations, as well as hiding the internal implementation details from the outside world. This can be achieved in C using structures or in modern C using the concept of **opaque pointers**, where data members are hidden from direct access and are accessed only through specific functions or methods.\n",
    "\n",
    "**Modularity**, on the other hand, is the concept of breaking down the software into smaller, self-contained units (modules) that can be developed, tested, and maintained independently. Each module typically has a well-defined interface through which it communicates with other modules, allowing for easier understanding, maintenance, and reuse of code. In modern C, modularity can be achieved through the use of header files and separating code into different source files, each containing related functions and data structures.\n",
    "\n",
    "In the context of modern C, encapsulation is more about controlling access to the data and implementation details within a module, while modularity is about breaking down the software into smaller, reusable components that can be developed and maintained independently. Both principles are important for creating clear, maintainable, and efficient software systems."
   ]
  },
  {
   "cell_type": "markdown",
   "id": "3d455593-3cd9-4cad-9f70-71b10f3bea0b",
   "metadata": {},
   "source": [
    "### Opaque pointers"
   ]
  },
  {
   "cell_type": "markdown",
   "id": "d17292c2-f311-4aed-b133-c451e476b9a4",
   "metadata": {},
   "source": [
    "_ChatGPT:_  \n",
    "In modern C programming, **opaque pointers** (непрозрачные указатели) are a technique used to hide the details of a data structure or object from the user. This is done by defining a pointer to a data type without revealing the actual structure of the type. This allows the implementation details to be hidden, making the code more secure and maintainable.\n",
    "\n",
    "Opaque pointers are commonly associated with the use of abstract data types and are often used in libraries and APIs to provide a level of encapsulation and information hiding. By using opaque pointers, developers can prevent direct access to the internal data of a type, enforcing encapsulation and modularity in their programs. This can also help prevent unintended manipulation and potential errors.\n",
    "\n",
    "Suppose we have a library that provides a data structure called \"List\" which we want to keep private and only allow access to it through functions provided by the library. To achieve this, we can use opaque pointers.\n",
    "\n",
    "Here's an example of how this can be implemented:\n",
    "\n",
    "```c\n",
    "// list.h\n",
    "typedef struct ListImpl List;\n",
    "\n",
    "List* create_list();\n",
    "void add_to_list(List* list, int value);\n",
    "void remove_from_list(List* list, int value);\n",
    "void free_list(List* list);\n",
    "```\n",
    "\n",
    "```c\n",
    "// list.c\n",
    "#include \"list.h\"\n",
    "#include <stdlib.h>\n",
    "\n",
    "struct ListImpl {\n",
    "  int data[100];\n",
    "  int size;\n",
    "};\n",
    "\n",
    "List* create_list() {\n",
    "  List* list = (List*)malloc(sizeof(List));\n",
    "  list->size = 0;\n",
    "  return list;\n",
    "}\n",
    "\n",
    "void add_to_list(List* list, int value) {\n",
    "  list->data[list->size] = value;\n",
    "  list->size++;\n",
    "}\n",
    "\n",
    "void remove_from_list(List* list, int value) {\n",
    "  // implementation for removing from list\n",
    "}\n",
    "\n",
    "void free_list(List* list) {\n",
    "  free(list);\n",
    "}\n",
    "```\n",
    "\n",
    "In this example, the structure `ListImpl` is defined internally in `list.c`, where the implementation details are hidden from the user of the library. In `list.h`, we declare an opaque pointer `List` without revealing its internal structure. The user can only access the `List` type through the functions provided by the library, such as `create_list`, `add_to_list`, and `remove_from_list`.\n",
    "\n",
    "By using opaque pointers in this way, the internal details of the `List` data structure are hidden, providing encapsulation and information hiding. This prevents direct access to the internal data of the `List`, improving the maintainability and security of the library."
   ]
  },
  {
   "cell_type": "markdown",
   "id": "e6d39eec-7a75-420d-b716-fa8b84b8e15c",
   "metadata": {},
   "source": [
    "### Exercise 1-20"
   ]
  },
  {
   "cell_type": "markdown",
   "id": "f1fab6e0-c7ac-4924-b726-db6ab2fd6015",
   "metadata": {},
   "source": [
    "Write a program `detab` that replaces tabs in the input with the proper number of blanks to space to the next tab stop. Assume a fixed set of tab stops, say every `n` columns. Should `n` be a variable or a symbolic parameter?"
   ]
  },
  {
   "cell_type": "code",
   "execution_count": null,
   "id": "325340c6-225b-47c9-9b7b-56a97c91de88",
   "metadata": {
    "execution": {
     "iopub.execute_input": "2024-01-24T20:04:05.308173Z",
     "iopub.status.busy": "2024-01-24T20:04:05.307788Z",
     "iopub.status.idle": "2024-01-24T20:04:05.551045Z"
    },
    "tags": []
   },
   "outputs": [],
   "source": [
    "#include <stdio.h>\n",
    "\n",
    "#define MAXLINE 1000\n",
    "#define TAB 4\n",
    "\n",
    "int get_line(char line[], int limit);\n",
    "void detab(char new_line[], char old_line[], int tab_length);\n",
    "\n",
    "\n",
    "int main()\n",
    "{\n",
    "\tchar raw_line[MAXLINE], correct_line[MAXLINE];\n",
    "\tint len, i;\n",
    "\n",
    "\tfor (i = 0; (len=get_line(raw_line, MAXLINE)) > 0; ++i)\n",
    "\t\tdetab(correct_line, raw_line, TAB);\n",
    "\n",
    "\t/* I want the result on new line in case of EOF without '\\n' */\n",
    "\tif (len == 0)\n",
    "\t\tprintf(\"\\n\");\n",
    "\tprintf(\"%s\\n\", correct_line);\n",
    "\n",
    "\treturn 0;\n",
    "}\n",
    "\n",
    "\n",
    "int get_line(char line[], int limit)\n",
    "{\n",
    "\tint c, i;\n",
    "\n",
    "\tfor (i = 0; i<limit-1 && (c = getchar())!='\\n' && c != EOF; ++i)\n",
    "\t\tline[i] = c;\n",
    "\tline[i] = '\\0';\n",
    "\n",
    "\treturn i;\n",
    "}\n",
    "\n",
    "\n",
    "void detab(char new_line[], char old_line[], int tab_length)\n",
    "{\n",
    "\tint c, i, j, k;  /* j counts chars for new_line, k counts spaces */\n",
    "\n",
    "\tj = 0;\n",
    "\tfor (i = 0; (c = old_line[i])!= EOF && c!='\\0'; ++i) {\n",
    "\t\tif (c == '\\t') {\n",
    "\t\t\tfor (k = 0; k < tab_length; ++k) {\n",
    "\t\t\t\tnew_line[j] = ' ';\n",
    "\t\t\t\t++j;\n",
    "\t\t\t}\n",
    "\t\t\tcontinue;\n",
    "\t\t}\n",
    "\t\tnew_line[j] = c;\n",
    "\t\t++j;\n",
    "\t}\n",
    "\tnew_line[j] = '\\0';\n",
    "}"
   ]
  },
  {
   "cell_type": "markdown",
   "id": "c98a56e2-a1fa-4d40-a5b8-bac634e9a8d3",
   "metadata": {},
   "source": [
    "```\n",
    "./a.out\n",
    "Input: (a\\ta  \\ta\\t  )\n",
    "a       a       a         a\n",
    "\n",
    "Output: (a4a6a6)\n",
    "a    a      a      a\n",
    "```"
   ]
  },
  {
   "cell_type": "markdown",
   "id": "d5e0cefc-13aa-4e29-9e43-df67ea1f35f9",
   "metadata": {},
   "source": [
    "### Exercise 1-21"
   ]
  },
  {
   "cell_type": "markdown",
   "id": "a58e43e6-2e11-45f7-bca6-0ec7500a2174",
   "metadata": {},
   "source": [
    "Write a program `entab` that replaces strings of blanks by the minimum number of tabs and blanks to achieve the same spacing. Use the same tab stops as for `detab`. When either a tab or a single blank would suffice to reach a tab stop, which should be given preference?\n",
    "\n",
    "I use hyphens instead of blanks to clearly see what is happening:"
   ]
  },
  {
   "cell_type": "code",
   "execution_count": null,
   "id": "654f68f4-0c08-40fd-89e4-ce7d05754671",
   "metadata": {
    "execution": {
     "iopub.execute_input": "2024-01-24T21:44:25.900229Z",
     "iopub.status.busy": "2024-01-24T21:44:25.899763Z",
     "iopub.status.idle": "2024-01-24T21:44:26.084059Z"
    },
    "tags": []
   },
   "outputs": [],
   "source": [
    "#include <stdio.h>\n",
    "\n",
    "#define TAB 4\n",
    "#define MAXLINE 1000\n",
    "\n",
    "int get_line(char line[], int limit);\n",
    "void detab(char new_line[], char old_line[], int tab_length);\n",
    "void entab (char new_line[], char old_line[], int tab_lenght);\n",
    "\n",
    "\n",
    "int main()\n",
    "{\n",
    "\tchar raw_line[MAXLINE], correct_line[MAXLINE];\n",
    "\tint len, i;\n",
    "\n",
    "\tfor (i = 0; (len=get_line(raw_line, MAXLINE)) > 0; ++i)\n",
    "\t\tentab(correct_line, raw_line, TAB);\n",
    "\n",
    "\t/* I want the result on new line in case of EOF without '\\n'*/\n",
    "\tif (len == 0)\n",
    "\t\tprintf(\"\\n\");\n",
    "\n",
    "\tprintf(\"%s\\n\", correct_line);\n",
    "\n",
    "\treturn 0;\n",
    "}\n",
    "\n",
    "\n",
    "int get_line(char line[], int limit)\n",
    "{\n",
    "\tint c, i;\n",
    "\n",
    "\tfor (i = 0; i<limit-1 && (c = getchar())!='\\n' && c != EOF; ++i)\n",
    "\t\tline[i] = c;\n",
    "\tline[i] = '\\0';\n",
    "\n",
    "\treturn i;\n",
    "}\n",
    "\n",
    "\n",
    "void entab (char new_line[], char old_line[], int tab_length)\n",
    "{\n",
    "\tint c, prev_c;    /* current and previous chars */\n",
    "    int\ti, j;    /* i is for old_line and j is for new_line */\n",
    "    int\tcount;    /* count blanks */\n",
    "\n",
    "\tprev_c = -1;  /* -1 is certainly is not in ASCII table */\n",
    "\tj = 0;\n",
    "\tcount = 1;\n",
    "\n",
    "\tfor (i = 0; (c=old_line[i])!=EOF && c!='\\0'; ++i) {\n",
    "\t\tif (c == '-' && prev_c == '-') {\n",
    "\t\t\t++count;\n",
    "\t\t\tif (count == tab_length) {\n",
    "\t\t\t\tj -= tab_length - 1;\t\t/* indexing starts from 0 */\n",
    "\t\t\t\tc = '\\t';\n",
    "\t\t\t\tcount = 1;\n",
    "\t\t\t}\n",
    "\t\t}\n",
    "\t\telse\n",
    "\t\t\tcount = 1;\n",
    "\t\tnew_line[j] = c;\n",
    "\t\tprev_c = c;\n",
    "\t\t++j;\n",
    "\t}\n",
    "\tnew_line[j] = '\\0';\n",
    "}"
   ]
  },
  {
   "cell_type": "markdown",
   "id": "6e2a5c11-8971-43e9-9e96-3dd84aee3ad6",
   "metadata": {},
   "source": [
    "```\n",
    "$ ./a.out\n",
    "-----a----a\n",
    "        -a      a\n",
    "```"
   ]
  },
  {
   "cell_type": "markdown",
   "id": "d1942b1a-7b36-443b-b526-d2b7ce55040f",
   "metadata": {},
   "source": [
    "Bash terminal uses 8 spaces for a tab and sometimes it behaves in a very strange manner, for example, it can use 3 or even 2 spaces instead of 8 in the middle of the string, like here:"
   ]
  },
  {
   "cell_type": "markdown",
   "id": "cafcaf7d-39f5-4c31-81e5-5c1a653a9e27",
   "metadata": {},
   "source": [
    "```\n",
    "$ ./a.out\n",
    "----a------b--c----d--e\n",
    "        a       --b--c  d--e\n",
    "```\n",
    "or \n",
    "```\n",
    "$ ./a.out\n",
    "----a--b----c--d----e\n",
    "        a--b    c--d    e\n",
    "```\n",
    "but:\n",
    "```\n",
    "$ ./a.out\n",
    "---a----b----c----d----e\n",
    "        a       b       c       d       e\n",
    "```\n",
    "\n",
    "_ChatGPT:_  \n",
    "Tab spacing can be a problem in computing, particularly when it comes to displaying and formatting text. The use of tabs for indentation and spacing can lead to inconsistencies in the way text is displayed, especially when different programs or systems interpret tab characters differently.\n",
    "\n",
    "To mitigate these issues, many coding style guides and best practices recommend using spaces for indentation and spacing rather than tabs. This helps ensure consistent and uniform formatting across different platforms and text editors.\n",
    "\n",
    "Using spaces for indentation also helps maintain the readability and consistency of code, as it reduces the risk of formatting issues when sharing code with others or when working on different systems.\n",
    "\n",
    "While the use of tabs versus spaces is a longstanding debate in the programming community, the guidance to use spaces for indentation is aimed at improving the readability and maintainability of code in different environments."
   ]
  },
  {
   "cell_type": "markdown",
   "id": "cd573985-1a55-4773-87c7-839c77d0ae82",
   "metadata": {},
   "source": [
    "### Exercise 1-22"
   ]
  },
  {
   "cell_type": "markdown",
   "id": "b7e5fde9-73ea-4cd8-890d-7add61a28aec",
   "metadata": {},
   "source": [
    "Write a program to “fold” long input lines into two or more shorter lines after the last non-blank character that occurs before the `n`-th column of input. Make sure your program does something intelligent with very long lines, and if there are no blanks or tabs before the specified column."
   ]
  },
  {
   "cell_type": "code",
   "execution_count": 1,
   "id": "91ae33dc-f231-47d3-a2e4-a03191423fd5",
   "metadata": {
    "execution": {
     "iopub.execute_input": "2024-01-29T20:42:28.138013Z",
     "iopub.status.busy": "2024-01-29T20:42:28.137165Z",
     "iopub.status.idle": "2024-01-29T20:42:28.202135Z",
     "shell.execute_reply": "2024-01-29T20:42:28.201440Z",
     "shell.execute_reply.started": "2024-01-29T20:42:28.137963Z"
    },
    "tags": []
   },
   "outputs": [],
   "source": [
    "#include <stdio.h>\n",
    "\n",
    "#define TAB 4\n",
    "#define MAXLINE 1000\n",
    "#define NCOLUMN 40\n",
    "\n",
    "int get_line(char line[], int limit);\n",
    "void detab(char new_line[], char old_line[], int tab_length);\n",
    "void wrap_line(char new_line[], char old_line[], int line_length, int n_column);\n",
    "\n",
    "\n",
    "int main()\n",
    "{\n",
    "\tint len;\n",
    "\tchar line[MAXLINE], detabbed_line[MAXLINE*2], wrapped_line[MAXLINE*2];\n",
    "\n",
    "\twhile ((len=get_line(line, MAXLINE)) > 0) {\n",
    "\t\tdetab(detabbed_line, line, TAB);\n",
    "\t\twrap_line(wrapped_line, detabbed_line, len, NCOLUMN);\n",
    "\t\tprintf(\"%s\\n\", wrapped_line);\n",
    "\t}\n",
    "\treturn 0;\n",
    "}\n",
    "\n",
    "\n",
    "int get_line(char line[], int limit)\n",
    "{\n",
    "\tint c, i;\n",
    "\n",
    "\tfor (i = 0; i<limit-1 && (c = getchar())!='\\n' && c != EOF; ++i)\n",
    "\t\tline[i] = c;\n",
    "\tline[i] = '\\0';\n",
    "\n",
    "\treturn i;\n",
    "}\n",
    "\n",
    "\n",
    "void detab(char new_line[], char old_line[], int tab_length)\n",
    "{\n",
    "\tint c, i, j, k;  /* j counts chars for new_line, k counts spaces */\n",
    "\n",
    "\tj = 0;\n",
    "\tfor (i = 0; (c = old_line[i])!= EOF && c!='\\0'; ++i) {\n",
    "\t\tif (c == '\\t') {\n",
    "\t\t\tfor (k = 0; k < tab_length; ++k) {\n",
    "\t\t\t\tnew_line[j] = ' ';\n",
    "\t\t\t\t++j;\n",
    "\t\t\t}\n",
    "\t\t\tcontinue;\n",
    "\t\t}\n",
    "\t\tnew_line[j] = c;\n",
    "\t\t++j;\n",
    "\t}\n",
    "\tnew_line[j] = '\\0';\n",
    "}\n",
    "\n",
    "\n",
    "void wrap_line(char new_line[], char old_line[], int line_length, int n_column)\n",
    "{\n",
    "\tint c, end_c;  /* current char and end char of the short line */\n",
    "\tint i, j;  /* counters for old and new lines respectively */\n",
    "\tint line_end;  /* helps to find the end of the short line */\n",
    "\tint keeper;  /* keeps the last end_line value */\n",
    "\tint problem_line;  /* the flag indicates there are no blanks in the short line */\n",
    "\n",
    "\tkeeper = line_end = n_column;\n",
    "\tproblem_line = 0;\n",
    "\tj = 0;  /* normally j == i, but we will need it in case of problem lines */\n",
    "\n",
    "\t/* loop through old line */\n",
    "\tfor (i = 0; (c=old_line[i])!='\\0' && c!=EOF; ++i, ++j) {\n",
    "\t\t/* find the end of new line, this is the blank or null terminator */\n",
    "\t\tif (!problem_line)\n",
    "\t\t\twhile ((end_c=old_line[line_end]) != ' ' && end_c!='\\0')\n",
    "\t\t\t\t--line_end;\n",
    "\t\t/* in case the short line does not contain blanks */\n",
    "\t\tif (line_end == -1) {\n",
    "\t\t\tline_end = keeper;  /* restore the line_end */\n",
    "\t\t\tproblem_line = 1;  /* mark the problem */\n",
    "\t\t}\n",
    "\t\t/* put \\n at the end of the current line_end */\n",
    "\t\tif (i == line_end) {\n",
    "\t\t\tnew_line[j] = '\\n';\n",
    "\t\t\t/* emergency plan for a problem line */\n",
    "\t\t\tif (problem_line) {\n",
    "\t\t\t\t--j;\n",
    "\t\t\t\tnew_line[j] = '-';\n",
    "\t\t\t\t++j;\n",
    "\t\t\t\ti -= 2;  /* we had to substitute 2 non blank chars with '-'\n",
    "\t\t\t\t\t\t\tand \\n */\n",
    "\t\t\t\tproblem_line = 0;\n",
    "\t\t\t}\n",
    "\t\t\tkeeper = line_end += n_column-1;\n",
    "\t\t\tcontinue;\n",
    "\t\t}\n",
    "\t\tnew_line[j] = c;\n",
    "\t}\n",
    "\t/* finish the whole expression */\n",
    "\tnew_line[j] = '\\0';\n",
    "}"
   ]
  },
  {
   "cell_type": "markdown",
   "id": "2925fee9-472b-470a-ad12-1f6f34114be3",
   "metadata": {},
   "source": [
    "```\n",
    "./a.out \n",
    "\n",
    "Input: \n",
    "Tab spacing can be a problem in computing, particularly when it comes to displaying and formatting text. The use of tabs for indentation and spacing can lead to inconsistencies in the way text is displayed, especially when different programs or systems interpret tab characters differently.\n",
    "\n",
    "Output:\n",
    "Tab spacing can be a problem in\n",
    "computing, particularly when it comes\n",
    "to displaying and formatting text. The\n",
    "use of tabs for indentation and\n",
    "spacing can lead to inconsistencies in\n",
    "the way text is displayed, especially\n",
    "when different programs or systems\n",
    "interpret tab characters differently.\n",
    "\n",
    "./a.out \n",
    "\n",
    "Input: \n",
    "Tabspacingcanbeaproblemincomputing,particularlywhenitcomestodisplayingandformattingtext.Theuseoftabsforindentationandspacingcanleadtoinconsistenciesin the way text is displayed, especially when different programs or systems interpret tab characters differently.\n",
    "\n",
    "Output:\n",
    "Tabspacingcanbeaproblemincomputing,part-\n",
    "icularlywhenitcomestodisplayingandforma-\n",
    "ttingtext.Theuseoftabsforindentationand-\n",
    "spacingcanleadtoinconsistenciesin the\n",
    "way text is displayed, especially when\n",
    "different programs or systems\n",
    "interpret tab characters differently.\n",
    "\n",
    "./a.out \n",
    "\n",
    "Input: \n",
    "Tab spacing     can be a problem in computing, particularly when it comes to displaying         and formatting text. The use of tabs for indentation and spacing can lead to inconsistencies in the way text is displayed,                         especially when different programs or systems interpret tab characters differently.\n",
    "\n",
    "Output:\n",
    "Tab spacing    can be a problem in\n",
    "computing, particularly when it comes\n",
    "to displaying        and formatting\n",
    "text. The use of tabs for indentation\n",
    "and spacing can lead to\n",
    "inconsistencies in the way text is\n",
    "displayed,             especially when\n",
    "different programs or systems\n",
    "interpret tab characters differently.\n",
    "```"
   ]
  },
  {
   "cell_type": "markdown",
   "id": "6e92b848-0635-4228-96f4-5a6c05917515",
   "metadata": {},
   "source": [
    "### Exercise 1-23"
   ]
  },
  {
   "cell_type": "markdown",
   "id": "7bf665e8-2029-4a93-8ea1-bdf8be0a2f08",
   "metadata": {},
   "source": [
    "Write a program to remove all comments from a C program. Don’t forget to handle quoted strings and character constants properly. C comments do not nest."
   ]
  },
  {
   "cell_type": "code",
   "execution_count": null,
   "id": "9c8abe4d-497b-4986-8cbd-75eed31d3446",
   "metadata": {},
   "outputs": [],
   "source": []
  },
  {
   "cell_type": "markdown",
   "id": "1d7f23dc-def6-4474-8151-1800427a7f7c",
   "metadata": {},
   "source": [
    "### Exercise 1-24"
   ]
  },
  {
   "cell_type": "markdown",
   "id": "bf8e91cb-301c-406e-b54d-e0022a491b01",
   "metadata": {},
   "source": [
    "Write a program to check a C program for rudimentary syntax errors like unbalanced parentheses, brackets and braces. Don’t forget about quotes, both single and double, escape sequences, and comments. (This program is hard if you do it in full generality.)"
   ]
  },
  {
   "cell_type": "markdown",
   "id": "261b0b8a-0ec3-4162-923a-e299ed73b43a",
   "metadata": {},
   "source": []
  },
  {
   "cell_type": "markdown",
   "id": "0ed573ac-cdad-4be0-810c-933f7892ba91",
   "metadata": {},
   "source": []
  },
  {
   "cell_type": "markdown",
   "id": "f3d06f98-0ea0-4cec-8231-d7448dd10d86",
   "metadata": {},
   "source": []
  },
  {
   "cell_type": "markdown",
   "id": "8036bd24-27f5-4e29-a9fc-cda668592955",
   "metadata": {},
   "source": []
  },
  {
   "cell_type": "markdown",
   "id": "ac4dc1b4-da3f-46f9-8730-26f449fc2b1e",
   "metadata": {},
   "source": []
  },
  {
   "cell_type": "markdown",
   "id": "55fe1390-1cfd-43df-bcaf-99740dd18453",
   "metadata": {},
   "source": []
  },
  {
   "cell_type": "markdown",
   "id": "f695ff83-1996-4c24-be47-4d1c91fccc20",
   "metadata": {},
   "source": []
  },
  {
   "cell_type": "markdown",
   "id": "10479914-7d67-4d29-b4d5-99679e3b0412",
   "metadata": {},
   "source": []
  },
  {
   "cell_type": "markdown",
   "id": "c6db8691-a6f7-41a5-bb6d-3562e5d319bc",
   "metadata": {},
   "source": []
  },
  {
   "cell_type": "markdown",
   "id": "cbce9ab9-d306-4a8f-8716-f931f7a65256",
   "metadata": {},
   "source": []
  },
  {
   "cell_type": "markdown",
   "id": "2627b0b1-b0ce-45b5-b24b-259deb48e471",
   "metadata": {},
   "source": []
  },
  {
   "cell_type": "markdown",
   "id": "f2995214-e66a-4bac-a24b-5fb1b41b6dfb",
   "metadata": {},
   "source": []
  },
  {
   "cell_type": "markdown",
   "id": "88e22d99-3a42-4f0b-bc2b-ff63f17323f9",
   "metadata": {},
   "source": []
  },
  {
   "cell_type": "markdown",
   "id": "499294e8-116e-4ab0-b1bd-14ff680c8ce8",
   "metadata": {},
   "source": []
  },
  {
   "cell_type": "markdown",
   "id": "ae6fd70c-08ec-4b18-abed-9d58b4081ac2",
   "metadata": {},
   "source": []
  },
  {
   "cell_type": "markdown",
   "id": "b2f4a127-23d6-4e2f-af94-b2bce4a6f54a",
   "metadata": {},
   "source": []
  },
  {
   "cell_type": "markdown",
   "id": "74f999aa-d910-4e4a-9ed0-2f0a23150711",
   "metadata": {},
   "source": []
  },
  {
   "cell_type": "markdown",
   "id": "62fa98a9-bc09-4fd3-ac6e-57a040670e00",
   "metadata": {},
   "source": []
  },
  {
   "cell_type": "markdown",
   "id": "313d2fc3-95ef-4231-8ef3-68427b14e98e",
   "metadata": {},
   "source": []
  },
  {
   "cell_type": "markdown",
   "id": "5a6f8150-19d2-4b34-86e1-32ecdd3c514d",
   "metadata": {},
   "source": []
  },
  {
   "cell_type": "markdown",
   "id": "7d458ebe-ca29-4b4f-b34a-48235e08a78c",
   "metadata": {},
   "source": []
  },
  {
   "cell_type": "markdown",
   "id": "61641fce-65a5-4b05-9f8f-31d4c702d71c",
   "metadata": {},
   "source": []
  },
  {
   "cell_type": "markdown",
   "id": "74f8ec95-c300-42dc-a2c4-7334d39a6b01",
   "metadata": {},
   "source": []
  },
  {
   "cell_type": "markdown",
   "id": "060100a1-0e27-48c9-81e0-cc0b6c7f1cc5",
   "metadata": {},
   "source": []
  },
  {
   "cell_type": "markdown",
   "id": "6c83f166-a48e-4247-a3d6-3719a8a46fe8",
   "metadata": {},
   "source": []
  },
  {
   "cell_type": "markdown",
   "id": "e42d4f02-2bab-4b0d-8454-4377de7acbfb",
   "metadata": {},
   "source": []
  },
  {
   "cell_type": "markdown",
   "id": "b2973599-0209-4036-8621-82cb5adea270",
   "metadata": {},
   "source": []
  },
  {
   "cell_type": "markdown",
   "id": "91a10c86-6e27-4bb8-b329-096140158df2",
   "metadata": {},
   "source": []
  },
  {
   "cell_type": "markdown",
   "id": "38633af6-c313-4123-af0c-29ea3cc6d6af",
   "metadata": {},
   "source": []
  },
  {
   "cell_type": "markdown",
   "id": "0a83add2-bf32-4416-ac59-fa50bf075331",
   "metadata": {},
   "source": []
  },
  {
   "cell_type": "markdown",
   "id": "db42209d-7e00-4841-9824-562734c28348",
   "metadata": {},
   "source": []
  },
  {
   "cell_type": "markdown",
   "id": "31ce1cd4-5419-41c2-9d96-3881fd9979fc",
   "metadata": {},
   "source": []
  },
  {
   "cell_type": "markdown",
   "id": "de249140-cc11-44a0-9de4-0f2d59d17eae",
   "metadata": {},
   "source": []
  },
  {
   "cell_type": "markdown",
   "id": "8cf4cb0b-2daf-44d1-9053-fd20c608f289",
   "metadata": {},
   "source": []
  },
  {
   "cell_type": "markdown",
   "id": "f8e46444-72a0-4426-8294-b698db61ec76",
   "metadata": {},
   "source": []
  },
  {
   "cell_type": "markdown",
   "id": "dd9395a3-55d7-4f19-a77a-f4c9bb870001",
   "metadata": {},
   "source": []
  },
  {
   "cell_type": "markdown",
   "id": "e0af5610-aa28-4ce9-b56c-69bee0cefee5",
   "metadata": {},
   "source": []
  },
  {
   "cell_type": "markdown",
   "id": "525ab8a8-4001-477b-9425-95085736e2a2",
   "metadata": {},
   "source": []
  },
  {
   "cell_type": "markdown",
   "id": "fc0986dd-7b43-44bb-8b2d-3df912cfecbb",
   "metadata": {},
   "source": []
  },
  {
   "cell_type": "markdown",
   "id": "9cc34e47-dcc1-4be4-8f38-77dc679d68b3",
   "metadata": {},
   "source": []
  },
  {
   "cell_type": "markdown",
   "id": "4e1080a5-d5c7-47f7-8629-c2fa82bbbe3f",
   "metadata": {},
   "source": []
  },
  {
   "cell_type": "markdown",
   "id": "3130d463-f050-4617-b5cc-d60b8e9d31f2",
   "metadata": {},
   "source": []
  },
  {
   "cell_type": "markdown",
   "id": "e26cf57a-6fcc-4eff-b6ad-5c6c093da96c",
   "metadata": {},
   "source": []
  },
  {
   "cell_type": "markdown",
   "id": "fdc206e9-66d9-49f2-a8f9-944a51c46230",
   "metadata": {},
   "source": []
  },
  {
   "cell_type": "markdown",
   "id": "4c06629d-e7dd-43d4-a239-004b7266bfff",
   "metadata": {},
   "source": []
  },
  {
   "cell_type": "markdown",
   "id": "4298f68b-3491-4502-a2e0-a4d91f6ff496",
   "metadata": {},
   "source": []
  },
  {
   "cell_type": "markdown",
   "id": "64696711-88d7-48e7-ba4a-dc7992f180c4",
   "metadata": {},
   "source": []
  },
  {
   "cell_type": "markdown",
   "id": "7730d20e-c357-45f9-8fdf-a989ccc0fecf",
   "metadata": {},
   "source": []
  },
  {
   "cell_type": "markdown",
   "id": "cdb6cb65-e813-49ca-90d3-089c4d5d7ee1",
   "metadata": {},
   "source": []
  },
  {
   "cell_type": "markdown",
   "id": "c3710987-b246-406e-aed1-5aeca0b9658d",
   "metadata": {},
   "source": []
  },
  {
   "cell_type": "markdown",
   "id": "9721b5c0-5768-4801-a63c-1badf85bc517",
   "metadata": {},
   "source": []
  },
  {
   "cell_type": "markdown",
   "id": "4bc009f4-5370-4dd8-9aca-3ee9c89a33e9",
   "metadata": {},
   "source": []
  },
  {
   "cell_type": "markdown",
   "id": "12f9b797-1920-47fa-8964-c94284f27b4d",
   "metadata": {},
   "source": []
  },
  {
   "cell_type": "markdown",
   "id": "bfa292b4-81be-447e-810f-6f47672e65aa",
   "metadata": {},
   "source": []
  },
  {
   "cell_type": "markdown",
   "id": "a2ec6bdb-be69-43c8-9147-ede6e92efc53",
   "metadata": {},
   "source": []
  },
  {
   "cell_type": "markdown",
   "id": "04ce4fc7-b93e-48cb-a2ae-547b2c74dfb8",
   "metadata": {},
   "source": []
  },
  {
   "cell_type": "markdown",
   "id": "8a6608f2-5aef-40b5-bde0-1333ff9ad3d7",
   "metadata": {},
   "source": []
  },
  {
   "cell_type": "markdown",
   "id": "b20db7bd-b7ad-4a6e-9313-df111d76d160",
   "metadata": {},
   "source": []
  },
  {
   "cell_type": "markdown",
   "id": "96104cc9-bfc9-4dce-9789-06a9626a8c55",
   "metadata": {},
   "source": []
  },
  {
   "cell_type": "markdown",
   "id": "03a319e4-db4c-4234-b32d-436c58353476",
   "metadata": {},
   "source": []
  },
  {
   "cell_type": "markdown",
   "id": "9c08e4dd-8308-4702-8423-4d5340f27588",
   "metadata": {},
   "source": []
  },
  {
   "cell_type": "markdown",
   "id": "339bf072-6f8e-445d-b6aa-c7ef476b52c9",
   "metadata": {},
   "source": []
  },
  {
   "cell_type": "markdown",
   "id": "ab40f08d-5edf-4a4d-9fef-b8b22b4c0644",
   "metadata": {},
   "source": []
  },
  {
   "cell_type": "markdown",
   "id": "897acf76-dbec-4d5e-adeb-c19cd9871392",
   "metadata": {},
   "source": []
  },
  {
   "cell_type": "markdown",
   "id": "cb30b4fd-6209-48d8-ba09-da034f8d988b",
   "metadata": {},
   "source": []
  },
  {
   "cell_type": "markdown",
   "id": "22117ca4-c677-4f94-ae13-c8ac0cf131e3",
   "metadata": {},
   "source": []
  },
  {
   "cell_type": "markdown",
   "id": "1d3c2e3d-8e46-48c5-8a8d-3b64ba72dd75",
   "metadata": {},
   "source": []
  },
  {
   "cell_type": "markdown",
   "id": "328e28bf-1547-4141-bb44-3518cc9c3e3d",
   "metadata": {},
   "source": []
  },
  {
   "cell_type": "markdown",
   "id": "4e280772-8118-40cd-bcd6-909841abe2d4",
   "metadata": {},
   "source": []
  },
  {
   "cell_type": "markdown",
   "id": "95b6856a-607a-4437-a3c1-703348bae9fc",
   "metadata": {},
   "source": []
  },
  {
   "cell_type": "markdown",
   "id": "cdc85b0d-6c47-4d3a-ae6b-588e15a2fe2c",
   "metadata": {},
   "source": []
  },
  {
   "cell_type": "markdown",
   "id": "c87d1aca-b7f4-4900-be9c-cad85d9005ff",
   "metadata": {},
   "source": []
  },
  {
   "cell_type": "markdown",
   "id": "db84e25b-b00b-45b3-9bcb-70299e41dd79",
   "metadata": {},
   "source": []
  },
  {
   "cell_type": "markdown",
   "id": "98b8e8c2-72f5-4f30-a196-0a3053bb330e",
   "metadata": {},
   "source": []
  },
  {
   "cell_type": "markdown",
   "id": "2d308244-6c46-4048-be06-ab55ef98f328",
   "metadata": {},
   "source": []
  },
  {
   "cell_type": "markdown",
   "id": "9757c92d-016a-474e-be37-dd94c383c625",
   "metadata": {},
   "source": []
  },
  {
   "cell_type": "markdown",
   "id": "9b940365-7300-4215-a406-a71709ecb230",
   "metadata": {},
   "source": []
  },
  {
   "cell_type": "markdown",
   "id": "09cd84b7-dac5-4893-a4f1-87af68163d76",
   "metadata": {},
   "source": []
  },
  {
   "cell_type": "markdown",
   "id": "2bd9a380-7886-4340-80b1-ff14e7db7e92",
   "metadata": {},
   "source": []
  },
  {
   "cell_type": "markdown",
   "id": "76b36dde-2ef0-4a17-a3c7-043804df6467",
   "metadata": {},
   "source": []
  },
  {
   "cell_type": "markdown",
   "id": "7b6d60c5-2391-4776-8e3c-24b1572d2a52",
   "metadata": {},
   "source": []
  },
  {
   "cell_type": "code",
   "execution_count": null,
   "id": "581daf73-b0a1-4e36-a7c2-2c11c4251bcc",
   "metadata": {},
   "outputs": [],
   "source": []
  },
  {
   "cell_type": "code",
   "execution_count": null,
   "id": "9a87f126-a2d6-4fa7-88f1-9802d9f3429e",
   "metadata": {},
   "outputs": [],
   "source": []
  },
  {
   "cell_type": "code",
   "execution_count": null,
   "id": "8a35f6b8-c852-4902-a08c-03305a380b8d",
   "metadata": {},
   "outputs": [],
   "source": []
  },
  {
   "cell_type": "code",
   "execution_count": null,
   "id": "9fdef2a3-36b6-42e7-9956-88eb29e3c128",
   "metadata": {},
   "outputs": [],
   "source": []
  },
  {
   "cell_type": "code",
   "execution_count": null,
   "id": "8901977a-ac7f-4e89-9108-4acb1a21649c",
   "metadata": {},
   "outputs": [],
   "source": []
  },
  {
   "cell_type": "code",
   "execution_count": null,
   "id": "9cc582a2-0964-47c6-b9f7-329b125e228d",
   "metadata": {},
   "outputs": [],
   "source": []
  }
 ],
 "metadata": {
  "kernelspec": {
   "display_name": "C",
   "language": "c",
   "name": "c"
  },
  "language_info": {
   "file_extension": ".c",
   "mimetype": "text/plain",
   "name": "c"
  }
 },
 "nbformat": 4,
 "nbformat_minor": 5
}
